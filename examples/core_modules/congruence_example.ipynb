{
 "cells": [
  {
   "cell_type": "markdown",
   "metadata": {},
   "source": [
    "### Data preprocessing\n",
    "\n",
    "Usage of FeatureExtractor from the expert/data folder to transcribe audio, get speech time intervals, and extract faces"
   ]
  },
  {
   "cell_type": "code",
   "execution_count": 1,
   "metadata": {},
   "outputs": [
    {
     "name": "stderr",
     "output_type": "stream",
     "text": [
      "/home/ismirnov/.conda-envs/segmentation/lib/python3.8/site-packages/tqdm/auto.py:22: TqdmWarning: IProgress not found. Please update jupyter and ipywidgets. See https://ipywidgets.readthedocs.io/en/stable/user_install.html\n",
      "  from .autonotebook import tqdm as notebook_tqdm\n",
      "[nltk_data] Downloading package omw-1.4 to /home/ismirnov/nltk_data...\n",
      "[nltk_data]   Package omw-1.4 is already up-to-date!\n"
     ]
    }
   ],
   "source": [
    "import torch\n",
    "import pandas as pd\n",
    "\n",
    "from expert.data.feature_extractor import FeatureExtractor\n",
    "from expert.data.annotation.speech_to_text import get_phrases"
   ]
  },
  {
   "cell_type": "code",
   "execution_count": 9,
   "metadata": {},
   "outputs": [],
   "source": [
    "video_path = \"mj_test.mp4\""
   ]
  },
  {
   "cell_type": "code",
   "execution_count": 3,
   "metadata": {},
   "outputs": [
    {
     "name": "stderr",
     "output_type": "stream",
     "text": [
      "INFO: Created TensorFlow Lite XNNPACK delegate for CPU.\n"
     ]
    }
   ],
   "source": [
    "feature_extractor = FeatureExtractor(video_path=video_path, stt_mode=\"local\", device=torch.device(\"cpu\"))"
   ]
  },
  {
   "cell_type": "markdown",
   "metadata": {},
   "source": [
    "Feature extraction. get_features method returns the path to the folder with the reports which are json files with the features. "
   ]
  },
  {
   "cell_type": "code",
   "execution_count": 4,
   "metadata": {},
   "outputs": [
    {
     "name": "stderr",
     "output_type": "stream",
     "text": [
      "Lightning automatically upgraded your loaded checkpoint from v1.5.4 to v1.9.4. To apply the upgrade to your files permanently, run `python -m pytorch_lightning.utilities.upgrade_checkpoint --file ../../../home/ismirnov/.cache/torch/pyannote/models--pyannote--segmentation/snapshots/c4c8ceafcbb3a7a280c2d357aee9fbc9b0be7f9b/pytorch_model.bin`\n",
      "100%|██████████| 1/1 [00:59<00:00, 59.41s/it]\n"
     ]
    }
   ],
   "source": [
    "features_path = feature_extractor.get_features()"
   ]
  },
  {
   "cell_type": "markdown",
   "metadata": {},
   "source": [
    "### Transcribation"
   ]
  },
  {
   "cell_type": "code",
   "execution_count": 4,
   "metadata": {},
   "outputs": [],
   "source": [
    "import json\n",
    "\n",
    "with open(features_path + \"/transcription.json\") as f:\n",
    "    transcribation = json.load(f)"
   ]
  },
  {
   "cell_type": "code",
   "execution_count": 5,
   "metadata": {},
   "outputs": [],
   "source": [
    "phrases = get_phrases(transcribation)"
   ]
  },
  {
   "cell_type": "code",
   "execution_count": 6,
   "metadata": {},
   "outputs": [
    {
     "data": {
      "text/html": [
       "<div>\n",
       "<style scoped>\n",
       "    .dataframe tbody tr th:only-of-type {\n",
       "        vertical-align: middle;\n",
       "    }\n",
       "\n",
       "    .dataframe tbody tr th {\n",
       "        vertical-align: top;\n",
       "    }\n",
       "\n",
       "    .dataframe thead th {\n",
       "        text-align: right;\n",
       "    }\n",
       "</style>\n",
       "<table border=\"1\" class=\"dataframe\">\n",
       "  <thead>\n",
       "    <tr style=\"text-align: right;\">\n",
       "      <th></th>\n",
       "      <th>time</th>\n",
       "      <th>text</th>\n",
       "    </tr>\n",
       "  </thead>\n",
       "  <tbody>\n",
       "    <tr>\n",
       "      <th>0</th>\n",
       "      <td>[0.98, 11.66]</td>\n",
       "      <td>Not from unnamed sources and not from unsanctioned, but for me. So that you can get a good idea of</td>\n",
       "    </tr>\n",
       "    <tr>\n",
       "      <th>1</th>\n",
       "      <td>[11.66, 22.78]</td>\n",
       "      <td>how I'm feeling, ask me questions, and hear what I truly believe at this moment in time about usada, and it's ongoing examination of me. I</td>\n",
       "    </tr>\n",
       "    <tr>\n",
       "      <th>2</th>\n",
       "      <td>[22.78, 32.92]</td>\n",
       "      <td>have been patient. I have been cooperative, and I have done all I can do to provide you, so with information that I have knowledge of, because I believe in</td>\n",
       "    </tr>\n",
       "    <tr>\n",
       "      <th>3</th>\n",
       "      <td>[32.92, 43.1]</td>\n",
       "      <td>a drug free sport, and having a drug free Olympic team. Throughout all of this, I have maintained my sincere belief that if the process is fair,</td>\n",
       "    </tr>\n",
       "    <tr>\n",
       "      <th>4</th>\n",
       "      <td>[43.7, 53.82]</td>\n",
       "      <td>that in the end, the truth would prevail, and my name would be cleared. However, the events of the last several weeks have led me more</td>\n",
       "    </tr>\n",
       "    <tr>\n",
       "      <th>5</th>\n",
       "      <td>[53.82, 64.72]</td>\n",
       "      <td>in sadness than in anger, to the conclusion that you sawdda is not engaged in a fair process. Let's all review the facts. I</td>\n",
       "    </tr>\n",
       "    <tr>\n",
       "      <th>6</th>\n",
       "      <td>[64.72, 74.9]</td>\n",
       "      <td>have never, ever failed a drug test. I have taken over 160 drug tests. I have taken tests</td>\n",
       "    </tr>\n",
       "    <tr>\n",
       "      <th>7</th>\n",
       "      <td>[74.9, 85.22]</td>\n",
       "      <td>before, during, and after the 2000 Olympics, and have never failed a test. Musada has no information</td>\n",
       "    </tr>\n",
       "    <tr>\n",
       "      <th>8</th>\n",
       "      <td>[85.22, 95.46]</td>\n",
       "      <td>that shows that I have ever failed a test, because simply I have never failed a test, and no information exists anywhere</td>\n",
       "    </tr>\n",
       "    <tr>\n",
       "      <th>9</th>\n",
       "      <td>[95.46, 105.54]</td>\n",
       "      <td>to even suggest that I have ever failed a test. I have truthfully answered every question asked of me under oath by</td>\n",
       "    </tr>\n",
       "    <tr>\n",
       "      <th>10</th>\n",
       "      <td>[105.54, 115.6]</td>\n",
       "      <td>the government and the federal grand jury during the Balco investigation. I took the extraordinary step of asking for this grand jury testimony to</td>\n",
       "    </tr>\n",
       "    <tr>\n",
       "      <th>11</th>\n",
       "      <td>[115.6, 126.34]</td>\n",
       "      <td>be made public to assist Musada in its examination and its efforts to get to the truth. I truthfully answered every question asked</td>\n",
       "    </tr>\n",
       "    <tr>\n",
       "      <th>12</th>\n",
       "      <td>[126.34, 136.58]</td>\n",
       "      <td>of me by Usada during the three hour May 24th meeting, a meeting that took place only because I asked for the meeting. I made publicly</td>\n",
       "    </tr>\n",
       "    <tr>\n",
       "      <th>13</th>\n",
       "      <td>[136.58, 147.48]</td>\n",
       "      <td>available the Balco information that Usada presented to me and questioned me about, and I have demonstrated that the information had no connection to me. There</td>\n",
       "    </tr>\n",
       "    <tr>\n",
       "      <th>14</th>\n",
       "      <td>[147.48, 157.64]</td>\n",
       "      <td>exists no one who can truthfully testify that I have ever used performance enhancing drugs simply for the reason that I never have. Despite</td>\n",
       "    </tr>\n",
       "    <tr>\n",
       "      <th>15</th>\n",
       "      <td>[157.64, 168.1]</td>\n",
       "      <td>all of its leaks and rumor mongering, Usada has yet to produce a single shred of credible information against me. These</td>\n",
       "    </tr>\n",
       "    <tr>\n",
       "      <th>16</th>\n",
       "      <td>[168.1, 178.26]</td>\n",
       "      <td>are the facts. I have done all that I can do. I should have been cleared a long time ago. Instead, the only thing Usada appears to be doing is trying</td>\n",
       "    </tr>\n",
       "    <tr>\n",
       "      <th>17</th>\n",
       "      <td>[178.26, 188.68]</td>\n",
       "      <td>to secretly change the standards of proof, and the process that applies in these types of matters in the middle of the day. So they can achieve the Usada desired</td>\n",
       "    </tr>\n",
       "    <tr>\n",
       "      <th>18</th>\n",
       "      <td>[188.68, 198.98]</td>\n",
       "      <td>result. I feel like I was asked to run the hundred meters and after the race, they told me that I didn't win because my form was bad. Let me be clear.</td>\n",
       "    </tr>\n",
       "    <tr>\n",
       "      <th>19</th>\n",
       "      <td>[199.4, 209.88]</td>\n",
       "      <td>I am more than happy to answer every question, but I'm not going to engage in Usada's secret kangaroo court. I will answer</td>\n",
       "    </tr>\n",
       "    <tr>\n",
       "      <th>20</th>\n",
       "      <td>[209.88, 220.26]</td>\n",
       "      <td>Usada's questions in a public form that will be open for the entire world to see here and evaluate. For the third time,</td>\n",
       "    </tr>\n",
       "    <tr>\n",
       "      <th>21</th>\n",
       "      <td>[220.66, 230.8]</td>\n",
       "      <td>I will answer all the questions Usada is asking of me. However, this time I will not answer them in secret and behind closed</td>\n",
       "    </tr>\n",
       "    <tr>\n",
       "      <th>22</th>\n",
       "      <td>[230.8, 241.36]</td>\n",
       "      <td>doors. I will answer them in public in the light of day so the world can hear the questions, hear my responses, see the information, and see for themselves that</td>\n",
       "    </tr>\n",
       "    <tr>\n",
       "      <th>23</th>\n",
       "      <td>[241.36, 251.36]</td>\n",
       "      <td>I am telling the truth. Usada can ask and I can answer these questions before the United States Senate, which has shown interest in this matter, or some other public form</td>\n",
       "    </tr>\n",
       "    <tr>\n",
       "      <th>24</th>\n",
       "      <td>[251.36, 261.38]</td>\n",
       "      <td>modeled after a judicial proceeding. The truth is my friend and transparency, my ally in this matter. And this is why I want this process to be as transparent,</td>\n",
       "    </tr>\n",
       "    <tr>\n",
       "      <th>25</th>\n",
       "      <td>[261.86, 271.9]</td>\n",
       "      <td>open, and fair as possible so that everyone can see for themselves what I have been saying all along. That I have never, ever used performance enhancing drugs and</td>\n",
       "    </tr>\n",
       "    <tr>\n",
       "      <th>26</th>\n",
       "      <td>[271.9, 281.9]</td>\n",
       "      <td>that I have accomplished what I have accomplished because of my God-given abilities and hard work. I want to compete. I will compete, but</td>\n",
       "    </tr>\n",
       "    <tr>\n",
       "      <th>27</th>\n",
       "      <td>[281.9, 290.76]</td>\n",
       "      <td>more importantly, I want to retain my most treasured attribute, my reputation. Thank you very much and I will now take your questions.</td>\n",
       "    </tr>\n",
       "  </tbody>\n",
       "</table>\n",
       "</div>"
      ],
      "text/plain": [
       "                time  \\\n",
       "0      [0.98, 11.66]   \n",
       "1     [11.66, 22.78]   \n",
       "2     [22.78, 32.92]   \n",
       "3      [32.92, 43.1]   \n",
       "4      [43.7, 53.82]   \n",
       "5     [53.82, 64.72]   \n",
       "6      [64.72, 74.9]   \n",
       "7      [74.9, 85.22]   \n",
       "8     [85.22, 95.46]   \n",
       "9    [95.46, 105.54]   \n",
       "10   [105.54, 115.6]   \n",
       "11   [115.6, 126.34]   \n",
       "12  [126.34, 136.58]   \n",
       "13  [136.58, 147.48]   \n",
       "14  [147.48, 157.64]   \n",
       "15   [157.64, 168.1]   \n",
       "16   [168.1, 178.26]   \n",
       "17  [178.26, 188.68]   \n",
       "18  [188.68, 198.98]   \n",
       "19   [199.4, 209.88]   \n",
       "20  [209.88, 220.26]   \n",
       "21   [220.66, 230.8]   \n",
       "22   [230.8, 241.36]   \n",
       "23  [241.36, 251.36]   \n",
       "24  [251.36, 261.38]   \n",
       "25   [261.86, 271.9]   \n",
       "26    [271.9, 281.9]   \n",
       "27   [281.9, 290.76]   \n",
       "\n",
       "                                                                                                                                                                          text  \n",
       "0                                                                           Not from unnamed sources and not from unsanctioned, but for me. So that you can get a good idea of  \n",
       "1                                   how I'm feeling, ask me questions, and hear what I truly believe at this moment in time about usada, and it's ongoing examination of me. I  \n",
       "2                  have been patient. I have been cooperative, and I have done all I can do to provide you, so with information that I have knowledge of, because I believe in  \n",
       "3                             a drug free sport, and having a drug free Olympic team. Throughout all of this, I have maintained my sincere belief that if the process is fair,  \n",
       "4                                       that in the end, the truth would prevail, and my name would be cleared. However, the events of the last several weeks have led me more  \n",
       "5                                                  in sadness than in anger, to the conclusion that you sawdda is not engaged in a fair process. Let's all review the facts. I  \n",
       "6                                                                                    have never, ever failed a drug test. I have taken over 160 drug tests. I have taken tests  \n",
       "7                                                                         before, during, and after the 2000 Olympics, and have never failed a test. Musada has no information  \n",
       "8                                                     that shows that I have ever failed a test, because simply I have never failed a test, and no information exists anywhere  \n",
       "9                                                          to even suggest that I have ever failed a test. I have truthfully answered every question asked of me under oath by  \n",
       "10                          the government and the federal grand jury during the Balco investigation. I took the extraordinary step of asking for this grand jury testimony to  \n",
       "11                                          be made public to assist Musada in its examination and its efforts to get to the truth. I truthfully answered every question asked  \n",
       "12                                      of me by Usada during the three hour May 24th meeting, a meeting that took place only because I asked for the meeting. I made publicly  \n",
       "13             available the Balco information that Usada presented to me and questioned me about, and I have demonstrated that the information had no connection to me. There  \n",
       "14                                 exists no one who can truthfully testify that I have ever used performance enhancing drugs simply for the reason that I never have. Despite  \n",
       "15                                                     all of its leaks and rumor mongering, Usada has yet to produce a single shred of credible information against me. These  \n",
       "16                       are the facts. I have done all that I can do. I should have been cleared a long time ago. Instead, the only thing Usada appears to be doing is trying  \n",
       "17           to secretly change the standards of proof, and the process that applies in these types of matters in the middle of the day. So they can achieve the Usada desired  \n",
       "18                      result. I feel like I was asked to run the hundred meters and after the race, they told me that I didn't win because my form was bad. Let me be clear.  \n",
       "19                                                  I am more than happy to answer every question, but I'm not going to engage in Usada's secret kangaroo court. I will answer  \n",
       "20                                                     Usada's questions in a public form that will be open for the entire world to see here and evaluate. For the third time,  \n",
       "21                                                I will answer all the questions Usada is asking of me. However, this time I will not answer them in secret and behind closed  \n",
       "22            doors. I will answer them in public in the light of day so the world can hear the questions, hear my responses, see the information, and see for themselves that  \n",
       "23  I am telling the truth. Usada can ask and I can answer these questions before the United States Senate, which has shown interest in this matter, or some other public form  \n",
       "24             modeled after a judicial proceeding. The truth is my friend and transparency, my ally in this matter. And this is why I want this process to be as transparent,  \n",
       "25          open, and fair as possible so that everyone can see for themselves what I have been saying all along. That I have never, ever used performance enhancing drugs and  \n",
       "26                                   that I have accomplished what I have accomplished because of my God-given abilities and hard work. I want to compete. I will compete, but  \n",
       "27                                      more importantly, I want to retain my most treasured attribute, my reputation. Thank you very much and I will now take your questions.  "
      ]
     },
     "execution_count": 6,
     "metadata": {},
     "output_type": "execute_result"
    }
   ],
   "source": [
    "pd.set_option('display.max_rows', 162)\n",
    "pd.set_option('display.max_colwidth', 10000)\n",
    "\n",
    "pd.DataFrame(phrases)"
   ]
  },
  {
   "cell_type": "markdown",
   "metadata": {},
   "source": [
    "### Congruence"
   ]
  },
  {
   "cell_type": "code",
   "execution_count": 7,
   "metadata": {},
   "outputs": [],
   "source": [
    "import torch\n",
    "\n",
    "from expert.core.congruence import CongruenceDetector"
   ]
  },
  {
   "cell_type": "markdown",
   "metadata": {},
   "source": [
    "By default, for preprocessing reports, \"temp\" directory and a folder named as the analysed video file are created in it. All other files are taken by the name of the modules"
   ]
  },
  {
   "cell_type": "code",
   "execution_count": 10,
   "metadata": {},
   "outputs": [],
   "source": [
    "cong_detector = CongruenceDetector(video_path=video_path,\n",
    "                                   features_path=features_path + \"/features.json\",\n",
    "                                   face_image=features_path + \"/faces/0.jpg\",\n",
    "                                   diarization_path=features_path + \"/diarization.json\",\n",
    "                                   transcription_path=features_path + \"/transcription.json\",\n",
    "                                   device=torch.device(\"cpu\"))"
   ]
  },
  {
   "cell_type": "markdown",
   "metadata": {},
   "source": [
    "get_congruence method returns the dictionary with features {\"emotions\": emotions_data, \"congruence\": cong_data} and creates json files in correspondig folder."
   ]
  },
  {
   "cell_type": "code",
   "execution_count": 11,
   "metadata": {},
   "outputs": [],
   "source": [
    "results = cong_detector.get_congruence()"
   ]
  },
  {
   "cell_type": "markdown",
   "metadata": {},
   "source": [
    "### Visualization of results\n",
    "\n",
    "Pyplot is used to create interactive data. There may be a conflict with pytorch-lightning, it is not used in congruence\n",
    "\n",
    "!pip install plotly\n",
    "\n",
    "!pip install nbformat>=4.2.0"
   ]
  },
  {
   "cell_type": "code",
   "execution_count": 12,
   "metadata": {},
   "outputs": [],
   "source": [
    "import plotly.express as px\n",
    "import plotly.graph_objects as go\n",
    "\n",
    "video_emo = pd.DataFrame(results[\"emotions\"][\"video\"])\n",
    "audio_emo = pd.DataFrame(results[\"emotions\"][\"audio\"])\n",
    "text_emo = pd.DataFrame(results[\"emotions\"][\"text\"])"
   ]
  },
  {
   "cell_type": "markdown",
   "metadata": {},
   "source": [
    "Visualization of the emotions by the modality"
   ]
  },
  {
   "cell_type": "code",
   "execution_count": 17,
   "metadata": {},
   "outputs": [
    {
     "data": {
      "application/vnd.plotly.v1+json": {
       "config": {
        "plotlyServerURL": "https://plot.ly"
       },
       "data": [
        {
         "name": "Video Anger",
         "type": "scatter",
         "x": [
          0,
          10,
          20,
          30,
          40,
          50,
          60,
          70,
          80,
          90,
          100,
          110,
          120,
          130,
          140,
          150,
          160,
          170,
          180,
          190,
          200,
          210,
          220,
          230,
          240,
          250,
          260,
          270,
          280
         ],
         "y": [
          0.3397318720817566,
          0.34535330533981323,
          0.34301167726516724,
          0.3434048295021057,
          0.34009844064712524,
          0.34036579728126526,
          0.33952343463897705,
          0.34407585859298706,
          0.342008113861084,
          0.3376162052154541,
          0.33866506814956665,
          0.3400038480758667,
          0.33761686086654663,
          0.3387557566165924,
          0.3385898768901825,
          0.34259435534477234,
          0.3407004475593567,
          0.33936530351638794,
          0.33711186051368713,
          0.34070688486099243,
          0.3402183949947357,
          0.34165140986442566,
          0.34058550000190735,
          0.33884769678115845,
          0.3381732106208801,
          0.3406016230583191,
          0.33724886178970337,
          0.33822983503341675,
          0.34168529510498047
         ]
        },
        {
         "name": "Audio Anger",
         "type": "scatter",
         "x": [
          0,
          10,
          20,
          30,
          40,
          50,
          60,
          70,
          80,
          90,
          100,
          110,
          120,
          130,
          140,
          150,
          160,
          170,
          180,
          190,
          200,
          210,
          220,
          230,
          240,
          250,
          260,
          270,
          280
         ],
         "y": [
          0.33995890617370605,
          0.34343209862709045,
          0.35134947299957275,
          0.3572303354740143,
          0.3348867893218994,
          0.36854761838912964,
          0.33651837706565857,
          0.3593871593475342,
          0.35164618492126465,
          0.35719040036201477,
          0.3380908668041229,
          0.33766454458236694,
          0.3358018696308136,
          0.33451026678085327,
          0.3559678792953491,
          0.38481587171554565,
          0.357727587223053,
          0.33653005957603455,
          0.38244158029556274,
          0.3703346848487854,
          0.33124420046806335,
          0.3259051740169525,
          0.3345862925052643,
          0.3337041735649109,
          0.3391873240470886,
          0.3725234270095825,
          0.34840866923332214,
          0.34783074259757996,
          0.3650800883769989
         ]
        },
        {
         "name": "Text Anger",
         "type": "scatter",
         "x": [
          0,
          10,
          20,
          40,
          50,
          60,
          70,
          80,
          90,
          100,
          110,
          120,
          130,
          140,
          150,
          160,
          170,
          180,
          190,
          200,
          220,
          230,
          240,
          250,
          260,
          270,
          280
         ],
         "y": [
          0.2615586221218109,
          0.28873756527900696,
          0.2590877115726471,
          0.24448533356189728,
          0.4255000650882721,
          0.27932044863700867,
          0.2440319061279297,
          0.35821014642715454,
          0.4796045124530792,
          0.36075571179389954,
          0.37580406665802,
          0.35087183117866516,
          0.3043280243873596,
          0.31308406591415405,
          0.3004876673221588,
          0.22484074532985687,
          0.2628597319126129,
          0.3400650918483734,
          0.21381154656410217,
          0.2216564267873764,
          0.2730807065963745,
          0.2451053261756897,
          0.23572014272212982,
          0.23595090210437775,
          0.225708469748497,
          0.3323002755641937,
          0.2394978255033493
         ]
        }
       ],
       "layout": {
        "template": {
         "data": {
          "bar": [
           {
            "error_x": {
             "color": "#2a3f5f"
            },
            "error_y": {
             "color": "#2a3f5f"
            },
            "marker": {
             "line": {
              "color": "#E5ECF6",
              "width": 0.5
             },
             "pattern": {
              "fillmode": "overlay",
              "size": 10,
              "solidity": 0.2
             }
            },
            "type": "bar"
           }
          ],
          "barpolar": [
           {
            "marker": {
             "line": {
              "color": "#E5ECF6",
              "width": 0.5
             },
             "pattern": {
              "fillmode": "overlay",
              "size": 10,
              "solidity": 0.2
             }
            },
            "type": "barpolar"
           }
          ],
          "carpet": [
           {
            "aaxis": {
             "endlinecolor": "#2a3f5f",
             "gridcolor": "white",
             "linecolor": "white",
             "minorgridcolor": "white",
             "startlinecolor": "#2a3f5f"
            },
            "baxis": {
             "endlinecolor": "#2a3f5f",
             "gridcolor": "white",
             "linecolor": "white",
             "minorgridcolor": "white",
             "startlinecolor": "#2a3f5f"
            },
            "type": "carpet"
           }
          ],
          "choropleth": [
           {
            "colorbar": {
             "outlinewidth": 0,
             "ticks": ""
            },
            "type": "choropleth"
           }
          ],
          "contour": [
           {
            "colorbar": {
             "outlinewidth": 0,
             "ticks": ""
            },
            "colorscale": [
             [
              0,
              "#0d0887"
             ],
             [
              0.1111111111111111,
              "#46039f"
             ],
             [
              0.2222222222222222,
              "#7201a8"
             ],
             [
              0.3333333333333333,
              "#9c179e"
             ],
             [
              0.4444444444444444,
              "#bd3786"
             ],
             [
              0.5555555555555556,
              "#d8576b"
             ],
             [
              0.6666666666666666,
              "#ed7953"
             ],
             [
              0.7777777777777778,
              "#fb9f3a"
             ],
             [
              0.8888888888888888,
              "#fdca26"
             ],
             [
              1,
              "#f0f921"
             ]
            ],
            "type": "contour"
           }
          ],
          "contourcarpet": [
           {
            "colorbar": {
             "outlinewidth": 0,
             "ticks": ""
            },
            "type": "contourcarpet"
           }
          ],
          "heatmap": [
           {
            "colorbar": {
             "outlinewidth": 0,
             "ticks": ""
            },
            "colorscale": [
             [
              0,
              "#0d0887"
             ],
             [
              0.1111111111111111,
              "#46039f"
             ],
             [
              0.2222222222222222,
              "#7201a8"
             ],
             [
              0.3333333333333333,
              "#9c179e"
             ],
             [
              0.4444444444444444,
              "#bd3786"
             ],
             [
              0.5555555555555556,
              "#d8576b"
             ],
             [
              0.6666666666666666,
              "#ed7953"
             ],
             [
              0.7777777777777778,
              "#fb9f3a"
             ],
             [
              0.8888888888888888,
              "#fdca26"
             ],
             [
              1,
              "#f0f921"
             ]
            ],
            "type": "heatmap"
           }
          ],
          "heatmapgl": [
           {
            "colorbar": {
             "outlinewidth": 0,
             "ticks": ""
            },
            "colorscale": [
             [
              0,
              "#0d0887"
             ],
             [
              0.1111111111111111,
              "#46039f"
             ],
             [
              0.2222222222222222,
              "#7201a8"
             ],
             [
              0.3333333333333333,
              "#9c179e"
             ],
             [
              0.4444444444444444,
              "#bd3786"
             ],
             [
              0.5555555555555556,
              "#d8576b"
             ],
             [
              0.6666666666666666,
              "#ed7953"
             ],
             [
              0.7777777777777778,
              "#fb9f3a"
             ],
             [
              0.8888888888888888,
              "#fdca26"
             ],
             [
              1,
              "#f0f921"
             ]
            ],
            "type": "heatmapgl"
           }
          ],
          "histogram": [
           {
            "marker": {
             "pattern": {
              "fillmode": "overlay",
              "size": 10,
              "solidity": 0.2
             }
            },
            "type": "histogram"
           }
          ],
          "histogram2d": [
           {
            "colorbar": {
             "outlinewidth": 0,
             "ticks": ""
            },
            "colorscale": [
             [
              0,
              "#0d0887"
             ],
             [
              0.1111111111111111,
              "#46039f"
             ],
             [
              0.2222222222222222,
              "#7201a8"
             ],
             [
              0.3333333333333333,
              "#9c179e"
             ],
             [
              0.4444444444444444,
              "#bd3786"
             ],
             [
              0.5555555555555556,
              "#d8576b"
             ],
             [
              0.6666666666666666,
              "#ed7953"
             ],
             [
              0.7777777777777778,
              "#fb9f3a"
             ],
             [
              0.8888888888888888,
              "#fdca26"
             ],
             [
              1,
              "#f0f921"
             ]
            ],
            "type": "histogram2d"
           }
          ],
          "histogram2dcontour": [
           {
            "colorbar": {
             "outlinewidth": 0,
             "ticks": ""
            },
            "colorscale": [
             [
              0,
              "#0d0887"
             ],
             [
              0.1111111111111111,
              "#46039f"
             ],
             [
              0.2222222222222222,
              "#7201a8"
             ],
             [
              0.3333333333333333,
              "#9c179e"
             ],
             [
              0.4444444444444444,
              "#bd3786"
             ],
             [
              0.5555555555555556,
              "#d8576b"
             ],
             [
              0.6666666666666666,
              "#ed7953"
             ],
             [
              0.7777777777777778,
              "#fb9f3a"
             ],
             [
              0.8888888888888888,
              "#fdca26"
             ],
             [
              1,
              "#f0f921"
             ]
            ],
            "type": "histogram2dcontour"
           }
          ],
          "mesh3d": [
           {
            "colorbar": {
             "outlinewidth": 0,
             "ticks": ""
            },
            "type": "mesh3d"
           }
          ],
          "parcoords": [
           {
            "line": {
             "colorbar": {
              "outlinewidth": 0,
              "ticks": ""
             }
            },
            "type": "parcoords"
           }
          ],
          "pie": [
           {
            "automargin": true,
            "type": "pie"
           }
          ],
          "scatter": [
           {
            "fillpattern": {
             "fillmode": "overlay",
             "size": 10,
             "solidity": 0.2
            },
            "type": "scatter"
           }
          ],
          "scatter3d": [
           {
            "line": {
             "colorbar": {
              "outlinewidth": 0,
              "ticks": ""
             }
            },
            "marker": {
             "colorbar": {
              "outlinewidth": 0,
              "ticks": ""
             }
            },
            "type": "scatter3d"
           }
          ],
          "scattercarpet": [
           {
            "marker": {
             "colorbar": {
              "outlinewidth": 0,
              "ticks": ""
             }
            },
            "type": "scattercarpet"
           }
          ],
          "scattergeo": [
           {
            "marker": {
             "colorbar": {
              "outlinewidth": 0,
              "ticks": ""
             }
            },
            "type": "scattergeo"
           }
          ],
          "scattergl": [
           {
            "marker": {
             "colorbar": {
              "outlinewidth": 0,
              "ticks": ""
             }
            },
            "type": "scattergl"
           }
          ],
          "scattermapbox": [
           {
            "marker": {
             "colorbar": {
              "outlinewidth": 0,
              "ticks": ""
             }
            },
            "type": "scattermapbox"
           }
          ],
          "scatterpolar": [
           {
            "marker": {
             "colorbar": {
              "outlinewidth": 0,
              "ticks": ""
             }
            },
            "type": "scatterpolar"
           }
          ],
          "scatterpolargl": [
           {
            "marker": {
             "colorbar": {
              "outlinewidth": 0,
              "ticks": ""
             }
            },
            "type": "scatterpolargl"
           }
          ],
          "scatterternary": [
           {
            "marker": {
             "colorbar": {
              "outlinewidth": 0,
              "ticks": ""
             }
            },
            "type": "scatterternary"
           }
          ],
          "surface": [
           {
            "colorbar": {
             "outlinewidth": 0,
             "ticks": ""
            },
            "colorscale": [
             [
              0,
              "#0d0887"
             ],
             [
              0.1111111111111111,
              "#46039f"
             ],
             [
              0.2222222222222222,
              "#7201a8"
             ],
             [
              0.3333333333333333,
              "#9c179e"
             ],
             [
              0.4444444444444444,
              "#bd3786"
             ],
             [
              0.5555555555555556,
              "#d8576b"
             ],
             [
              0.6666666666666666,
              "#ed7953"
             ],
             [
              0.7777777777777778,
              "#fb9f3a"
             ],
             [
              0.8888888888888888,
              "#fdca26"
             ],
             [
              1,
              "#f0f921"
             ]
            ],
            "type": "surface"
           }
          ],
          "table": [
           {
            "cells": {
             "fill": {
              "color": "#EBF0F8"
             },
             "line": {
              "color": "white"
             }
            },
            "header": {
             "fill": {
              "color": "#C8D4E3"
             },
             "line": {
              "color": "white"
             }
            },
            "type": "table"
           }
          ]
         },
         "layout": {
          "annotationdefaults": {
           "arrowcolor": "#2a3f5f",
           "arrowhead": 0,
           "arrowwidth": 1
          },
          "autotypenumbers": "strict",
          "coloraxis": {
           "colorbar": {
            "outlinewidth": 0,
            "ticks": ""
           }
          },
          "colorscale": {
           "diverging": [
            [
             0,
             "#8e0152"
            ],
            [
             0.1,
             "#c51b7d"
            ],
            [
             0.2,
             "#de77ae"
            ],
            [
             0.3,
             "#f1b6da"
            ],
            [
             0.4,
             "#fde0ef"
            ],
            [
             0.5,
             "#f7f7f7"
            ],
            [
             0.6,
             "#e6f5d0"
            ],
            [
             0.7,
             "#b8e186"
            ],
            [
             0.8,
             "#7fbc41"
            ],
            [
             0.9,
             "#4d9221"
            ],
            [
             1,
             "#276419"
            ]
           ],
           "sequential": [
            [
             0,
             "#0d0887"
            ],
            [
             0.1111111111111111,
             "#46039f"
            ],
            [
             0.2222222222222222,
             "#7201a8"
            ],
            [
             0.3333333333333333,
             "#9c179e"
            ],
            [
             0.4444444444444444,
             "#bd3786"
            ],
            [
             0.5555555555555556,
             "#d8576b"
            ],
            [
             0.6666666666666666,
             "#ed7953"
            ],
            [
             0.7777777777777778,
             "#fb9f3a"
            ],
            [
             0.8888888888888888,
             "#fdca26"
            ],
            [
             1,
             "#f0f921"
            ]
           ],
           "sequentialminus": [
            [
             0,
             "#0d0887"
            ],
            [
             0.1111111111111111,
             "#46039f"
            ],
            [
             0.2222222222222222,
             "#7201a8"
            ],
            [
             0.3333333333333333,
             "#9c179e"
            ],
            [
             0.4444444444444444,
             "#bd3786"
            ],
            [
             0.5555555555555556,
             "#d8576b"
            ],
            [
             0.6666666666666666,
             "#ed7953"
            ],
            [
             0.7777777777777778,
             "#fb9f3a"
            ],
            [
             0.8888888888888888,
             "#fdca26"
            ],
            [
             1,
             "#f0f921"
            ]
           ]
          },
          "colorway": [
           "#636efa",
           "#EF553B",
           "#00cc96",
           "#ab63fa",
           "#FFA15A",
           "#19d3f3",
           "#FF6692",
           "#B6E880",
           "#FF97FF",
           "#FECB52"
          ],
          "font": {
           "color": "#2a3f5f"
          },
          "geo": {
           "bgcolor": "white",
           "lakecolor": "white",
           "landcolor": "#E5ECF6",
           "showlakes": true,
           "showland": true,
           "subunitcolor": "white"
          },
          "hoverlabel": {
           "align": "left"
          },
          "hovermode": "closest",
          "mapbox": {
           "style": "light"
          },
          "paper_bgcolor": "white",
          "plot_bgcolor": "#E5ECF6",
          "polar": {
           "angularaxis": {
            "gridcolor": "white",
            "linecolor": "white",
            "ticks": ""
           },
           "bgcolor": "#E5ECF6",
           "radialaxis": {
            "gridcolor": "white",
            "linecolor": "white",
            "ticks": ""
           }
          },
          "scene": {
           "xaxis": {
            "backgroundcolor": "#E5ECF6",
            "gridcolor": "white",
            "gridwidth": 2,
            "linecolor": "white",
            "showbackground": true,
            "ticks": "",
            "zerolinecolor": "white"
           },
           "yaxis": {
            "backgroundcolor": "#E5ECF6",
            "gridcolor": "white",
            "gridwidth": 2,
            "linecolor": "white",
            "showbackground": true,
            "ticks": "",
            "zerolinecolor": "white"
           },
           "zaxis": {
            "backgroundcolor": "#E5ECF6",
            "gridcolor": "white",
            "gridwidth": 2,
            "linecolor": "white",
            "showbackground": true,
            "ticks": "",
            "zerolinecolor": "white"
           }
          },
          "shapedefaults": {
           "line": {
            "color": "#2a3f5f"
           }
          },
          "ternary": {
           "aaxis": {
            "gridcolor": "white",
            "linecolor": "white",
            "ticks": ""
           },
           "baxis": {
            "gridcolor": "white",
            "linecolor": "white",
            "ticks": ""
           },
           "bgcolor": "#E5ECF6",
           "caxis": {
            "gridcolor": "white",
            "linecolor": "white",
            "ticks": ""
           }
          },
          "title": {
           "x": 0.05
          },
          "xaxis": {
           "automargin": true,
           "gridcolor": "white",
           "linecolor": "white",
           "ticks": "",
           "title": {
            "standoff": 15
           },
           "zerolinecolor": "white",
           "zerolinewidth": 2
          },
          "yaxis": {
           "automargin": true,
           "gridcolor": "white",
           "linecolor": "white",
           "ticks": "",
           "title": {
            "standoff": 15
           },
           "zerolinecolor": "white",
           "zerolinewidth": 2
          }
         }
        },
        "title": {
         "text": "Emotions by Source"
        },
        "updatemenus": [
         {
          "buttons": [
           {
            "args": [
             {
              "y": [
               [
                0.3397318720817566,
                0.34535330533981323,
                0.34301167726516724,
                0.3434048295021057,
                0.34009844064712524,
                0.34036579728126526,
                0.33952343463897705,
                0.34407585859298706,
                0.342008113861084,
                0.3376162052154541,
                0.33866506814956665,
                0.3400038480758667,
                0.33761686086654663,
                0.3387557566165924,
                0.3385898768901825,
                0.34259435534477234,
                0.3407004475593567,
                0.33936530351638794,
                0.33711186051368713,
                0.34070688486099243,
                0.3402183949947357,
                0.34165140986442566,
                0.34058550000190735,
                0.33884769678115845,
                0.3381732106208801,
                0.3406016230583191,
                0.33724886178970337,
                0.33822983503341675,
                0.34168529510498047
               ],
               [
                0.3368070423603058,
                0.33411404490470886,
                0.33560046553611755,
                0.33394208550453186,
                0.33571282029151917,
                0.3342914581298828,
                0.3382493257522583,
                0.3333737254142761,
                0.33425673842430115,
                0.3375092148780823,
                0.3324151933193207,
                0.33401504158973694,
                0.33531808853149414,
                0.33588072657585144,
                0.3361533284187317,
                0.3337605595588684,
                0.33436453342437744,
                0.3367978632450104,
                0.34015196561813354,
                0.3353016972541809,
                0.33516889810562134,
                0.33424559235572815,
                0.3358495235443115,
                0.3377009332180023,
                0.3374342918395996,
                0.3362393379211426,
                0.33695703744888306,
                0.33911949396133423,
                0.33555346727371216
               ],
               [
                0.32346111536026,
                0.3205326497554779,
                0.3213878571987152,
                0.3226530849933624,
                0.3241887092590332,
                0.32534274458885193,
                0.32222726941108704,
                0.3225504457950592,
                0.3237350881099701,
                0.324874609708786,
                0.3289197087287903,
                0.32598111033439636,
                0.32706499099731445,
                0.32536354660987854,
                0.3252568542957306,
                0.32364505529403687,
                0.32493501901626587,
                0.3238368630409241,
                0.32273614406585693,
                0.32399144768714905,
                0.32461270689964294,
                0.3241029679775238,
                0.32356497645378113,
                0.32345137000083923,
                0.32439249753952026,
                0.3231590688228607,
                0.32579413056373596,
                0.3226507008075714,
                0.322761207818985
               ]
              ]
             }
            ],
            "label": "Video",
            "method": "update"
           },
           {
            "args": [
             {
              "y": [
               [
                0.33995890617370605,
                0.34343209862709045,
                0.35134947299957275,
                0.3572303354740143,
                0.3348867893218994,
                0.36854761838912964,
                0.33651837706565857,
                0.3593871593475342,
                0.35164618492126465,
                0.35719040036201477,
                0.3380908668041229,
                0.33766454458236694,
                0.3358018696308136,
                0.33451026678085327,
                0.3559678792953491,
                0.38481587171554565,
                0.357727587223053,
                0.33653005957603455,
                0.38244158029556274,
                0.3703346848487854,
                0.33124420046806335,
                0.3259051740169525,
                0.3345862925052643,
                0.3337041735649109,
                0.3391873240470886,
                0.3725234270095825,
                0.34840866923332214,
                0.34783074259757996,
                0.3650800883769989
               ],
               [
                0.32614895701408386,
                0.319879412651062,
                0.31959494948387146,
                0.3188132345676422,
                0.32993996143341064,
                0.313148558139801,
                0.32116639614105225,
                0.3155800998210907,
                0.31870102882385254,
                0.31603747606277466,
                0.3257634937763214,
                0.32628703117370605,
                0.32644984126091003,
                0.331264466047287,
                0.3215697109699249,
                0.30628904700279236,
                0.3178583085536957,
                0.3284262418746948,
                0.3065776228904724,
                0.3133184313774109,
                0.31981608271598816,
                0.3170015811920166,
                0.32359039783477783,
                0.33418744802474976,
                0.31520479917526245,
                0.3114239573478699,
                0.3248985707759857,
                0.32610395550727844,
                0.3170830309391022
               ],
               [
                0.3338921070098877,
                0.33668848872184753,
                0.3290555477142334,
                0.3239564299583435,
                0.33517327904701233,
                0.3183038532733917,
                0.3423152565956116,
                0.3250327408313751,
                0.3296527564525604,
                0.32677212357521057,
                0.3361456096172333,
                0.336048424243927,
                0.33774828910827637,
                0.33422529697418213,
                0.32246237993240356,
                0.3088951110839844,
                0.32441410422325134,
                0.33504366874694824,
                0.31098079681396484,
                0.3163468837738037,
                0.3489396870136261,
                0.35709327459335327,
                0.3418232798576355,
                0.33210837841033936,
                0.34560781717300415,
                0.31605264544487,
                0.32669270038604736,
                0.3260652720928192,
                0.3178368806838989
               ]
              ]
             }
            ],
            "label": "Audio",
            "method": "update"
           },
           {
            "args": [
             {
              "y": [
               [
                0.2615586221218109,
                0.28873756527900696,
                0.2590877115726471,
                0.24448533356189728,
                0.4255000650882721,
                0.27932044863700867,
                0.2440319061279297,
                0.35821014642715454,
                0.4796045124530792,
                0.36075571179389954,
                0.37580406665802,
                0.35087183117866516,
                0.3043280243873596,
                0.31308406591415405,
                0.3004876673221588,
                0.22484074532985687,
                0.2628597319126129,
                0.3400650918483734,
                0.21381154656410217,
                0.2216564267873764,
                0.2730807065963745,
                0.2451053261756897,
                0.23572014272212982,
                0.23595090210437775,
                0.225708469748497,
                0.3323002755641937,
                0.2394978255033493
               ],
               [
                0.49433138966560364,
                0.389512300491333,
                0.39080947637557983,
                0.3004564046859741,
                0.2887168228626251,
                0.46021339297294617,
                0.5146229267120361,
                0.3826259970664978,
                0.26370272040367126,
                0.35013020038604736,
                0.30644214153289795,
                0.35460543632507324,
                0.4416528344154358,
                0.42263269424438477,
                0.4560551941394806,
                0.551788330078125,
                0.49823662638664246,
                0.34922605752944946,
                0.21401628851890564,
                0.5521103739738464,
                0.48265641927719116,
                0.49759671092033386,
                0.5348666906356812,
                0.5333669185638428,
                0.5517983436584473,
                0.34858977794647217,
                0.3725305497646332
               ],
               [
                0.24410998821258545,
                0.32175013422966003,
                0.3501027822494507,
                0.4550582766532898,
                0.2857830822467804,
                0.26046618819236755,
                0.2413451075553894,
                0.25916385650634766,
                0.2566927671432495,
                0.2891140878200531,
                0.3177538216114044,
                0.2945227026939392,
                0.254019170999527,
                0.2642832398414612,
                0.24345718324184418,
                0.22337095439434052,
                0.23890367150306702,
                0.3107089102268219,
                0.572172224521637,
                0.22623316943645477,
                0.2442629188299179,
                0.25729790329933167,
                0.22941318154335022,
                0.2306821644306183,
                0.22249312698841095,
                0.31910988688468933,
                0.3879716098308563
               ]
              ]
             }
            ],
            "label": "Text",
            "method": "update"
           }
          ],
          "direction": "down",
          "showactive": true
         }
        ],
        "xaxis": {
         "range": [
          0,
          285
         ]
        },
        "yaxis": {
         "range": [
          0,
          1
         ]
        }
       }
      }
     },
     "metadata": {},
     "output_type": "display_data"
    }
   ],
   "source": [
    "trace_video = go.Scatter(x=video_emo['time_sec'], y=video_emo['video_anger'], name='Video Anger')\n",
    "trace_audio = go.Scatter(x=audio_emo['time_sec'], y=audio_emo['audio_anger'], name='Audio Anger')\n",
    "trace_text = go.Scatter(x=text_emo['time_sec'], y=text_emo['text_anger'], name='Text Anger')\n",
    "\n",
    "# Create buttons to switch between datasets\n",
    "updatemenus = [{'buttons': [\n",
    "    {'method': 'update', 'label': 'Video', 'args': [{'y': [video_emo['video_anger'], video_emo['video_neutral'], video_emo['video_happiness']]}]},\n",
    "    {'method': 'update', 'label': 'Audio', 'args': [{'y': [audio_emo['audio_anger'], audio_emo['audio_neutral'], audio_emo['audio_happiness']]}]},\n",
    "    {'method': 'update', 'label': 'Text', 'args': [{'y': [text_emo['text_anger'], text_emo['text_neutral'], text_emo['text_happiness']]}]}\n",
    "], 'direction': 'down', 'showactive': True}]\n",
    "\n",
    "# Create layout with buttons\n",
    "layout = go.Layout(title='Emotions by Source', updatemenus=updatemenus)\n",
    "\n",
    "fig = go.Figure(data=[trace_video, trace_audio, trace_text], layout=layout)\n",
    "fig.update_xaxes(range=[0, text_emo['time_sec'].max()+5])\n",
    "fig.update_yaxes(range=[0, 1])\n",
    "fig.show('nteract')"
   ]
  },
  {
   "cell_type": "markdown",
   "metadata": {},
   "source": [
    "Visualization of the congruence level"
   ]
  },
  {
   "cell_type": "code",
   "execution_count": 19,
   "metadata": {},
   "outputs": [],
   "source": [
    "congr_data = pd.DataFrame(results[\"congruence\"])"
   ]
  },
  {
   "cell_type": "code",
   "execution_count": 20,
   "metadata": {},
   "outputs": [
    {
     "data": {
      "application/vnd.plotly.v1+json": {
       "config": {
        "plotlyServerURL": "https://plot.ly"
       },
       "data": [
        {
         "alignmentgroup": "True",
         "hovertemplate": "time_sec=%{x}<br>congruence=%{y}<extra></extra>",
         "legendgroup": "",
         "marker": {
          "color": "#636efa",
          "pattern": {
           "shape": ""
          }
         },
         "name": "",
         "offsetgroup": "",
         "orientation": "v",
         "showlegend": false,
         "textposition": "auto",
         "type": "bar",
         "x": [
          0,
          10,
          20,
          40,
          50,
          60,
          70,
          80,
          90,
          100,
          110,
          120,
          130,
          140,
          150,
          160,
          170,
          180,
          190,
          200,
          220,
          230,
          240,
          250,
          260,
          270,
          280
         ],
         "xaxis": "x",
         "y": [
          0.12565047349409442,
          0.05195468672821705,
          0.06884091169442716,
          0.09684403073329084,
          0.058186841311523796,
          0.10160670171974802,
          0.1469382341573224,
          0.05372444936624896,
          0.1032257789001977,
          0.03389648465489395,
          0.02984170518822993,
          0.03009169824665946,
          0.08345813167189076,
          0.07374824315223723,
          0.10971597439427055,
          0.17423590993883967,
          0.12777399352422716,
          0.03646328019500469,
          0.1955401597427796,
          0.1739298805898898,
          0.11849242510811614,
          0.12464611434729926,
          0.16149305778793951,
          0.16300914573208394,
          0.1702755531306784,
          0.01506966902159487,
          0.08944396352037193
         ],
         "yaxis": "y"
        }
       ],
       "layout": {
        "barmode": "relative",
        "legend": {
         "tracegroupgap": 0
        },
        "shapes": [
         {
          "line": {
           "color": "red",
           "width": 1
          },
          "type": "line",
          "x0": -5,
          "x1": 280,
          "y0": 0.5,
          "y1": 0.5
         }
        ],
        "template": {
         "data": {
          "bar": [
           {
            "error_x": {
             "color": "#2a3f5f"
            },
            "error_y": {
             "color": "#2a3f5f"
            },
            "marker": {
             "line": {
              "color": "#E5ECF6",
              "width": 0.5
             },
             "pattern": {
              "fillmode": "overlay",
              "size": 10,
              "solidity": 0.2
             }
            },
            "type": "bar"
           }
          ],
          "barpolar": [
           {
            "marker": {
             "line": {
              "color": "#E5ECF6",
              "width": 0.5
             },
             "pattern": {
              "fillmode": "overlay",
              "size": 10,
              "solidity": 0.2
             }
            },
            "type": "barpolar"
           }
          ],
          "carpet": [
           {
            "aaxis": {
             "endlinecolor": "#2a3f5f",
             "gridcolor": "white",
             "linecolor": "white",
             "minorgridcolor": "white",
             "startlinecolor": "#2a3f5f"
            },
            "baxis": {
             "endlinecolor": "#2a3f5f",
             "gridcolor": "white",
             "linecolor": "white",
             "minorgridcolor": "white",
             "startlinecolor": "#2a3f5f"
            },
            "type": "carpet"
           }
          ],
          "choropleth": [
           {
            "colorbar": {
             "outlinewidth": 0,
             "ticks": ""
            },
            "type": "choropleth"
           }
          ],
          "contour": [
           {
            "colorbar": {
             "outlinewidth": 0,
             "ticks": ""
            },
            "colorscale": [
             [
              0,
              "#0d0887"
             ],
             [
              0.1111111111111111,
              "#46039f"
             ],
             [
              0.2222222222222222,
              "#7201a8"
             ],
             [
              0.3333333333333333,
              "#9c179e"
             ],
             [
              0.4444444444444444,
              "#bd3786"
             ],
             [
              0.5555555555555556,
              "#d8576b"
             ],
             [
              0.6666666666666666,
              "#ed7953"
             ],
             [
              0.7777777777777778,
              "#fb9f3a"
             ],
             [
              0.8888888888888888,
              "#fdca26"
             ],
             [
              1,
              "#f0f921"
             ]
            ],
            "type": "contour"
           }
          ],
          "contourcarpet": [
           {
            "colorbar": {
             "outlinewidth": 0,
             "ticks": ""
            },
            "type": "contourcarpet"
           }
          ],
          "heatmap": [
           {
            "colorbar": {
             "outlinewidth": 0,
             "ticks": ""
            },
            "colorscale": [
             [
              0,
              "#0d0887"
             ],
             [
              0.1111111111111111,
              "#46039f"
             ],
             [
              0.2222222222222222,
              "#7201a8"
             ],
             [
              0.3333333333333333,
              "#9c179e"
             ],
             [
              0.4444444444444444,
              "#bd3786"
             ],
             [
              0.5555555555555556,
              "#d8576b"
             ],
             [
              0.6666666666666666,
              "#ed7953"
             ],
             [
              0.7777777777777778,
              "#fb9f3a"
             ],
             [
              0.8888888888888888,
              "#fdca26"
             ],
             [
              1,
              "#f0f921"
             ]
            ],
            "type": "heatmap"
           }
          ],
          "heatmapgl": [
           {
            "colorbar": {
             "outlinewidth": 0,
             "ticks": ""
            },
            "colorscale": [
             [
              0,
              "#0d0887"
             ],
             [
              0.1111111111111111,
              "#46039f"
             ],
             [
              0.2222222222222222,
              "#7201a8"
             ],
             [
              0.3333333333333333,
              "#9c179e"
             ],
             [
              0.4444444444444444,
              "#bd3786"
             ],
             [
              0.5555555555555556,
              "#d8576b"
             ],
             [
              0.6666666666666666,
              "#ed7953"
             ],
             [
              0.7777777777777778,
              "#fb9f3a"
             ],
             [
              0.8888888888888888,
              "#fdca26"
             ],
             [
              1,
              "#f0f921"
             ]
            ],
            "type": "heatmapgl"
           }
          ],
          "histogram": [
           {
            "marker": {
             "pattern": {
              "fillmode": "overlay",
              "size": 10,
              "solidity": 0.2
             }
            },
            "type": "histogram"
           }
          ],
          "histogram2d": [
           {
            "colorbar": {
             "outlinewidth": 0,
             "ticks": ""
            },
            "colorscale": [
             [
              0,
              "#0d0887"
             ],
             [
              0.1111111111111111,
              "#46039f"
             ],
             [
              0.2222222222222222,
              "#7201a8"
             ],
             [
              0.3333333333333333,
              "#9c179e"
             ],
             [
              0.4444444444444444,
              "#bd3786"
             ],
             [
              0.5555555555555556,
              "#d8576b"
             ],
             [
              0.6666666666666666,
              "#ed7953"
             ],
             [
              0.7777777777777778,
              "#fb9f3a"
             ],
             [
              0.8888888888888888,
              "#fdca26"
             ],
             [
              1,
              "#f0f921"
             ]
            ],
            "type": "histogram2d"
           }
          ],
          "histogram2dcontour": [
           {
            "colorbar": {
             "outlinewidth": 0,
             "ticks": ""
            },
            "colorscale": [
             [
              0,
              "#0d0887"
             ],
             [
              0.1111111111111111,
              "#46039f"
             ],
             [
              0.2222222222222222,
              "#7201a8"
             ],
             [
              0.3333333333333333,
              "#9c179e"
             ],
             [
              0.4444444444444444,
              "#bd3786"
             ],
             [
              0.5555555555555556,
              "#d8576b"
             ],
             [
              0.6666666666666666,
              "#ed7953"
             ],
             [
              0.7777777777777778,
              "#fb9f3a"
             ],
             [
              0.8888888888888888,
              "#fdca26"
             ],
             [
              1,
              "#f0f921"
             ]
            ],
            "type": "histogram2dcontour"
           }
          ],
          "mesh3d": [
           {
            "colorbar": {
             "outlinewidth": 0,
             "ticks": ""
            },
            "type": "mesh3d"
           }
          ],
          "parcoords": [
           {
            "line": {
             "colorbar": {
              "outlinewidth": 0,
              "ticks": ""
             }
            },
            "type": "parcoords"
           }
          ],
          "pie": [
           {
            "automargin": true,
            "type": "pie"
           }
          ],
          "scatter": [
           {
            "fillpattern": {
             "fillmode": "overlay",
             "size": 10,
             "solidity": 0.2
            },
            "type": "scatter"
           }
          ],
          "scatter3d": [
           {
            "line": {
             "colorbar": {
              "outlinewidth": 0,
              "ticks": ""
             }
            },
            "marker": {
             "colorbar": {
              "outlinewidth": 0,
              "ticks": ""
             }
            },
            "type": "scatter3d"
           }
          ],
          "scattercarpet": [
           {
            "marker": {
             "colorbar": {
              "outlinewidth": 0,
              "ticks": ""
             }
            },
            "type": "scattercarpet"
           }
          ],
          "scattergeo": [
           {
            "marker": {
             "colorbar": {
              "outlinewidth": 0,
              "ticks": ""
             }
            },
            "type": "scattergeo"
           }
          ],
          "scattergl": [
           {
            "marker": {
             "colorbar": {
              "outlinewidth": 0,
              "ticks": ""
             }
            },
            "type": "scattergl"
           }
          ],
          "scattermapbox": [
           {
            "marker": {
             "colorbar": {
              "outlinewidth": 0,
              "ticks": ""
             }
            },
            "type": "scattermapbox"
           }
          ],
          "scatterpolar": [
           {
            "marker": {
             "colorbar": {
              "outlinewidth": 0,
              "ticks": ""
             }
            },
            "type": "scatterpolar"
           }
          ],
          "scatterpolargl": [
           {
            "marker": {
             "colorbar": {
              "outlinewidth": 0,
              "ticks": ""
             }
            },
            "type": "scatterpolargl"
           }
          ],
          "scatterternary": [
           {
            "marker": {
             "colorbar": {
              "outlinewidth": 0,
              "ticks": ""
             }
            },
            "type": "scatterternary"
           }
          ],
          "surface": [
           {
            "colorbar": {
             "outlinewidth": 0,
             "ticks": ""
            },
            "colorscale": [
             [
              0,
              "#0d0887"
             ],
             [
              0.1111111111111111,
              "#46039f"
             ],
             [
              0.2222222222222222,
              "#7201a8"
             ],
             [
              0.3333333333333333,
              "#9c179e"
             ],
             [
              0.4444444444444444,
              "#bd3786"
             ],
             [
              0.5555555555555556,
              "#d8576b"
             ],
             [
              0.6666666666666666,
              "#ed7953"
             ],
             [
              0.7777777777777778,
              "#fb9f3a"
             ],
             [
              0.8888888888888888,
              "#fdca26"
             ],
             [
              1,
              "#f0f921"
             ]
            ],
            "type": "surface"
           }
          ],
          "table": [
           {
            "cells": {
             "fill": {
              "color": "#EBF0F8"
             },
             "line": {
              "color": "white"
             }
            },
            "header": {
             "fill": {
              "color": "#C8D4E3"
             },
             "line": {
              "color": "white"
             }
            },
            "type": "table"
           }
          ]
         },
         "layout": {
          "annotationdefaults": {
           "arrowcolor": "#2a3f5f",
           "arrowhead": 0,
           "arrowwidth": 1
          },
          "autotypenumbers": "strict",
          "coloraxis": {
           "colorbar": {
            "outlinewidth": 0,
            "ticks": ""
           }
          },
          "colorscale": {
           "diverging": [
            [
             0,
             "#8e0152"
            ],
            [
             0.1,
             "#c51b7d"
            ],
            [
             0.2,
             "#de77ae"
            ],
            [
             0.3,
             "#f1b6da"
            ],
            [
             0.4,
             "#fde0ef"
            ],
            [
             0.5,
             "#f7f7f7"
            ],
            [
             0.6,
             "#e6f5d0"
            ],
            [
             0.7,
             "#b8e186"
            ],
            [
             0.8,
             "#7fbc41"
            ],
            [
             0.9,
             "#4d9221"
            ],
            [
             1,
             "#276419"
            ]
           ],
           "sequential": [
            [
             0,
             "#0d0887"
            ],
            [
             0.1111111111111111,
             "#46039f"
            ],
            [
             0.2222222222222222,
             "#7201a8"
            ],
            [
             0.3333333333333333,
             "#9c179e"
            ],
            [
             0.4444444444444444,
             "#bd3786"
            ],
            [
             0.5555555555555556,
             "#d8576b"
            ],
            [
             0.6666666666666666,
             "#ed7953"
            ],
            [
             0.7777777777777778,
             "#fb9f3a"
            ],
            [
             0.8888888888888888,
             "#fdca26"
            ],
            [
             1,
             "#f0f921"
            ]
           ],
           "sequentialminus": [
            [
             0,
             "#0d0887"
            ],
            [
             0.1111111111111111,
             "#46039f"
            ],
            [
             0.2222222222222222,
             "#7201a8"
            ],
            [
             0.3333333333333333,
             "#9c179e"
            ],
            [
             0.4444444444444444,
             "#bd3786"
            ],
            [
             0.5555555555555556,
             "#d8576b"
            ],
            [
             0.6666666666666666,
             "#ed7953"
            ],
            [
             0.7777777777777778,
             "#fb9f3a"
            ],
            [
             0.8888888888888888,
             "#fdca26"
            ],
            [
             1,
             "#f0f921"
            ]
           ]
          },
          "colorway": [
           "#636efa",
           "#EF553B",
           "#00cc96",
           "#ab63fa",
           "#FFA15A",
           "#19d3f3",
           "#FF6692",
           "#B6E880",
           "#FF97FF",
           "#FECB52"
          ],
          "font": {
           "color": "#2a3f5f"
          },
          "geo": {
           "bgcolor": "white",
           "lakecolor": "white",
           "landcolor": "#E5ECF6",
           "showlakes": true,
           "showland": true,
           "subunitcolor": "white"
          },
          "hoverlabel": {
           "align": "left"
          },
          "hovermode": "closest",
          "mapbox": {
           "style": "light"
          },
          "paper_bgcolor": "white",
          "plot_bgcolor": "#E5ECF6",
          "polar": {
           "angularaxis": {
            "gridcolor": "white",
            "linecolor": "white",
            "ticks": ""
           },
           "bgcolor": "#E5ECF6",
           "radialaxis": {
            "gridcolor": "white",
            "linecolor": "white",
            "ticks": ""
           }
          },
          "scene": {
           "xaxis": {
            "backgroundcolor": "#E5ECF6",
            "gridcolor": "white",
            "gridwidth": 2,
            "linecolor": "white",
            "showbackground": true,
            "ticks": "",
            "zerolinecolor": "white"
           },
           "yaxis": {
            "backgroundcolor": "#E5ECF6",
            "gridcolor": "white",
            "gridwidth": 2,
            "linecolor": "white",
            "showbackground": true,
            "ticks": "",
            "zerolinecolor": "white"
           },
           "zaxis": {
            "backgroundcolor": "#E5ECF6",
            "gridcolor": "white",
            "gridwidth": 2,
            "linecolor": "white",
            "showbackground": true,
            "ticks": "",
            "zerolinecolor": "white"
           }
          },
          "shapedefaults": {
           "line": {
            "color": "#2a3f5f"
           }
          },
          "ternary": {
           "aaxis": {
            "gridcolor": "white",
            "linecolor": "white",
            "ticks": ""
           },
           "baxis": {
            "gridcolor": "white",
            "linecolor": "white",
            "ticks": ""
           },
           "bgcolor": "#E5ECF6",
           "caxis": {
            "gridcolor": "white",
            "linecolor": "white",
            "ticks": ""
           }
          },
          "title": {
           "x": 0.05
          },
          "xaxis": {
           "automargin": true,
           "gridcolor": "white",
           "linecolor": "white",
           "ticks": "",
           "title": {
            "standoff": 15
           },
           "zerolinecolor": "white",
           "zerolinewidth": 2
          },
          "yaxis": {
           "automargin": true,
           "gridcolor": "white",
           "linecolor": "white",
           "ticks": "",
           "title": {
            "standoff": 15
           },
           "zerolinecolor": "white",
           "zerolinewidth": 2
          }
         }
        },
        "title": {
         "text": "Congruence"
        },
        "xaxis": {
         "anchor": "y",
         "domain": [
          0,
          1
         ],
         "title": {
          "text": "time_sec"
         }
        },
        "yaxis": {
         "anchor": "x",
         "domain": [
          0,
          1
         ],
         "range": [
          0,
          1
         ],
         "title": {
          "text": "congruence"
         }
        }
       }
      }
     },
     "metadata": {},
     "output_type": "display_data"
    }
   ],
   "source": [
    "fig = px.bar(congr_data, x=\"time_sec\", y=\"congruence\", title='Congruence')\n",
    "fig.add_shape(type='line',\n",
    "              x0=-5, y0=0.5,\n",
    "              x1=video_emo[\"time_sec\"][video_emo.shape[0]-1], y1=0.5,\n",
    "              line=dict(color='red', width=1))\n",
    "fig.update_yaxes(range=[0, 1])\n",
    "fig.show('nteract')"
   ]
  },
  {
   "cell_type": "code",
   "execution_count": null,
   "metadata": {},
   "outputs": [],
   "source": []
  }
 ],
 "metadata": {
  "kernelspec": {
   "display_name": "expert",
   "language": "python",
   "name": "python3"
  },
  "language_info": {
   "codemirror_mode": {
    "name": "ipython",
    "version": 3
   },
   "file_extension": ".py",
   "mimetype": "text/x-python",
   "name": "python",
   "nbconvert_exporter": "python",
   "pygments_lexer": "ipython3",
   "version": "3.8.13"
  }
 },
 "nbformat": 4,
 "nbformat_minor": 2
}
