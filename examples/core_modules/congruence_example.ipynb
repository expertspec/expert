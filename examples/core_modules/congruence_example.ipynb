{
 "cells": [
  {
   "cell_type": "markdown",
   "metadata": {},
   "source": [
    "### Data preprocessing\n",
    "\n",
    "Usage of FeatureExtractor from the expert/data folder to transcribe audio, get speech time intervals, and extract faces"
   ]
  },
  {
   "cell_type": "code",
   "execution_count": 1,
   "metadata": {},
   "outputs": [
    {
     "name": "stderr",
     "output_type": "stream",
     "text": [
      "/home/ismirnov/.conda-envs/segmentation/lib/python3.8/site-packages/tqdm/auto.py:22: TqdmWarning: IProgress not found. Please update jupyter and ipywidgets. See https://ipywidgets.readthedocs.io/en/stable/user_install.html\n",
      "  from .autonotebook import tqdm as notebook_tqdm\n",
      "[nltk_data] Downloading package omw-1.4 to /home/ismirnov/nltk_data...\n",
      "[nltk_data]   Package omw-1.4 is already up-to-date!\n"
     ]
    }
   ],
   "source": [
    "import torch\n",
    "import pandas as pd\n",
    "\n",
    "from expert.data.feature_extractor import FeatureExtractor\n",
    "from expert.data.annotation.speech_to_text import get_phrases"
   ]
  },
  {
   "cell_type": "code",
   "execution_count": 9,
   "metadata": {},
   "outputs": [],
   "source": [
    "video_path = \"mj_test.mp4\""
   ]
  },
  {
   "cell_type": "code",
   "execution_count": 3,
   "metadata": {},
   "outputs": [
    {
     "name": "stderr",
     "output_type": "stream",
     "text": [
      "INFO: Created TensorFlow Lite XNNPACK delegate for CPU.\n"
     ]
    }
   ],
   "source": [
    "feature_extractor = FeatureExtractor(video_path=video_path, stt_mode=\"local\", device=torch.device(\"cpu\"))"
   ]
  },
  {
   "cell_type": "markdown",
   "metadata": {},
   "source": [
    "Feature extraction. get_features method returns the path to the folder with the reports which are json files with the features. "
   ]
  },
  {
   "cell_type": "code",
   "execution_count": 4,
   "metadata": {},
   "outputs": [
    {
     "name": "stderr",
     "output_type": "stream",
     "text": [
      "Lightning automatically upgraded your loaded checkpoint from v1.5.4 to v1.9.4. To apply the upgrade to your files permanently, run `python -m pytorch_lightning.utilities.upgrade_checkpoint --file ../../../home/ismirnov/.cache/torch/pyannote/models--pyannote--segmentation/snapshots/c4c8ceafcbb3a7a280c2d357aee9fbc9b0be7f9b/pytorch_model.bin`\n",
      "100%|██████████| 1/1 [00:59<00:00, 59.41s/it]\n"
     ]
    }
   ],
   "source": [
    "features_path = feature_extractor.get_features()"
   ]
  },
  {
   "cell_type": "markdown",
   "metadata": {},
   "source": [
    "### Transcribation"
   ]
  },
  {
   "cell_type": "code",
   "execution_count": 4,
   "metadata": {},
   "outputs": [],
   "source": [
    "import json\n",
    "\n",
    "with open(features_path + \"/transcription.json\") as f:\n",
    "    transcribation = json.load(f)"
   ]
  },
  {
   "cell_type": "code",
   "execution_count": 5,
   "metadata": {},
   "outputs": [],
   "source": [
    "phrases = get_phrases(transcribation)"
   ]
  },
  {
   "cell_type": "code",
   "execution_count": 6,
   "metadata": {},
   "outputs": [
    {
     "data": {
      "text/html": [
       "<div>\n",
       "<style scoped>\n",
       "    .dataframe tbody tr th:only-of-type {\n",
       "        vertical-align: middle;\n",
       "    }\n",
       "\n",
       "    .dataframe tbody tr th {\n",
       "        vertical-align: top;\n",
       "    }\n",
       "\n",
       "    .dataframe thead th {\n",
       "        text-align: right;\n",
       "    }\n",
       "</style>\n",
       "<table border=\"1\" class=\"dataframe\">\n",
       "  <thead>\n",
       "    <tr style=\"text-align: right;\">\n",
       "      <th></th>\n",
       "      <th>time</th>\n",
       "      <th>text</th>\n",
       "    </tr>\n",
       "  </thead>\n",
       "  <tbody>\n",
       "    <tr>\n",
       "      <th>0</th>\n",
       "      <td>[0.98, 11.66]</td>\n",
       "      <td>Not from unnamed sources and not from unsanctioned, but for me. So that you can get a good idea of</td>\n",
       "    </tr>\n",
       "    <tr>\n",
       "      <th>1</th>\n",
       "      <td>[11.66, 22.78]</td>\n",
       "      <td>how I'm feeling, ask me questions, and hear what I truly believe at this moment in time about usada, and it's ongoing examination of me. I</td>\n",
       "    </tr>\n",
       "    <tr>\n",
       "      <th>2</th>\n",
       "      <td>[22.78, 32.92]</td>\n",
       "      <td>have been patient. I have been cooperative, and I have done all I can do to provide you, so with information that I have knowledge of, because I believe in</td>\n",
       "    </tr>\n",
       "    <tr>\n",
       "      <th>3</th>\n",
       "      <td>[32.92, 43.1]</td>\n",
       "      <td>a drug free sport, and having a drug free Olympic team. Throughout all of this, I have maintained my sincere belief that if the process is fair,</td>\n",
       "    </tr>\n",
       "    <tr>\n",
       "      <th>4</th>\n",
       "      <td>[43.7, 53.82]</td>\n",
       "      <td>that in the end, the truth would prevail, and my name would be cleared. However, the events of the last several weeks have led me more</td>\n",
       "    </tr>\n",
       "    <tr>\n",
       "      <th>5</th>\n",
       "      <td>[53.82, 64.72]</td>\n",
       "      <td>in sadness than in anger, to the conclusion that you sawdda is not engaged in a fair process. Let's all review the facts. I</td>\n",
       "    </tr>\n",
       "    <tr>\n",
       "      <th>6</th>\n",
       "      <td>[64.72, 74.9]</td>\n",
       "      <td>have never, ever failed a drug test. I have taken over 160 drug tests. I have taken tests</td>\n",
       "    </tr>\n",
       "    <tr>\n",
       "      <th>7</th>\n",
       "      <td>[74.9, 85.22]</td>\n",
       "      <td>before, during, and after the 2000 Olympics, and have never failed a test. Musada has no information</td>\n",
       "    </tr>\n",
       "    <tr>\n",
       "      <th>8</th>\n",
       "      <td>[85.22, 95.46]</td>\n",
       "      <td>that shows that I have ever failed a test, because simply I have never failed a test, and no information exists anywhere</td>\n",
       "    </tr>\n",
       "    <tr>\n",
       "      <th>9</th>\n",
       "      <td>[95.46, 105.54]</td>\n",
       "      <td>to even suggest that I have ever failed a test. I have truthfully answered every question asked of me under oath by</td>\n",
       "    </tr>\n",
       "    <tr>\n",
       "      <th>10</th>\n",
       "      <td>[105.54, 115.6]</td>\n",
       "      <td>the government and the federal grand jury during the Balco investigation. I took the extraordinary step of asking for this grand jury testimony to</td>\n",
       "    </tr>\n",
       "    <tr>\n",
       "      <th>11</th>\n",
       "      <td>[115.6, 126.34]</td>\n",
       "      <td>be made public to assist Musada in its examination and its efforts to get to the truth. I truthfully answered every question asked</td>\n",
       "    </tr>\n",
       "    <tr>\n",
       "      <th>12</th>\n",
       "      <td>[126.34, 136.58]</td>\n",
       "      <td>of me by Usada during the three hour May 24th meeting, a meeting that took place only because I asked for the meeting. I made publicly</td>\n",
       "    </tr>\n",
       "    <tr>\n",
       "      <th>13</th>\n",
       "      <td>[136.58, 147.48]</td>\n",
       "      <td>available the Balco information that Usada presented to me and questioned me about, and I have demonstrated that the information had no connection to me. There</td>\n",
       "    </tr>\n",
       "    <tr>\n",
       "      <th>14</th>\n",
       "      <td>[147.48, 157.64]</td>\n",
       "      <td>exists no one who can truthfully testify that I have ever used performance enhancing drugs simply for the reason that I never have. Despite</td>\n",
       "    </tr>\n",
       "    <tr>\n",
       "      <th>15</th>\n",
       "      <td>[157.64, 168.1]</td>\n",
       "      <td>all of its leaks and rumor mongering, Usada has yet to produce a single shred of credible information against me. These</td>\n",
       "    </tr>\n",
       "    <tr>\n",
       "      <th>16</th>\n",
       "      <td>[168.1, 178.26]</td>\n",
       "      <td>are the facts. I have done all that I can do. I should have been cleared a long time ago. Instead, the only thing Usada appears to be doing is trying</td>\n",
       "    </tr>\n",
       "    <tr>\n",
       "      <th>17</th>\n",
       "      <td>[178.26, 188.68]</td>\n",
       "      <td>to secretly change the standards of proof, and the process that applies in these types of matters in the middle of the day. So they can achieve the Usada desired</td>\n",
       "    </tr>\n",
       "    <tr>\n",
       "      <th>18</th>\n",
       "      <td>[188.68, 198.98]</td>\n",
       "      <td>result. I feel like I was asked to run the hundred meters and after the race, they told me that I didn't win because my form was bad. Let me be clear.</td>\n",
       "    </tr>\n",
       "    <tr>\n",
       "      <th>19</th>\n",
       "      <td>[199.4, 209.88]</td>\n",
       "      <td>I am more than happy to answer every question, but I'm not going to engage in Usada's secret kangaroo court. I will answer</td>\n",
       "    </tr>\n",
       "    <tr>\n",
       "      <th>20</th>\n",
       "      <td>[209.88, 220.26]</td>\n",
       "      <td>Usada's questions in a public form that will be open for the entire world to see here and evaluate. For the third time,</td>\n",
       "    </tr>\n",
       "    <tr>\n",
       "      <th>21</th>\n",
       "      <td>[220.66, 230.8]</td>\n",
       "      <td>I will answer all the questions Usada is asking of me. However, this time I will not answer them in secret and behind closed</td>\n",
       "    </tr>\n",
       "    <tr>\n",
       "      <th>22</th>\n",
       "      <td>[230.8, 241.36]</td>\n",
       "      <td>doors. I will answer them in public in the light of day so the world can hear the questions, hear my responses, see the information, and see for themselves that</td>\n",
       "    </tr>\n",
       "    <tr>\n",
       "      <th>23</th>\n",
       "      <td>[241.36, 251.36]</td>\n",
       "      <td>I am telling the truth. Usada can ask and I can answer these questions before the United States Senate, which has shown interest in this matter, or some other public form</td>\n",
       "    </tr>\n",
       "    <tr>\n",
       "      <th>24</th>\n",
       "      <td>[251.36, 261.38]</td>\n",
       "      <td>modeled after a judicial proceeding. The truth is my friend and transparency, my ally in this matter. And this is why I want this process to be as transparent,</td>\n",
       "    </tr>\n",
       "    <tr>\n",
       "      <th>25</th>\n",
       "      <td>[261.86, 271.9]</td>\n",
       "      <td>open, and fair as possible so that everyone can see for themselves what I have been saying all along. That I have never, ever used performance enhancing drugs and</td>\n",
       "    </tr>\n",
       "    <tr>\n",
       "      <th>26</th>\n",
       "      <td>[271.9, 281.9]</td>\n",
       "      <td>that I have accomplished what I have accomplished because of my God-given abilities and hard work. I want to compete. I will compete, but</td>\n",
       "    </tr>\n",
       "    <tr>\n",
       "      <th>27</th>\n",
       "      <td>[281.9, 290.76]</td>\n",
       "      <td>more importantly, I want to retain my most treasured attribute, my reputation. Thank you very much and I will now take your questions.</td>\n",
       "    </tr>\n",
       "  </tbody>\n",
       "</table>\n",
       "</div>"
      ],
      "text/plain": [
       "                time  \\\n",
       "0      [0.98, 11.66]   \n",
       "1     [11.66, 22.78]   \n",
       "2     [22.78, 32.92]   \n",
       "3      [32.92, 43.1]   \n",
       "4      [43.7, 53.82]   \n",
       "5     [53.82, 64.72]   \n",
       "6      [64.72, 74.9]   \n",
       "7      [74.9, 85.22]   \n",
       "8     [85.22, 95.46]   \n",
       "9    [95.46, 105.54]   \n",
       "10   [105.54, 115.6]   \n",
       "11   [115.6, 126.34]   \n",
       "12  [126.34, 136.58]   \n",
       "13  [136.58, 147.48]   \n",
       "14  [147.48, 157.64]   \n",
       "15   [157.64, 168.1]   \n",
       "16   [168.1, 178.26]   \n",
       "17  [178.26, 188.68]   \n",
       "18  [188.68, 198.98]   \n",
       "19   [199.4, 209.88]   \n",
       "20  [209.88, 220.26]   \n",
       "21   [220.66, 230.8]   \n",
       "22   [230.8, 241.36]   \n",
       "23  [241.36, 251.36]   \n",
       "24  [251.36, 261.38]   \n",
       "25   [261.86, 271.9]   \n",
       "26    [271.9, 281.9]   \n",
       "27   [281.9, 290.76]   \n",
       "\n",
       "                                                                                                                                                                          text  \n",
       "0                                                                           Not from unnamed sources and not from unsanctioned, but for me. So that you can get a good idea of  \n",
       "1                                   how I'm feeling, ask me questions, and hear what I truly believe at this moment in time about usada, and it's ongoing examination of me. I  \n",
       "2                  have been patient. I have been cooperative, and I have done all I can do to provide you, so with information that I have knowledge of, because I believe in  \n",
       "3                             a drug free sport, and having a drug free Olympic team. Throughout all of this, I have maintained my sincere belief that if the process is fair,  \n",
       "4                                       that in the end, the truth would prevail, and my name would be cleared. However, the events of the last several weeks have led me more  \n",
       "5                                                  in sadness than in anger, to the conclusion that you sawdda is not engaged in a fair process. Let's all review the facts. I  \n",
       "6                                                                                    have never, ever failed a drug test. I have taken over 160 drug tests. I have taken tests  \n",
       "7                                                                         before, during, and after the 2000 Olympics, and have never failed a test. Musada has no information  \n",
       "8                                                     that shows that I have ever failed a test, because simply I have never failed a test, and no information exists anywhere  \n",
       "9                                                          to even suggest that I have ever failed a test. I have truthfully answered every question asked of me under oath by  \n",
       "10                          the government and the federal grand jury during the Balco investigation. I took the extraordinary step of asking for this grand jury testimony to  \n",
       "11                                          be made public to assist Musada in its examination and its efforts to get to the truth. I truthfully answered every question asked  \n",
       "12                                      of me by Usada during the three hour May 24th meeting, a meeting that took place only because I asked for the meeting. I made publicly  \n",
       "13             available the Balco information that Usada presented to me and questioned me about, and I have demonstrated that the information had no connection to me. There  \n",
       "14                                 exists no one who can truthfully testify that I have ever used performance enhancing drugs simply for the reason that I never have. Despite  \n",
       "15                                                     all of its leaks and rumor mongering, Usada has yet to produce a single shred of credible information against me. These  \n",
       "16                       are the facts. I have done all that I can do. I should have been cleared a long time ago. Instead, the only thing Usada appears to be doing is trying  \n",
       "17           to secretly change the standards of proof, and the process that applies in these types of matters in the middle of the day. So they can achieve the Usada desired  \n",
       "18                      result. I feel like I was asked to run the hundred meters and after the race, they told me that I didn't win because my form was bad. Let me be clear.  \n",
       "19                                                  I am more than happy to answer every question, but I'm not going to engage in Usada's secret kangaroo court. I will answer  \n",
       "20                                                     Usada's questions in a public form that will be open for the entire world to see here and evaluate. For the third time,  \n",
       "21                                                I will answer all the questions Usada is asking of me. However, this time I will not answer them in secret and behind closed  \n",
       "22            doors. I will answer them in public in the light of day so the world can hear the questions, hear my responses, see the information, and see for themselves that  \n",
       "23  I am telling the truth. Usada can ask and I can answer these questions before the United States Senate, which has shown interest in this matter, or some other public form  \n",
       "24             modeled after a judicial proceeding. The truth is my friend and transparency, my ally in this matter. And this is why I want this process to be as transparent,  \n",
       "25          open, and fair as possible so that everyone can see for themselves what I have been saying all along. That I have never, ever used performance enhancing drugs and  \n",
       "26                                   that I have accomplished what I have accomplished because of my God-given abilities and hard work. I want to compete. I will compete, but  \n",
       "27                                      more importantly, I want to retain my most treasured attribute, my reputation. Thank you very much and I will now take your questions.  "
      ]
     },
     "execution_count": 6,
     "metadata": {},
     "output_type": "execute_result"
    }
   ],
   "source": [
    "pd.set_option('display.max_rows', 162)\n",
    "pd.set_option('display.max_colwidth', 10000)\n",
    "\n",
    "pd.DataFrame(phrases)"
   ]
  },
  {
   "cell_type": "markdown",
   "metadata": {},
   "source": [
    "### Congruence"
   ]
  },
  {
   "cell_type": "code",
   "execution_count": 7,
   "metadata": {},
   "outputs": [],
   "source": [
    "import torch\n",
    "\n",
    "from expert.core.congruence import CongruenceDetector"
   ]
  },
  {
   "cell_type": "markdown",
   "metadata": {},
   "source": [
    "By default, for preprocessing reports, \"temp\" directory and a folder named as the analysed video file are created in it. All other files are taken by the name of the modules"
   ]
  },
  {
   "cell_type": "code",
   "execution_count": 10,
   "metadata": {},
   "outputs": [],
   "source": [
    "cong_detector = CongruenceDetector(video_path=video_path,\n",
    "                                   features_path=features_path + \"/features.json\",\n",
    "                                   face_image=features_path + \"/faces/0.jpg\",\n",
    "                                   diarization_path=features_path + \"/diarization.json\",\n",
    "                                   transcription_path=features_path + \"/transcription.json\",\n",
    "                                   device=torch.device(\"cpu\"))"
   ]
  },
  {
   "cell_type": "markdown",
   "metadata": {},
   "source": [
    "get_congruence method returns the dictionary with features {\"emotions\": emotions_data, \"congruence\": cong_data} and creates json files in correspondig folder."
   ]
  },
  {
   "cell_type": "code",
   "execution_count": 11,
   "metadata": {},
   "outputs": [],
   "source": [
    "results = cong_detector.get_congruence()"
   ]
  },
  {
   "cell_type": "markdown",
   "metadata": {},
   "source": [
    "### Visualization of results\n",
    "\n",
    "Pyplot is used to create interactive data. There may be a conflict with pytorch-lightning, it is not used in congruence\n",
    "\n",
    "!pip install plotly\n",
    "\n",
    "!pip install nbformat>=4.2.0"
   ]
  },
  {
   "cell_type": "code",
   "execution_count": 12,
   "metadata": {},
   "outputs": [],
   "source": [
    "import plotly.express as px\n",
    "import plotly.graph_objects as go\n",
    "\n",
    "video_emo = pd.DataFrame(results[\"emotions\"][\"video\"])\n",
    "audio_emo = pd.DataFrame(results[\"emotions\"][\"audio\"])\n",
    "text_emo = pd.DataFrame(results[\"emotions\"][\"text\"])"
   ]
  },
  {
   "cell_type": "markdown",
   "metadata": {},
   "source": [
    "Visualization of the emotions by the modality"
   ]
  },
  {
   "cell_type": "code",
   "execution_count": 25,
   "metadata": {},
   "outputs": [
    {
     "data": {
      "image/png": "[encoded data removed]"
     },
     "metadata": {},
     "output_type": "display_data"
    }
   ],
   "source": [
    "trace_video = go.Scatter(x=video_emo['time_sec'], y=video_emo['video_anger'], name='Video Anger')\n",
    "trace_audio = go.Scatter(x=audio_emo['time_sec'], y=audio_emo['audio_anger'], name='Audio Anger')\n",
    "trace_text = go.Scatter(x=text_emo['time_sec'], y=text_emo['text_anger'], name='Text Anger')\n",
    "\n",
    "# Create buttons to switch between datasets\n",
    "updatemenus = [{'buttons': [\n",
    "    {'method': 'update', 'label': 'Video', 'args': [{'y': [video_emo['video_anger'], video_emo['video_neutral'], video_emo['video_happiness']]}]},\n",
    "    {'method': 'update', 'label': 'Audio', 'args': [{'y': [audio_emo['audio_anger'], audio_emo['audio_neutral'], audio_emo['audio_happiness']]}]},\n",
    "    {'method': 'update', 'label': 'Text', 'args': [{'y': [text_emo['text_anger'], text_emo['text_neutral'], text_emo['text_happiness']]}]}\n",
    "], 'direction': 'down', 'showactive': True}]\n",
    "\n",
    "# Create layout with buttons\n",
    "layout = go.Layout(title='Emotions by Source', updatemenus=updatemenus)\n",
    "\n",
    "fig = go.Figure(data=[trace_video, trace_audio, trace_text], layout=layout)\n",
    "fig.update_xaxes(range=[0, text_emo['time_sec'].max()+5])\n",
    "fig.update_yaxes(range=[0, 1])\n",
    "fig.show()\n",
    "# fig.show('png')"
   ]
  },
  {
   "cell_type": "markdown",
   "metadata": {},
   "source": [
    "Visualization of the congruence level"
   ]
  },
  {
   "cell_type": "code",
   "execution_count": 19,
   "metadata": {},
   "outputs": [],
   "source": [
    "congr_data = pd.DataFrame(results[\"congruence\"])"
   ]
  },
  {
   "cell_type": "code",
   "execution_count": 24,
   "metadata": {},
   "outputs": [
    {
     "data": {
      "image/png": "[encoded data removed]"
     },
     "metadata": {},
     "output_type": "display_data"
    }
   ],
   "source": [
    "fig = px.bar(congr_data, x=\"time_sec\", y=\"congruence\", title='Congruence')\n",
    "fig.add_shape(type='line',\n",
    "              x0=-5, y0=0.5,\n",
    "              x1=video_emo[\"time_sec\"][video_emo.shape[0]-1], y1=0.5,\n",
    "              line=dict(color='red', width=1))\n",
    "fig.update_yaxes(range=[0, 1])\n",
    "fig.show()\n",
    "# fig.show('png')"
   ]
  },
  {
   "cell_type": "code",
   "execution_count": null,
   "metadata": {},
   "outputs": [],
   "source": []
  }
 ],
 "metadata": {
  "kernelspec": {
   "display_name": "expert",
   "language": "python",
   "name": "python3"
  },
  "language_info": {
   "codemirror_mode": {
    "name": "ipython",
    "version": 3
   },
   "file_extension": ".py",
   "mimetype": "text/x-python",
   "name": "python",
   "nbconvert_exporter": "python",
   "pygments_lexer": "ipython3",
   "version": "3.8.13"
  }
 },
 "nbformat": 4,
 "nbformat_minor": 2
}
