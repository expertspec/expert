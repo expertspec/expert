{
 "cells": [
  {
   "cell_type": "markdown",
   "metadata": {},
   "source": [
    "### Audio preprocessing"
   ]
  },
  {
   "cell_type": "code",
   "execution_count": 1,
   "metadata": {},
   "outputs": [
    {
     "name": "stderr",
     "output_type": "stream",
     "text": [
      "/home/izs/miniconda3/envs/relevant/lib/python3.9/site-packages/tqdm/auto.py:21: TqdmWarning: IProgress not found. Please update jupyter and ipywidgets. See https://ipywidgets.readthedocs.io/en/stable/user_install.html\n",
      "  from .autonotebook import tqdm as notebook_tqdm\n",
      "/home/izs/.local/lib/python3.9/site-packages/whisper/timing.py:57: NumbaDeprecationWarning: \u001b[1mThe 'nopython' keyword argument was not supplied to the 'numba.jit' decorator. The implicit default value for this argument is currently False, but it will be changed to True in Numba 0.59.0. See https://numba.readthedocs.io/en/stable/reference/deprecation.html#deprecation-of-object-mode-fall-back-behaviour-when-using-jit for details.\u001b[0m\n",
      "  def backtrace(trace: np.ndarray):\n"
     ]
    }
   ],
   "source": [
    "import torch\n",
    "\n",
    "from examples.cases import example_utils\n",
    "from examples.cases.call_stats import DialogStats, call_statistic\n",
    "from expert.data.annotation import speech_to_text\n",
    "from expert.data.diarization.speaker_diarization import SpeakerDiarization"
   ]
  },
  {
   "cell_type": "code",
   "execution_count": 2,
   "metadata": {},
   "outputs": [],
   "source": [
    "file_path = \"examples/cases/test_aud.wav\"\n",
    "\n",
    "Diarization = SpeakerDiarization(audio=file_path, device=torch.device(\"cpu\"))\n",
    "speakers = Diarization.apply()"
   ]
  },
  {
   "cell_type": "code",
   "execution_count": 3,
   "metadata": {},
   "outputs": [],
   "source": [
    "transcribation = speech_to_text.transcribe_video(file_path, lang=\"ru\")"
   ]
  },
  {
   "cell_type": "code",
   "execution_count": 4,
   "metadata": {},
   "outputs": [],
   "source": [
    "all_words = speech_to_text.get_all_words(transcribation)[0]"
   ]
  },
  {
   "cell_type": "code",
   "execution_count": 5,
   "metadata": {},
   "outputs": [],
   "source": [
    "timestamps = []\n",
    "for speaker in speakers:\n",
    "    for elem in speakers[speaker]:\n",
    "        timestamps.append((elem, speaker))"
   ]
  },
  {
   "cell_type": "code",
   "execution_count": 11,
   "metadata": {},
   "outputs": [],
   "source": [
    "sentences = example_utils.sentences_with_time(timestamps, all_words)"
   ]
  },
  {
   "cell_type": "markdown",
   "metadata": {},
   "source": [
    "Connecting sentences with speech intevals form diarization"
   ]
  },
  {
   "cell_type": "code",
   "execution_count": 12,
   "metadata": {},
   "outputs": [
    {
     "data": {
      "text/plain": [
       "{0: (' Здравствуйте', ([0, 3], 'SPEAKER_01')),\n",
       " 1: (' Мне нужна помощь. Я забыла, но вдруг внезапно обнаружила, что у меня есть карточка вашего банка. И на ней написано И тут я вспоминаю, что мне в паре карточку впалили. Думаю, ну ладно, пусть будет. И даже на ней моё имя выбито. Но когда я её получала? Что это за карточка? Актуально, я так поняла, до года, прямо на вообще. Моя фамилия',\n",
       "  ([2, 36], 'SPEAKER_00')),\n",
       " 2: (' Проверьте', ([36, 37], 'SPEAKER_01')),\n",
       " 3: (' и скажите, что мне надо делать с этой карточкой, какие плюшки она мне дает.',\n",
       "  ([37, 42], 'SPEAKER_00')),\n",
       " 4: (' ДС?', ([42, 44], 'SPEAKER_01')),\n",
       " 5: (' Нет, через О В секунду', ([44, 50], 'SPEAKER_00')),\n",
       " 6: (' Я даже не знаю, какой кот у этой карточки. Сейчас посмотрим, скажу вам.',\n",
       "  ([50, 57], 'SPEAKER_01')),\n",
       " 7: ('', ([51, 55], 'SPEAKER_00')),\n",
       " 8: (' Обычно на карточках расписываются. У меня тут подлинные стахи.',\n",
       "  ([63, 68], 'SPEAKER_00')),\n",
       " 9: ('', ([68, 69], 'SPEAKER_01')),\n",
       " 10: (' Так, дата рождения ваша?', ([74, 76], 'SPEAKER_01')),\n",
       " 11: (' Четвёртая, двенадцать, с отвощенного.', ([76, 80], 'SPEAKER_00')),\n",
       " 12: (' Так, и Да, верно назвали. Так, у вас пакет',\n",
       "  ([84.0, 92], 'SPEAKER_01')),\n",
       " 13: (' услуг нового.', ([92, 95], 'SPEAKER_00')),\n",
       " 14: (' Это сомнестный продукт с Скажите, у вас оптиматор какой? Да, да. Ну, а один теперь это. Так, вот, смотрите. Вы из этого, как вы, в том числе, этот пакет можете получать полутарифу, 50% в скидке, если этот риф в акции указан. Ну, если вы в бомоформуле, я думаю, у вас в астротариф указан. У вас карта сейчас не активирована. Скитка пока что вас не действует. Что надо делать? Нужно скачать инсинг для начала мобильное приложение. Так, а теперь стоп. Теперь стоп. Мой телефон не позволяет',\n",
       "  ([95, 135], 'SPEAKER_01')),\n",
       " 15: ('', ([107, 111], 'SPEAKER_00')),\n",
       " 16: ('', ([127, 129], 'SPEAKER_00')),\n",
       " 17: (' скачать это приложение. И, конечно, это не так. Я живу. Какие у меня еще варианты есть? В отделении банка. В отделении банка спрашивают, вам помогут активировать вам все. Скажите, в любой отделении или? Ну, думаю, во всех отделениях будет именно планшет, чтобы вам с их устройства помогут активировать.',\n",
       "  ([132, 155], 'SPEAKER_00')),\n",
       " 18: ('', ([145, 146], 'SPEAKER_01')),\n",
       " 19: ('', ([147, 154], 'SPEAKER_01')),\n",
       " 20: (' Это так будет происходить. В каком городе находитесь? В Минске. В Минске, думаю, вообще, в Минске. В Минске, в Минске. В',\n",
       "  ([156, 166], 'SPEAKER_01')),\n",
       " 21: ('', ([163, 164], 'SPEAKER_00')),\n",
       " 22: (' Минске, думаю,', ([165, 167], 'SPEAKER_00')),\n",
       " 23: (' во всех точно будет. В любое оборотение', ([167, 169], 'SPEAKER_01')),\n",
       " 24: (' отделения вам активирует карту. И на следующий день уже будет действовать скидка. По поводу комиссии, этот пакет из лечебничной комиссии нет никакой. Там сказали, что какую-то сумму нужно мне положить на эту карту. Должна быть сумма. Сумма.',\n",
       "  ([169.68, 185], 'SPEAKER_01')),\n",
       " 25: (' Сейчас по комиссии.', ([183, 187], 'SPEAKER_00')),\n",
       " 26: (' Я не очень поняла, когда', ([188.48, 191], 'SPEAKER_00')),\n",
       " 27: (' просто пустая карта, она будет скачать. Я',\n",
       "  ([191, 194], 'SPEAKER_01')),\n",
       " 28: (' не очень поняла, когда просто пустая карта смысл в ее. Но вроде как, какая-то сумма должна быть или что-то там должно покупаться с этой карты.',\n",
       "  ([193, 202], 'SPEAKER_00')),\n",
       " 29: (' Если у вас 6 месяцев будет без учета критериев. По этой карте, да, есть критерия, нужно, чтобы была сумма, и вы 500 до русских рублей в месяц должны тратить. Но это на выполнение этого критерия не требуется. Если вы активируете карту до 31 декабря, и у вас этот период будет 6 месяцев. То есть, у вас будет эти 6 месяцев на 60-60 китках 50%. И тогда критериев выполнять не нужно. Также, если вы будете в соседях либо в магазине грин рассчитываетесь. Бывает.',\n",
       "  ([202, 232], 'SPEAKER_01')),\n",
       " 30: (' За расчет', ([233, 235], 'SPEAKER_00')),\n",
       " 31: (' в этих магазинах вы будете получать бонусы. То, будешь, просто купили продукты. У вас есть бонусы. Вы сможете, накопив бонусы, купить, к примеру, какой-то талон в магазине грин, на 30 рублей. Вы тратите, накапливаете баллы, и потом сможете купить. Вот такой купон.',\n",
       "  ([235, 259], 'SPEAKER_01')),\n",
       " 32: (' Ради того, чтобы платить не 30, а 15 рублей, нужно в месяц тратить 500 рублей. Такая замануха, ну, прямо смешно даже иногда. По логике, да? То есть, я соглашаю. Ну, и то меня я пришла выяснить один вопрос. А один. Давайте, давайте. Я не знаю, что это такое. Но, кстати, я не знаю, что это такое. Но, кстати, я не знаю, что это такое. Но, кстати, я не знаю, что это такое. Но, кстати, я не знаю, что это такое. Но, кстати, я не знаю, что это такое. Но, кстати, я не знаю, что это такое. Но, кстати, я не знаю, что это такое. Но, кстати, я не знаю, что это такое. Но, кстати, я не знаю, что это такое. Но, кстати, я не знаю, что это такое. Ну, если... Ну, если... Ну, вы согласитесь по человеку. Если вы отойдете от всех ваших дел банковских, просто по-человечески, принцип такой, чтобы тратить вам 15, а не 30, пожалуйста, тратите с карточки 500. Ну, если тратить именно... Я туда же до них положу еще.',\n",
       "  ([257, 325], 'SPEAKER_00')),\n",
       " 33: ('', ([268, 270], 'SPEAKER_01')),\n",
       " 34: ('', ([306, 311], 'SPEAKER_01')),\n",
       " 35: (' Да, значит, чтобы перерываю. Если вы именно... Я с вами не совсем согласен, потому что если вы именно так рассматриваете отдельно, тогда, да, в вашем случае вы будете правы. Но если рассматривать именно то, что у вас карта, в принципе, в белорусских рублях без комиссии, в любом случае, не все банки предоставляют вообще карты бесплатной белоруски. Это да, тут я согласна, даже вопросов нет. Бесплатная белорусская карта, она обслуживается без комиссии, бесконтактной, и дополнительно еще, как просто в Добарок, вы можете сами расплачиваться ей. И, помимо этого, вам еще и начисляется скидка 50%, и 6 месяцев это будет без комиссии. То, что вы просто оформили карту, и 6 месяцев вам не нужно тратить эти 500 белорусских рублях. Вы просто пользуетесь картой, как обычно. Ну, а потом,',\n",
       "  ([323, 371], 'SPEAKER_01')),\n",
       " 36: ('', ([343, 347], 'SPEAKER_00')),\n",
       " 37: (' если я 500 рублей не плачу, уже не получаю 50%? Если',\n",
       "  ([370, 376], 'SPEAKER_00')),\n",
       " 38: (' 500 не тратите, то комиссия, именно скидку не получите, но пакет также без комиссии будет обслуживаться. Ну,',\n",
       "  ([376, 384], 'SPEAKER_01')),\n",
       " 39: (' скидки то уже нет. Ну, так я с вами говорю. Пока это есть, да, какие-то плюшки я выигрываю, но потом же все равно приходит к этому принципу. В общем, из того, что вы мне сказать, в любом банке они мне помогут ее активировать. И все.',\n",
       "  ([383, 401], 'SPEAKER_00')),\n",
       " 40: ('', ([385, 386], 'SPEAKER_01')),\n",
       " 41: ('', ([400, 402], 'SPEAKER_01')),\n",
       " 42: (' А дальше я там уже выбираю. Класси туда деньги, пользуйся тенизниками. Ясно, спасибо большое, Хорошего вам дня. И с первым днем зимы. У вас тоже с первым. У вас нету скидки. Спасибо. До свидания.',\n",
       "  ([402, 414], 'SPEAKER_00')),\n",
       " 43: ('', ([409, 410], 'SPEAKER_01')),\n",
       " 44: ('', ([411, 415], 'SPEAKER_01'))}"
      ]
     },
     "execution_count": 12,
     "metadata": {},
     "output_type": "execute_result"
    }
   ],
   "source": [
    "ci = example_utils.place_words(timestamps, sentences[1])\n",
    "\n",
    "for num, i in enumerate(ci):\n",
    "    timestamps[i[1]][0][0] = min(timestamps[i[1]][0][0], sentences[1][num][1])\n",
    "\n",
    "timestamps.sort()\n",
    "\n",
    "sentences = example_utils.sentences_with_time(timestamps, all_words)\n",
    "\n",
    "sentences[0]"
   ]
  },
  {
   "cell_type": "markdown",
   "metadata": {},
   "source": [
    "### Extracting of specific statistics"
   ]
  },
  {
   "cell_type": "code",
   "execution_count": 13,
   "metadata": {},
   "outputs": [],
   "source": [
    "from examples.cases.call_stats import DialogStats, call_statistic"
   ]
  },
  {
   "cell_type": "code",
   "execution_count": 14,
   "metadata": {},
   "outputs": [
    {
     "name": "stdout",
     "output_type": "stream",
     "text": [
      "Перебивал SPEAKER_00\n",
      "00:02 - 00:03\n",
      "Перебивал SPEAKER_01\n",
      "00:36 - 00:36\n",
      "Перебивал SPEAKER_00\n",
      "00:37 - 00:37\n",
      "Перебивал SPEAKER_01\n",
      "00:42 - 00:42\n",
      "Перебивал SPEAKER_00\n",
      "00:44 - 00:44\n",
      "Перебивал SPEAKER_01\n",
      "00:50 - 00:50\n",
      "Перебивал SPEAKER_00\n",
      "00:51 - 00:55\n",
      "Перебивал SPEAKER_01\n",
      "01:08 - 01:08\n",
      "Перебивал SPEAKER_00\n",
      "01:16 - 01:16\n",
      "Перебивал SPEAKER_00\n",
      "01:32 - 01:32\n",
      "Перебивал SPEAKER_01\n",
      "01:35 - 01:35\n",
      "Перебивал SPEAKER_00\n",
      "01:47 - 01:51\n",
      "Перебивал SPEAKER_00\n",
      "02:07 - 02:09\n",
      "Перебивал SPEAKER_00\n",
      "02:12 - 02:15\n",
      "Перебивал SPEAKER_01\n",
      "02:25 - 02:26\n",
      "Перебивал SPEAKER_01\n",
      "02:27 - 02:34\n",
      "Перебивал SPEAKER_00\n",
      "02:43 - 02:44\n",
      "Перебивал SPEAKER_00\n",
      "02:45 - 02:46\n",
      "Перебивал SPEAKER_01\n",
      "02:47 - 02:47\n",
      "Перебивал SPEAKER_00\n",
      "03:03 - 03:05\n",
      "Перебивал SPEAKER_01\n",
      "03:11 - 03:11\n",
      "Перебивал SPEAKER_00\n",
      "03:13 - 03:14\n",
      "Перебивал SPEAKER_01\n",
      "03:22 - 03:22\n",
      "Перебивал SPEAKER_01\n",
      "03:55 - 03:55\n",
      "Перебивал SPEAKER_00\n",
      "04:17 - 04:19\n",
      "Перебивал SPEAKER_01\n",
      "04:28 - 04:30\n",
      "Перебивал SPEAKER_01\n",
      "05:06 - 05:11\n",
      "Перебивал SPEAKER_01\n",
      "05:23 - 05:25\n",
      "Перебивал SPEAKER_00\n",
      "05:43 - 05:47\n",
      "Перебивал SPEAKER_00\n",
      "06:10 - 06:11\n",
      "Перебивал SPEAKER_01\n",
      "06:16 - 06:16\n",
      "Перебивал SPEAKER_00\n",
      "06:23 - 06:24\n",
      "Перебивал SPEAKER_01\n",
      "06:25 - 06:26\n",
      "Перебивал SPEAKER_01\n",
      "06:40 - 06:41\n",
      "Перебивал SPEAKER_00\n",
      "06:42 - 06:42\n",
      "Перебивал SPEAKER_01\n",
      "06:49 - 06:50\n",
      "Перебивал SPEAKER_01\n",
      "06:51 - 06:54\n"
     ]
    }
   ],
   "source": [
    "report = call_statistic(Diarization.audio, Diarization.sr, sentences[0], speakers)"
   ]
  },
  {
   "cell_type": "code",
   "execution_count": 15,
   "metadata": {},
   "outputs": [],
   "source": [
    "import pandas as pd"
   ]
  },
  {
   "cell_type": "code",
   "execution_count": 16,
   "metadata": {},
   "outputs": [
    {
     "data": {
      "text/html": [
       "<div>\n",
       "<style scoped>\n",
       "    .dataframe tbody tr th:only-of-type {\n",
       "        vertical-align: middle;\n",
       "    }\n",
       "\n",
       "    .dataframe tbody tr th {\n",
       "        vertical-align: top;\n",
       "    }\n",
       "\n",
       "    .dataframe thead th {\n",
       "        text-align: right;\n",
       "    }\n",
       "</style>\n",
       "<table border=\"1\" class=\"dataframe\">\n",
       "  <thead>\n",
       "    <tr style=\"text-align: right;\">\n",
       "      <th></th>\n",
       "      <th>Продолжительность разговора сек</th>\n",
       "      <th>Тишина в начале сек</th>\n",
       "      <th>Тишина в конце сек</th>\n",
       "      <th>Длителньость тишины сек</th>\n",
       "      <th>Доля тишины</th>\n",
       "      <th>Продолжительность речи SPEAKER_00</th>\n",
       "      <th>Скорость речи SPEAKER_00</th>\n",
       "      <th>Количество интервалов SPEAKER_00</th>\n",
       "      <th>Доля речи SPEAKER_00</th>\n",
       "      <th>Продолжительность речи SPEAKER_01</th>\n",
       "      <th>Скорость речи SPEAKER_01</th>\n",
       "      <th>Количество интервалов SPEAKER_01</th>\n",
       "      <th>Доля речи SPEAKER_01</th>\n",
       "      <th>Продолжительность одновременной речи</th>\n",
       "      <th>Доля одновременной речи</th>\n",
       "      <th>Количество перебиваний SPEAKER_00</th>\n",
       "      <th>Количество перебиваний SPEAKER_01</th>\n",
       "    </tr>\n",
       "  </thead>\n",
       "  <tbody>\n",
       "    <tr>\n",
       "      <th>0</th>\n",
       "      <td>414.84</td>\n",
       "      <td>0</td>\n",
       "      <td>-0.16</td>\n",
       "      <td>69.0</td>\n",
       "      <td>6.012174</td>\n",
       "      <td>218.52</td>\n",
       "      <td>128.983018</td>\n",
       "      <td>21</td>\n",
       "      <td>0.631853</td>\n",
       "      <td>227.32</td>\n",
       "      <td>127.887393</td>\n",
       "      <td>24</td>\n",
       "      <td>0.657298</td>\n",
       "      <td>50</td>\n",
       "      <td>0.120528</td>\n",
       "      <td>19</td>\n",
       "      <td>18</td>\n",
       "    </tr>\n",
       "  </tbody>\n",
       "</table>\n",
       "</div>"
      ],
      "text/plain": [
       "   Продолжительность разговора сек  Тишина в начале сек  Тишина в конце сек  \\\n",
       "0                           414.84                    0               -0.16   \n",
       "\n",
       "   Длителньость тишины сек  Доля тишины  Продолжительность речи SPEAKER_00  \\\n",
       "0                     69.0     6.012174                             218.52   \n",
       "\n",
       "   Скорость речи SPEAKER_00  Количество интервалов SPEAKER_00  \\\n",
       "0                128.983018                                21   \n",
       "\n",
       "   Доля речи SPEAKER_00  Продолжительность речи SPEAKER_01  \\\n",
       "0              0.631853                             227.32   \n",
       "\n",
       "   Скорость речи SPEAKER_01  Количество интервалов SPEAKER_01  \\\n",
       "0                127.887393                                24   \n",
       "\n",
       "   Доля речи SPEAKER_01  Продолжительность одновременной речи  \\\n",
       "0              0.657298                                    50   \n",
       "\n",
       "   Доля одновременной речи  Количество перебиваний SPEAKER_00  \\\n",
       "0                 0.120528                                 19   \n",
       "\n",
       "   Количество перебиваний SPEAKER_01  \n",
       "0                                 18  "
      ]
     },
     "execution_count": 16,
     "metadata": {},
     "output_type": "execute_result"
    }
   ],
   "source": [
    "pd.DataFrame(report)"
   ]
  },
  {
   "cell_type": "markdown",
   "metadata": {},
   "source": [
    "### Analysis of emotions by speech"
   ]
  },
  {
   "cell_type": "code",
   "execution_count": 17,
   "metadata": {},
   "outputs": [],
   "source": [
    "from expert.core.congruence import audio_emotions"
   ]
  },
  {
   "cell_type": "code",
   "execution_count": 48,
   "metadata": {},
   "outputs": [],
   "source": [
    "speakers = example_utils.get_rounded_intervals(speakers)"
   ]
  },
  {
   "cell_type": "code",
   "execution_count": 52,
   "metadata": {},
   "outputs": [],
   "source": [
    "CoAudio = audio_emotions.audio_analysis.AudioAnalysis(video_path=file_path,\n",
    "                                   stamps=speakers,\n",
    "                                   speaker=\"SPEAKER_00\",\n",
    "                                   sr=44100)"
   ]
  },
  {
   "cell_type": "markdown",
   "metadata": {},
   "source": [
    "Emotions of the first speaker"
   ]
  },
  {
   "cell_type": "code",
   "execution_count": 53,
   "metadata": {},
   "outputs": [
    {
     "name": "stderr",
     "output_type": "stream",
     "text": [
      "[W NNPACK.cpp:53] Could not initialize NNPACK! Reason: Unsupported hardware.\n"
     ]
    }
   ],
   "source": [
    "audio_0_emotions = CoAudio.predict()"
   ]
  },
  {
   "cell_type": "markdown",
   "metadata": {},
   "source": [
    "Emotions of the second speaker"
   ]
  },
  {
   "cell_type": "code",
   "execution_count": 55,
   "metadata": {},
   "outputs": [],
   "source": [
    "CoAudio = audio_emotions.audio_analysis.AudioAnalysis(video_path=file_path,\n",
    "                                   stamps=speakers,\n",
    "                                   speaker=\"SPEAKER_01\",\n",
    "                                   sr=44100)\n",
    "audio_1_emotions = CoAudio.predict()"
   ]
  },
  {
   "cell_type": "code",
   "execution_count": 56,
   "metadata": {},
   "outputs": [],
   "source": [
    "emo_audio_0 = pd.DataFrame(audio_0_emotions)\n",
    "emo_audio_1 = pd.DataFrame(audio_1_emotions)"
   ]
  },
  {
   "cell_type": "code",
   "execution_count": 58,
   "metadata": {},
   "outputs": [],
   "source": [
    "anger_speaker_1 = emo_audio_1.loc[(emo_audio_1['audio_anger'] > emo_audio_1['audio_neutral']) & (emo_audio_1['audio_anger'] >  emo_audio_1['audio_happiness'])]\n",
    "happy_speaker_1 = emo_audio_1.loc[(emo_audio_1['audio_happiness'] > emo_audio_1['audio_neutral']) & (emo_audio_1['audio_happiness'] >  emo_audio_1['audio_anger'])]\n",
    "\n",
    "anger_speaker_0 = emo_audio_0.loc[(emo_audio_0['audio_anger'] > emo_audio_0['audio_neutral']) & (emo_audio_0['audio_anger'] >  emo_audio_0['audio_happiness'])]\n",
    "happy_speaker_0 = emo_audio_0.loc[(emo_audio_0['audio_happiness'] > emo_audio_0['audio_neutral']) & (emo_audio_0['audio_happiness'] >  emo_audio_0['audio_anger'])]"
   ]
  },
  {
   "cell_type": "code",
   "execution_count": 69,
   "metadata": {},
   "outputs": [],
   "source": [
    "from termcolor import colored\n",
    "\n",
    "from datetime import datetime"
   ]
  },
  {
   "cell_type": "markdown",
   "metadata": {},
   "source": [
    "Show sentences of the first speaker said with aggression"
   ]
  },
  {
   "cell_type": "code",
   "execution_count": 70,
   "metadata": {},
   "outputs": [
    {
     "name": "stdout",
     "output_type": "stream",
     "text": [
      "03:03    \u001b[31m Сейчас по комиссии.\u001b[0m\n"
     ]
    }
   ],
   "source": [
    "for time in anger_speaker_0['time_sec']:\n",
    "    for elem in sentences[0]:\n",
    "        if sentences[0][elem][1][1] == 'SPEAKER_00' and sentences[0][elem][1][0][0] <= time and  sentences[0][elem][1][0][1] >= time:\n",
    "            print(datetime.fromtimestamp(time).strftime(\"%M:%S\"), '  ', colored(sentences[0][elem][0], 'red'))"
   ]
  },
  {
   "cell_type": "markdown",
   "metadata": {},
   "source": [
    "Show sentences of the first speaker said with happiness"
   ]
  },
  {
   "cell_type": "code",
   "execution_count": 72,
   "metadata": {},
   "outputs": [
    {
     "name": "stdout",
     "output_type": "stream",
     "text": [
      "01:32    \u001b[32m услуг нового.\u001b[0m\n",
      "02:32    \u001b[32m скачать это приложение. И, конечно, это не так. Я живу. Какие у меня еще варианты есть? В отделении банка. В отделении банка спрашивают, вам помогут активировать вам все. Скажите, в любой отделении или? Ну, думаю, во всех отделениях будет именно планшет, чтобы вам с их устройства помогут активировать.\u001b[0m\n",
      "02:43    \u001b[32m\u001b[0m\n",
      "03:08    \u001b[32m Я не очень поняла, когда\u001b[0m\n",
      "03:13    \u001b[32m не очень поняла, когда просто пустая карта смысл в ее. Но вроде как, какая-то сумма должна быть или что-то там должно покупаться с этой карты.\u001b[0m\n",
      "03:53    \u001b[32m За расчет\u001b[0m\n",
      "04:17    \u001b[32m Ради того, чтобы платить не 30, а 15 рублей, нужно в месяц тратить 500 рублей. Такая замануха, ну, прямо смешно даже иногда. По логике, да? То есть, я соглашаю. Ну, и то меня я пришла выяснить один вопрос. А один. Давайте, давайте. Я не знаю, что это такое. Но, кстати, я не знаю, что это такое. Но, кстати, я не знаю, что это такое. Но, кстати, я не знаю, что это такое. Но, кстати, я не знаю, что это такое. Но, кстати, я не знаю, что это такое. Но, кстати, я не знаю, что это такое. Но, кстати, я не знаю, что это такое. Но, кстати, я не знаю, что это такое. Но, кстати, я не знаю, что это такое. Но, кстати, я не знаю, что это такое. Ну, если... Ну, если... Ну, вы согласитесь по человеку. Если вы отойдете от всех ваших дел банковских, просто по-человечески, принцип такой, чтобы тратить вам 15, а не 30, пожалуйста, тратите с карточки 500. Ну, если тратить именно... Я туда же до них положу еще.\u001b[0m\n",
      "04:27    \u001b[32m Ради того, чтобы платить не 30, а 15 рублей, нужно в месяц тратить 500 рублей. Такая замануха, ну, прямо смешно даже иногда. По логике, да? То есть, я соглашаю. Ну, и то меня я пришла выяснить один вопрос. А один. Давайте, давайте. Я не знаю, что это такое. Но, кстати, я не знаю, что это такое. Но, кстати, я не знаю, что это такое. Но, кстати, я не знаю, что это такое. Но, кстати, я не знаю, что это такое. Но, кстати, я не знаю, что это такое. Но, кстати, я не знаю, что это такое. Но, кстати, я не знаю, что это такое. Но, кстати, я не знаю, что это такое. Но, кстати, я не знаю, что это такое. Но, кстати, я не знаю, что это такое. Ну, если... Ну, если... Ну, вы согласитесь по человеку. Если вы отойдете от всех ваших дел банковских, просто по-человечески, принцип такой, чтобы тратить вам 15, а не 30, пожалуйста, тратите с карточки 500. Ну, если тратить именно... Я туда же до них положу еще.\u001b[0m\n",
      "04:37    \u001b[32m Ради того, чтобы платить не 30, а 15 рублей, нужно в месяц тратить 500 рублей. Такая замануха, ну, прямо смешно даже иногда. По логике, да? То есть, я соглашаю. Ну, и то меня я пришла выяснить один вопрос. А один. Давайте, давайте. Я не знаю, что это такое. Но, кстати, я не знаю, что это такое. Но, кстати, я не знаю, что это такое. Но, кстати, я не знаю, что это такое. Но, кстати, я не знаю, что это такое. Но, кстати, я не знаю, что это такое. Но, кстати, я не знаю, что это такое. Но, кстати, я не знаю, что это такое. Но, кстати, я не знаю, что это такое. Но, кстати, я не знаю, что это такое. Но, кстати, я не знаю, что это такое. Ну, если... Ну, если... Ну, вы согласитесь по человеку. Если вы отойдете от всех ваших дел банковских, просто по-человечески, принцип такой, чтобы тратить вам 15, а не 30, пожалуйста, тратите с карточки 500. Ну, если тратить именно... Я туда же до них положу еще.\u001b[0m\n",
      "04:47    \u001b[32m Ради того, чтобы платить не 30, а 15 рублей, нужно в месяц тратить 500 рублей. Такая замануха, ну, прямо смешно даже иногда. По логике, да? То есть, я соглашаю. Ну, и то меня я пришла выяснить один вопрос. А один. Давайте, давайте. Я не знаю, что это такое. Но, кстати, я не знаю, что это такое. Но, кстати, я не знаю, что это такое. Но, кстати, я не знаю, что это такое. Но, кстати, я не знаю, что это такое. Но, кстати, я не знаю, что это такое. Но, кстати, я не знаю, что это такое. Но, кстати, я не знаю, что это такое. Но, кстати, я не знаю, что это такое. Но, кстати, я не знаю, что это такое. Но, кстати, я не знаю, что это такое. Ну, если... Ну, если... Ну, вы согласитесь по человеку. Если вы отойдете от всех ваших дел банковских, просто по-человечески, принцип такой, чтобы тратить вам 15, а не 30, пожалуйста, тратите с карточки 500. Ну, если тратить именно... Я туда же до них положу еще.\u001b[0m\n",
      "06:33    \u001b[32m скидки то уже нет. Ну, так я с вами говорю. Пока это есть, да, какие-то плюшки я выигрываю, но потом же все равно приходит к этому принципу. В общем, из того, что вы мне сказать, в любом банке они мне помогут ее активировать. И все.\u001b[0m\n"
     ]
    }
   ],
   "source": [
    "for time in happy_speaker_0['time_sec']:\n",
    "    for elem in sentences[0]:\n",
    "        if sentences[0][elem][1][1] == 'SPEAKER_00' and sentences[0][elem][1][0][0] <= time and  sentences[0][elem][1][0][1] >= time:\n",
    "            print(datetime.fromtimestamp(time).strftime(\"%M:%S\"), '  ', colored(sentences[0][elem][0], 'green'))"
   ]
  },
  {
   "cell_type": "code",
   "execution_count": null,
   "metadata": {},
   "outputs": [],
   "source": []
  },
  {
   "cell_type": "markdown",
   "metadata": {},
   "source": [
    "### An example of the result obtained with AutoTM analysis for every speaker"
   ]
  },
  {
   "cell_type": "code",
   "execution_count": null,
   "metadata": {},
   "outputs": [],
   "source": [
    "result = pd.read_csv('./AutoTM/src/result.csv')"
   ]
  },
  {
   "cell_type": "code",
   "execution_count": 76,
   "metadata": {},
   "outputs": [
    {
     "data": {
      "text/html": [
       "<div>\n",
       "<style scoped>\n",
       "    .dataframe tbody tr th:only-of-type {\n",
       "        vertical-align: middle;\n",
       "    }\n",
       "\n",
       "    .dataframe tbody tr th {\n",
       "        vertical-align: top;\n",
       "    }\n",
       "\n",
       "    .dataframe thead th {\n",
       "        text-align: right;\n",
       "    }\n",
       "</style>\n",
       "<table border=\"1\" class=\"dataframe\">\n",
       "  <thead>\n",
       "    <tr style=\"text-align: right;\">\n",
       "      <th></th>\n",
       "      <th>speakers</th>\n",
       "      <th>topic_1</th>\n",
       "      <th>topic_2</th>\n",
       "    </tr>\n",
       "  </thead>\n",
       "  <tbody>\n",
       "    <tr>\n",
       "      <th>0</th>\n",
       "      <td>speaker_00</td>\n",
       "      <td>Тарифный план по обслуживанию карты</td>\n",
       "      <td>Бонусы при использовании карты</td>\n",
       "    </tr>\n",
       "    <tr>\n",
       "      <th>1</th>\n",
       "      <td>speaker_01</td>\n",
       "      <td>Тарифный план по обслуживанию карты</td>\n",
       "      <td>Бонусы при использовании карты</td>\n",
       "    </tr>\n",
       "  </tbody>\n",
       "</table>\n",
       "</div>"
      ],
      "text/plain": [
       "     speakers                              topic_1  \\\n",
       "0  speaker_00  Тарифный план по обслуживанию карты   \n",
       "1  speaker_01  Тарифный план по обслуживанию карты   \n",
       "\n",
       "                          topic_2  \n",
       "0  Бонусы при использовании карты  \n",
       "1  Бонусы при использовании карты  "
      ]
     },
     "execution_count": 76,
     "metadata": {},
     "output_type": "execute_result"
    }
   ],
   "source": [
    "result[['speakers', 'topic_1', 'topic_2']]"
   ]
  }
 ],
 "metadata": {
  "kernelspec": {
   "display_name": "relevant",
   "language": "python",
   "name": "python3"
  },
  "language_info": {
   "codemirror_mode": {
    "name": "ipython",
    "version": 3
   },
   "file_extension": ".py",
   "mimetype": "text/x-python",
   "name": "python",
   "nbconvert_exporter": "python",
   "pygments_lexer": "ipython3",
   "version": "3.9.18"
  }
 },
 "nbformat": 4,
 "nbformat_minor": 2
}
