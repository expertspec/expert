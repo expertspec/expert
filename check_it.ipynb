{
 "cells": [
  {
   "attachments": {},
   "cell_type": "markdown",
   "metadata": {},
   "source": [
    "### Contradiction"
   ]
  },
  {
   "cell_type": "code",
   "execution_count": 1,
   "metadata": {},
   "outputs": [],
   "source": [
    "import json\n",
    "import os\n",
    "from typing import List, Union\n",
    "import torch\n",
    "\n",
    "from expert.core.contradiction import contradiction_analysis\n"
   ]
  },
  {
   "cell_type": "code",
   "execution_count": 2,
   "metadata": {},
   "outputs": [],
   "source": [
    "device = torch.device('cuda')"
   ]
  },
  {
   "cell_type": "code",
   "execution_count": 6,
   "metadata": {},
   "outputs": [],
   "source": [
    "contr_det = contradiction_analysis.ContradictionDetector(transcription_path = '/home/izs/Projects/ml-server/app/libs/contradiction/words.json',\n",
    "                                                         path_to_video='sdafs',\n",
    "                                                          save_to='./check',\n",
    "                                                            lang='en', device=device)"
   ]
  },
  {
   "cell_type": "code",
   "execution_count": 7,
   "metadata": {},
   "outputs": [
    {
     "data": {
      "text/plain": [
       "[{'text': \"so for the past twenty years i've been helping malaysians and other southeast asians to speak better english and through training thousands of southeast asians i've discovered a very surprising truth i've discovered that how well somebody communicate in english actually has very little to do with their english level it has a lot to do with their attitude towards english\",\n",
       "  'predict': 2.0,\n",
       "  'interval': 0},\n",
       " {'text': 'there are people out there who have a very very low level of english and they can communicate very very well one of them that i remember was a student of participant of my name face out he was a factory supervisor english level very very low but this guy could just sit and listen to anybody very calmly clue he really and then he could respond absolutely express his thoughts beautifully at a very low level of english so today i want to share with you what is',\n",
       "  'predict': 2.0,\n",
       "  'interval': 0},\n",
       " {'text': 'so different about people like finds out how do they do it',\n",
       "  'predict': 2.0,\n",
       "  'interval': 0},\n",
       " {'text': \"and second of all why is this so important not only to you but to your children to your community and to the future of malaysia and third of all what's one thing you can do starting today if you want to speak with that com clear confidence that people like feisal has so first of all what is so different how to people like finds out do it so to answer that question i'm going to take you back about ten years okay so i was training staff at that time and my daughter at that time was taking piano lessons\",\n",
       "  'predict': 2.0,\n",
       "  'interval': 0},\n",
       " {'text': \"and i started to notice to really strong similarities between my daughter's attitude or thinking towards playing the piano and a lot of malaysians thinking or attitude towards english first of all i should tell you my daughter absolutely hated pm no hated the lessons hated practicing this is my daughter practicing piano okay this is as good as it god\",\n",
       "  'predict': 2.0,\n",
       "  'interval': 0},\n",
       " {'text': 'this is the real thing', 'predict': 2.0, 'interval': 0},\n",
       " {'text': 'and she dreaded going to piano lessons because to my daughter going to piano lessons she was filled with this sort of dread because it was all about not screwing up right because like for a lot of piano students to both my daughter and her teacher curse success in piano was measured by how few mistakes you made at the same time i noticed that a lot of malaysians went into english conversations with the same sort of feeling of dread this sort of feeling that they were going to be judged by how many mistakes they were going to make and whether or not there were going to screw up',\n",
       "  'predict': 2.0,\n",
       "  'interval': 0},\n",
       " {'text': \"now the second similarity that i noticed was to do with self image you see my daughter she knew what good piano sounded like right because we've all heard good piano and she knew what higher level was and she knew how long she'd have to play for to speak to play like that and a lot of malaysians i noticed had this idea of what good proper english is supposed to sound like i'm what their i see a lot of you're nodding i'm what their english sounded like and how far they have to go to get there and they also felt like they were like my daughter just be bad bad piano player bad english speaker right my english not so good luck can i'm sorry i shy yeah canada\",\n",
       "  'predict': 2.0,\n",
       "  'interval': 0},\n",
       " {'text': \"so i could see these similarities but i still couldn't figure out okay what is it about these people like pfizer how that are so different that can just do it smoothly calmly with confidence\",\n",
       "  'predict': 2.0,\n",
       "  'interval': 0},\n",
       " {'text': \"one day i discovered that answer and i discovered it quite by chance it was a day when my computer broke down and i had to go to a cyber cafe now okay was my first time and i discovered cyber cafes are disgusting places okay they're really gross they're smelly and they're filled with boys and they're all playing blue noisy violent games they're just disgusting places\",\n",
       "  'predict': 2.0,\n",
       "  'interval': 0},\n",
       " {'text': \"but i had to go there are so i sit down and i started noticing this guy beside me and i become very very interested in this guy next to me now this guy is playing this game that is basically it's like shooting people until they die and that's it that's the gate right i'm an i'm noticing that this guy is not very good he's like in fact terrible right because i'm looking and i'm seeing like a lot of shooting and and and and not much dying\",\n",
       "  'predict': 2.0,\n",
       "  'interval': 0},\n",
       " {'text': \"but what really interested me was behind this lousy player worth three of his friend sort of standing there watching him play and what i really noticed was even though this guy was terrible even though his friends are watching him there was no embarrassment there was no feeling of being judged there was no shyness in fact quite the opposite this guy is like totally focused on the bad guys smile on his face all he can think about is is is killing these guys right and i'm watching him and i suddenly realized this is it\",\n",
       "  'predict': 1.0,\n",
       "  'interval': 0},\n",
       " {'text': \"this is the same attitude attitude that people like fires now have when they speak english just like this guy when finds out goes into an english conversation he doesn't feel judged he's entirely focused on the person that he's speaking to and the result he wants to get\",\n",
       "  'predict': 2.0,\n",
       "  'interval': 0},\n",
       " {'text': \"he's got no self awareness know thoughts about his own mistakes\",\n",
       "  'predict': 1.0,\n",
       "  'interval': 0},\n",
       " {'text': \"no want to share with you are real true example to paint a picture of somebody who speaks english like they're playing piano and someone who speaks english like they're playing a computer game and this is a true story happened to me\",\n",
       "  'predict': 2.0,\n",
       "  'interval': 0},\n",
       " {'text': \"a while ago i was in a pharmacy i had to buy omega my doctor said i should get omega and i go to the shelf there's tons of omega there is a major that's high in d ha omega that's high and eight p a i don't know which one to buy\",\n",
       "  'predict': 2.0,\n",
       "  'interval': 0},\n",
       " {'text': \"now the sales rep happen to be there and i saw she was like this well dressed professional woman i walk over to her and i see this look as she sees me this sort of it's a look i recognize very well her eyes go wide it's sort of that panic oh my god i got to speak to a native speaker and she's going to judge me have noticed my mistakes\",\n",
       "  'predict': 2.0,\n",
       "  'interval': 0},\n",
       " {'text': 'i go up to her and i explained my situation which which omega do i get and she starts explaining to me everything about tha and apia you could possibly imagine she speaks very quickly goes all around in circles when she finishes',\n",
       "  'predict': 2.0,\n",
       "  'interval': 0},\n",
       " {'text': 'no idea what to buy', 'predict': 1.0, 'interval': 0},\n",
       " {'text': 'so i turned to the girl behind the counter now the girl behind the counter i heard her before her english level is very low but when i walk over to heard this girl',\n",
       "  'predict': 2.0,\n",
       "  'interval': 0},\n",
       " {'text': \"there's no fear in fact she's just looking at me you know that look like yeah okay so how\",\n",
       "  'predict': 2.0,\n",
       "  'interval': 0},\n",
       " {'text': \"yeah i've been in malaysia a long time\",\n",
       "  'predict': 2.0,\n",
       "  'interval': 0},\n",
       " {'text': 'so i got up to her and i explain the problem he paid tha she looks at me she says okay ah',\n",
       "  'predict': 2.0,\n",
       "  'interval': 0},\n",
       " {'text': 'a p a for heart', 'predict': 1.0, 'interval': 0},\n",
       " {'text': 'd h a for brain', 'predict': 1.0, 'interval': 0},\n",
       " {'text': 'your heart okay or not', 'predict': 1.0, 'interval': 0},\n",
       " {'text': 'sport they said', 'predict': 1.0, 'interval': 0},\n",
       " {'text': \"yeah my i said my heart is really it's i think it's pretty good she says\",\n",
       "  'predict': 2.0,\n",
       "  'interval': 0},\n",
       " {'text': 'your brain okay or not', 'predict': 1.0, 'interval': 0},\n",
       " {'text': 'i said the at know', 'predict': 1.0, 'interval': 0},\n",
       " {'text': 'no my brain is not as good as it used to be she looks so or keller you take omega tha can',\n",
       "  'predict': 1.0,\n",
       "  'interval': 0},\n",
       " {'text': \"problem solved right so we've got two different kinds of communicators we've got the one who's got a high level but totally focused on herself and getting it right and therefore very ineffective we've got another one low level totally focused on the person she's talking to and getting a result effective and therein lies the difference\",\n",
       "  'predict': 1.0,\n",
       "  'interval': 0},\n",
       " {'text': \"now why is this distinction so important not just to you to your children but to the future of malaysia and countries like malaysia and to answer that let's take a look at who actually speaking english in the world today okay so if we looked at all of the english conversations in the whole world taking place right now on planet earth we would see that for every native speaker like me\",\n",
       "  'predict': 2.0,\n",
       "  'interval': 0},\n",
       " {'text': 'there are five non native speakers', 'predict': 1.0, 'interval': 0},\n",
       " {'text': 'and if we listen to every conversation in english on planet earth right now',\n",
       "  'predict': 1.0,\n",
       "  'interval': 0},\n",
       " {'text': 'we would notice that ninety six percent of those conversations',\n",
       "  'predict': 2.0,\n",
       "  'interval': 0},\n",
       " {'text': \"involved non native english speakers only four percent of those conversations are native speaker to native speaker this is not my language anymore this link which belongs to you it's not an art to be mastered it's just a tool to use to get a result and i want to give you a real life example of what english is today in the world real english today this is another true story\",\n",
       "  'predict': 2.0,\n",
       "  'interval': 0},\n",
       " {'text': 'i was at a barbecue a little while ago this was a barbecue for engineers engineers from all over the world and they were making hotdogs now some of the hot dogs were regular hotdogs and somewhere these these cheese hot dogs you know where the cheese in the middle french engineer is cooking the hotdogs and he turns to this korean engineer and he says who would you like guard dog',\n",
       "  'predict': 1.0,\n",
       "  'interval': 0},\n",
       " {'text': 'and the korean guy says yes please he says do you want to cheese and the korean guy looks around at the table he says are i know see cheese',\n",
       "  'predict': 1.0,\n",
       "  'interval': 0},\n",
       " {'text': 'french guy says us is a hotdog is contains a cheese',\n",
       "  'predict': 1.0,\n",
       "  'interval': 0},\n",
       " {'text': \"korean guy doesn't understand him right so the french engineer tries again the a hotdog is is making from with the cheese\",\n",
       "  'predict': 1.0,\n",
       "  'interval': 0},\n",
       " {'text': \"korean guy still doesn't understand he tries again he says as a hotdog is coming is some coming from knows such she's coming from a hotdog korean guy can not understand now there's japanese engineer who's been listening to this conversation turns to the korean engineer and he says up or cheese or integrated\",\n",
       "  'predict': 2.0,\n",
       "  'interval': 0},\n",
       " {'text': 'he understands', 'predict': 2.0, 'interval': 0},\n",
       " {'text': \"everybody understands so this is what english is today it's just a tool to play around with to get a result like a computer game\",\n",
       "  'predict': 2.0,\n",
       "  'interval': 0},\n",
       " {'text': \"now the challenges that we know when schools all around the world write english is not really being taught like it's a tool to play with it still being taught like it's an art to master and students are judged more on correctness then on clarity\",\n",
       "  'predict': 2.0,\n",
       "  'interval': 0},\n",
       " {'text': \"some of you might remember the old comprehension exam in school does anybody remember in school when you would you would get a question about a text that you read you'd have to read through some text right and then answer a question to show that you understood the text and this may have happened to you that you show that you understood the text but you got a big x because you made a little grammar mistake like this student this student clearly understood paragraph four but no not correct because he left the letter and off the word environment but in the real world what would matter in the real world what would not or is did you understand the email or did you understand your customer so that you can go ahead and take action\",\n",
       "  'predict': 2.0,\n",
       "  'interval': 0},\n",
       " {'text': \"no the problem let's see here over and over is that people take the attitude to they developed about english in school and they bring it into their adult life and into their work\",\n",
       "  'predict': 2.0,\n",
       "  'interval': 0},\n",
       " {'text': \"and if you're in a stressful situation and you're having a conversation and you're trying to give a result to someone and say it correctly your brain multitask sick cannot do two things at once and what i see is the just shutting down and you may recognize these three symptoms of the brain shutting down\",\n",
       "  'predict': 2.0,\n",
       "  'interval': 0},\n",
       " {'text': \"the first one is that you are listening goes someone's talking to you and you're so busy thinking about how you're going to respond and and express yourself correctly you don't actually hear what the other person said\",\n",
       "  'predict': 2.0,\n",
       "  'interval': 0},\n",
       " {'text': \"and i can see a lot of nodding in the audience the second thing to go is you're speaking your mind sort of shuts down and that vocabulary you do know just disappears and you the words don't come out\",\n",
       "  'predict': 1.0,\n",
       "  'interval': 0},\n",
       " {'text': 'the third thing to go is your confidence and the worst thing about this is you may only be confident because you cannot express yourself clearly but to the person talking to you they may misunderstand this as a lack of confidence in your ability to do the job to perform',\n",
       "  'predict': 2.0,\n",
       "  'interval': 0},\n",
       " {'text': \"so if you want to speak english like by cell with that great confidence here's the one thing that you can do\",\n",
       "  'predict': 2.0,\n",
       "  'interval': 0},\n",
       " {'text': \"when you speak don't focus on yourself focus on the other person and the result you want to achieve\",\n",
       "  'predict': 1.0,\n",
       "  'interval': 0},\n",
       " {'text': 'nigerian a next generation of malaysians all without wonderful confidence in communication that feisal has at any level of english',\n",
       "  'predict': 1.0,\n",
       "  'interval': 0},\n",
       " {'text': \"because let's remember that english today it's not an art to be mastered it's just a tool to use to get a a result and that tool belongs to you\",\n",
       "  'predict': 2.0,\n",
       "  'interval': 0},\n",
       " {'text': 'thank you', 'predict': 2.0, 'interval': 0}]"
      ]
     },
     "execution_count": 7,
     "metadata": {},
     "output_type": "execute_result"
    }
   ],
   "source": [
    "contr_det.get_contradiction('cat')"
   ]
  },
  {
   "cell_type": "code",
   "execution_count": null,
   "metadata": {},
   "outputs": [
    {
     "data": {
      "text/plain": [
       "[{'text': \"so for the past twenty years i've been helping malaysians and other southeast asians to speak better english and through training thousands of southeast asians i've discovered a very surprising truth i've discovered that how well somebody communicate in english actually has very little to do with their english level it has a lot to do with their attitude towards english\",\n",
       "  'predict': 2.0,\n",
       "  'interval': 0},\n",
       " {'text': 'there are people out there who have a very very low level of english and they can communicate very very well one of them that i remember was a student of participant of my name face out he was a factory supervisor english level very very low but this guy could just sit and listen to anybody very calmly clue he really and then he could respond absolutely express his thoughts beautifully at a very low level of english so today i want to share with you what is',\n",
       "  'predict': 2.0,\n",
       "  'interval': 0},\n",
       " {'text': 'so different about people like finds out how do they do it',\n",
       "  'predict': 2.0,\n",
       "  'interval': 0},\n",
       " {'text': \"and second of all why is this so important not only to you but to your children to your community and to the future of malaysia and third of all what's one thing you can do starting today if you want to speak with that com clear confidence that people like feisal has so first of all what is so different how to people like finds out do it so to answer that question i'm going to take you back about ten years okay so i was training staff at that time and my daughter at that time was taking piano lessons\",\n",
       "  'predict': 2.0,\n",
       "  'interval': 0},\n",
       " {'text': \"and i started to notice to really strong similarities between my daughter's attitude or thinking towards playing the piano and a lot of malaysians thinking or attitude towards english first of all i should tell you my daughter absolutely hated pm no hated the lessons hated practicing this is my daughter practicing piano okay this is as good as it god\",\n",
       "  'predict': 2.0,\n",
       "  'interval': 0},\n",
       " {'text': 'this is the real thing', 'predict': 2.0, 'interval': 0},\n",
       " {'text': 'and she dreaded going to piano lessons because to my daughter going to piano lessons she was filled with this sort of dread because it was all about not screwing up right because like for a lot of piano students to both my daughter and her teacher curse success in piano was measured by how few mistakes you made at the same time i noticed that a lot of malaysians went into english conversations with the same sort of feeling of dread this sort of feeling that they were going to be judged by how many mistakes they were going to make and whether or not there were going to screw up',\n",
       "  'predict': 2.0,\n",
       "  'interval': 0},\n",
       " {'text': \"now the second similarity that i noticed was to do with self image you see my daughter she knew what good piano sounded like right because we've all heard good piano and she knew what higher level was and she knew how long she'd have to play for to speak to play like that and a lot of malaysians i noticed had this idea of what good proper english is supposed to sound like i'm what their i see a lot of you're nodding i'm what their english sounded like and how far they have to go to get there and they also felt like they were like my daughter just be bad bad piano player bad english speaker right my english not so good luck can i'm sorry i shy yeah canada\",\n",
       "  'predict': 2.0,\n",
       "  'interval': 0},\n",
       " {'text': \"so i could see these similarities but i still couldn't figure out okay what is it about these people like pfizer how that are so different that can just do it smoothly calmly with confidence\",\n",
       "  'predict': 2.0,\n",
       "  'interval': 0},\n",
       " {'text': \"one day i discovered that answer and i discovered it quite by chance it was a day when my computer broke down and i had to go to a cyber cafe now okay was my first time and i discovered cyber cafes are disgusting places okay they're really gross they're smelly and they're filled with boys and they're all playing blue noisy violent games they're just disgusting places\",\n",
       "  'predict': 2.0,\n",
       "  'interval': 0},\n",
       " {'text': \"but i had to go there are so i sit down and i started noticing this guy beside me and i become very very interested in this guy next to me now this guy is playing this game that is basically it's like shooting people until they die and that's it that's the gate right i'm an i'm noticing that this guy is not very good he's like in fact terrible right because i'm looking and i'm seeing like a lot of shooting and and and and not much dying\",\n",
       "  'predict': 2.0,\n",
       "  'interval': 0},\n",
       " {'text': \"but what really interested me was behind this lousy player worth three of his friend sort of standing there watching him play and what i really noticed was even though this guy was terrible even though his friends are watching him there was no embarrassment there was no feeling of being judged there was no shyness in fact quite the opposite this guy is like totally focused on the bad guys smile on his face all he can think about is is is killing these guys right and i'm watching him and i suddenly realized this is it\",\n",
       "  'predict': 1.0,\n",
       "  'interval': 0},\n",
       " {'text': \"this is the same attitude attitude that people like fires now have when they speak english just like this guy when finds out goes into an english conversation he doesn't feel judged he's entirely focused on the person that he's speaking to and the result he wants to get\",\n",
       "  'predict': 2.0,\n",
       "  'interval': 0},\n",
       " {'text': \"he's got no self awareness know thoughts about his own mistakes\",\n",
       "  'predict': 1.0,\n",
       "  'interval': 0},\n",
       " {'text': \"no want to share with you are real true example to paint a picture of somebody who speaks english like they're playing piano and someone who speaks english like they're playing a computer game and this is a true story happened to me\",\n",
       "  'predict': 2.0,\n",
       "  'interval': 0},\n",
       " {'text': \"a while ago i was in a pharmacy i had to buy omega my doctor said i should get omega and i go to the shelf there's tons of omega there is a major that's high in d ha omega that's high and eight p a i don't know which one to buy\",\n",
       "  'predict': 2.0,\n",
       "  'interval': 0},\n",
       " {'text': \"now the sales rep happen to be there and i saw she was like this well dressed professional woman i walk over to her and i see this look as she sees me this sort of it's a look i recognize very well her eyes go wide it's sort of that panic oh my god i got to speak to a native speaker and she's going to judge me have noticed my mistakes\",\n",
       "  'predict': 2.0,\n",
       "  'interval': 0},\n",
       " {'text': 'i go up to her and i explained my situation which which omega do i get and she starts explaining to me everything about tha and apia you could possibly imagine she speaks very quickly goes all around in circles when she finishes',\n",
       "  'predict': 2.0,\n",
       "  'interval': 0},\n",
       " {'text': 'no idea what to buy', 'predict': 1.0, 'interval': 0},\n",
       " {'text': 'so i turned to the girl behind the counter now the girl behind the counter i heard her before her english level is very low but when i walk over to heard this girl',\n",
       "  'predict': 2.0,\n",
       "  'interval': 0},\n",
       " {'text': \"there's no fear in fact she's just looking at me you know that look like yeah okay so how\",\n",
       "  'predict': 2.0,\n",
       "  'interval': 0},\n",
       " {'text': \"yeah i've been in malaysia a long time\",\n",
       "  'predict': 2.0,\n",
       "  'interval': 0},\n",
       " {'text': 'so i got up to her and i explain the problem he paid tha she looks at me she says okay ah',\n",
       "  'predict': 2.0,\n",
       "  'interval': 0},\n",
       " {'text': 'a p a for heart', 'predict': 1.0, 'interval': 0},\n",
       " {'text': 'd h a for brain', 'predict': 1.0, 'interval': 0},\n",
       " {'text': 'your heart okay or not', 'predict': 1.0, 'interval': 0},\n",
       " {'text': 'sport they said', 'predict': 1.0, 'interval': 0},\n",
       " {'text': \"yeah my i said my heart is really it's i think it's pretty good she says\",\n",
       "  'predict': 2.0,\n",
       "  'interval': 0},\n",
       " {'text': 'your brain okay or not', 'predict': 1.0, 'interval': 0},\n",
       " {'text': 'i said the at know', 'predict': 1.0, 'interval': 0},\n",
       " {'text': 'no my brain is not as good as it used to be she looks so or keller you take omega tha can',\n",
       "  'predict': 1.0,\n",
       "  'interval': 0},\n",
       " {'text': \"problem solved right so we've got two different kinds of communicators we've got the one who's got a high level but totally focused on herself and getting it right and therefore very ineffective we've got another one low level totally focused on the person she's talking to and getting a result effective and therein lies the difference\",\n",
       "  'predict': 1.0,\n",
       "  'interval': 0},\n",
       " {'text': \"now why is this distinction so important not just to you to your children but to the future of malaysia and countries like malaysia and to answer that let's take a look at who actually speaking english in the world today okay so if we looked at all of the english conversations in the whole world taking place right now on planet earth we would see that for every native speaker like me\",\n",
       "  'predict': 2.0,\n",
       "  'interval': 0},\n",
       " {'text': 'there are five non native speakers', 'predict': 1.0, 'interval': 0},\n",
       " {'text': 'and if we listen to every conversation in english on planet earth right now',\n",
       "  'predict': 1.0,\n",
       "  'interval': 0},\n",
       " {'text': 'we would notice that ninety six percent of those conversations',\n",
       "  'predict': 2.0,\n",
       "  'interval': 0},\n",
       " {'text': \"involved non native english speakers only four percent of those conversations are native speaker to native speaker this is not my language anymore this link which belongs to you it's not an art to be mastered it's just a tool to use to get a result and i want to give you a real life example of what english is today in the world real english today this is another true story\",\n",
       "  'predict': 2.0,\n",
       "  'interval': 0},\n",
       " {'text': 'i was at a barbecue a little while ago this was a barbecue for engineers engineers from all over the world and they were making hotdogs now some of the hot dogs were regular hotdogs and somewhere these these cheese hot dogs you know where the cheese in the middle french engineer is cooking the hotdogs and he turns to this korean engineer and he says who would you like guard dog',\n",
       "  'predict': 1.0,\n",
       "  'interval': 0},\n",
       " {'text': 'and the korean guy says yes please he says do you want to cheese and the korean guy looks around at the table he says are i know see cheese',\n",
       "  'predict': 1.0,\n",
       "  'interval': 0},\n",
       " {'text': 'french guy says us is a hotdog is contains a cheese',\n",
       "  'predict': 1.0,\n",
       "  'interval': 0},\n",
       " {'text': \"korean guy doesn't understand him right so the french engineer tries again the a hotdog is is making from with the cheese\",\n",
       "  'predict': 1.0,\n",
       "  'interval': 0},\n",
       " {'text': \"korean guy still doesn't understand he tries again he says as a hotdog is coming is some coming from knows such she's coming from a hotdog korean guy can not understand now there's japanese engineer who's been listening to this conversation turns to the korean engineer and he says up or cheese or integrated\",\n",
       "  'predict': 2.0,\n",
       "  'interval': 0},\n",
       " {'text': 'he understands', 'predict': 2.0, 'interval': 0},\n",
       " {'text': \"everybody understands so this is what english is today it's just a tool to play around with to get a result like a computer game\",\n",
       "  'predict': 2.0,\n",
       "  'interval': 0},\n",
       " {'text': \"now the challenges that we know when schools all around the world write english is not really being taught like it's a tool to play with it still being taught like it's an art to master and students are judged more on correctness then on clarity\",\n",
       "  'predict': 2.0,\n",
       "  'interval': 0},\n",
       " {'text': \"some of you might remember the old comprehension exam in school does anybody remember in school when you would you would get a question about a text that you read you'd have to read through some text right and then answer a question to show that you understood the text and this may have happened to you that you show that you understood the text but you got a big x because you made a little grammar mistake like this student this student clearly understood paragraph four but no not correct because he left the letter and off the word environment but in the real world what would matter in the real world what would not or is did you understand the email or did you understand your customer so that you can go ahead and take action\",\n",
       "  'predict': 2.0,\n",
       "  'interval': 0},\n",
       " {'text': \"no the problem let's see here over and over is that people take the attitude to they developed about english in school and they bring it into their adult life and into their work\",\n",
       "  'predict': 2.0,\n",
       "  'interval': 0},\n",
       " {'text': \"and if you're in a stressful situation and you're having a conversation and you're trying to give a result to someone and say it correctly your brain multitask sick cannot do two things at once and what i see is the just shutting down and you may recognize these three symptoms of the brain shutting down\",\n",
       "  'predict': 2.0,\n",
       "  'interval': 0},\n",
       " {'text': \"the first one is that you are listening goes someone's talking to you and you're so busy thinking about how you're going to respond and and express yourself correctly you don't actually hear what the other person said\",\n",
       "  'predict': 2.0,\n",
       "  'interval': 0},\n",
       " {'text': \"and i can see a lot of nodding in the audience the second thing to go is you're speaking your mind sort of shuts down and that vocabulary you do know just disappears and you the words don't come out\",\n",
       "  'predict': 1.0,\n",
       "  'interval': 0},\n",
       " {'text': 'the third thing to go is your confidence and the worst thing about this is you may only be confident because you cannot express yourself clearly but to the person talking to you they may misunderstand this as a lack of confidence in your ability to do the job to perform',\n",
       "  'predict': 2.0,\n",
       "  'interval': 0},\n",
       " {'text': \"so if you want to speak english like by cell with that great confidence here's the one thing that you can do\",\n",
       "  'predict': 2.0,\n",
       "  'interval': 0},\n",
       " {'text': \"when you speak don't focus on yourself focus on the other person and the result you want to achieve\",\n",
       "  'predict': 1.0,\n",
       "  'interval': 0},\n",
       " {'text': 'nigerian a next generation of malaysians all without wonderful confidence in communication that feisal has at any level of english',\n",
       "  'predict': 1.0,\n",
       "  'interval': 0},\n",
       " {'text': \"because let's remember that english today it's not an art to be mastered it's just a tool to use to get a a result and that tool belongs to you\",\n",
       "  'predict': 2.0,\n",
       "  'interval': 0},\n",
       " {'text': 'thank you', 'predict': 2.0, 'interval': 0}]"
      ]
     },
     "execution_count": 5,
     "metadata": {},
     "output_type": "execute_result"
    }
   ],
   "source": [
    "contr_det = contradiction_analysis.ContradictionDetector(lang='en', device=device)\n",
    "contr_det.get_contradiction('cat', '/home/izs/Projects/ml-server/app/libs/contradiction/words.json',\n",
    "'csds',\n",
    "'./check'\n",
    ")"
   ]
  },
  {
   "cell_type": "code",
   "execution_count": 5,
   "metadata": {},
   "outputs": [],
   "source": [
    "contr_det_ru = contradiction_analysis.ContradictionDetector(lang='ru', device='cuda')"
   ]
  },
  {
   "cell_type": "code",
   "execution_count": 6,
   "metadata": {},
   "outputs": [],
   "source": [
    "speech = \"\"\"Не нужна фундаментальная подготовка\"\"\""
   ]
  },
  {
   "cell_type": "code",
   "execution_count": 7,
   "metadata": {},
   "outputs": [
    {
     "data": {
      "text/plain": [
       "[{'text': 'То, что было в советской системе, конечно надо понимать, это фундаментальная подготовка. Фундаментальность подготовки, она действительно всегда была. Поэтому я здесь считаю, что фундаментальная подготовка, она обязательно должна быть. А добавляться будет конкретными теми профессиональными стандартами, которые создает уже работодатель.',\n",
       "  'predict': 2.0,\n",
       "  'interval': 0}]"
      ]
     },
     "execution_count": 7,
     "metadata": {},
     "output_type": "execute_result"
    }
   ],
   "source": [
    "contr_det_ru.get_contradiction(speech, '/home/izs/Projects/expert/expert/core/words.json',\n",
    "'csds',\n",
    "'./check_rus'\n",
    ")"
   ]
  },
  {
   "attachments": {},
   "cell_type": "markdown",
   "metadata": {},
   "source": [
    "### Aggression"
   ]
  },
  {
   "cell_type": "code",
   "execution_count": 1,
   "metadata": {},
   "outputs": [],
   "source": [
    "from expert.core.aggression.audio_aggression import audio_analysis"
   ]
  },
  {
   "cell_type": "code",
   "execution_count": 2,
   "metadata": {},
   "outputs": [],
   "source": [
    "audio = audio_analysis.AudioAggression(audio='/home/izs/Videos/simplescreenrecorder-2023-02-22_12.08.11.mp4', stamps=[[14, 39]])"
   ]
  },
  {
   "cell_type": "code",
   "execution_count": 3,
   "metadata": {},
   "outputs": [],
   "source": [
    "r = audio.get_report()"
   ]
  },
  {
   "cell_type": "code",
   "execution_count": 4,
   "metadata": {},
   "outputs": [
    {
     "data": {
      "text/plain": [
       "([{'time_sec': 14, 'volume': 0.05858, 'dynamic_changes': 0, 'temp': 125.0},\n",
       "  {'time_sec': 24, 'volume': 0.0564, 'dynamic_changes': 0, 'temp': 133.929},\n",
       "  {'time_sec': 34, 'volume': 0.05519, 'dynamic_changes': 0, 'temp': 117.188}],\n",
       " [{'loud part': 0.33, 'fast_part': 0.33}])"
      ]
     },
     "execution_count": 4,
     "metadata": {},
     "output_type": "execute_result"
    }
   ],
   "source": [
    "r"
   ]
  },
  {
   "cell_type": "markdown",
   "metadata": {},
   "source": []
  },
  {
   "cell_type": "code",
   "execution_count": null,
   "metadata": {},
   "outputs": [],
   "source": [
    "figure, ax = plt.subplots(figsize=(50, 10))\n",
    "sns.set_theme(style=\"whitegrid\")\n",
    "sns.barplot(data=exp_data, x=\"con_time_sec\", y=\"congruence\", color=\"#FFC043\", alpha=0.75)"
   ]
  },
  {
   "cell_type": "code",
   "execution_count": 2,
   "metadata": {},
   "outputs": [],
   "source": [
    "audio = audio_analysis.AudioAggression(audio='/home/izs/Projects/auto_censor/examples/rus_sample.wav')"
   ]
  },
  {
   "cell_type": "code",
   "execution_count": 3,
   "metadata": {},
   "outputs": [
    {
     "data": {
      "text/plain": [
       "([{'time_sec': 0, 'volume': 0.02273, 'dynamic_changes': 0, 'temp': 104.167}],\n",
       " [{'loud part': 1.0, 'fast_part': 1.0}])"
      ]
     },
     "execution_count": 3,
     "metadata": {},
     "output_type": "execute_result"
    }
   ],
   "source": [
    "audio.get_report()"
   ]
  },
  {
   "cell_type": "code",
   "execution_count": 4,
   "metadata": {},
   "outputs": [
    {
     "name": "stdout",
     "output_type": "stream",
     "text": [
      "104.16666666666667 0.02272891253232956 1.0 1.0\n"
     ]
    }
   ],
   "source": [
    "print(audio.average_temp,\n",
    "audio.average_vol,\n",
    "audio.loud_part,\n",
    "audio.fast_part)"
   ]
  },
  {
   "cell_type": "code",
   "execution_count": null,
   "metadata": {},
   "outputs": [],
   "source": []
  },
  {
   "attachments": {},
   "cell_type": "markdown",
   "metadata": {},
   "source": [
    "### Text aggression"
   ]
  },
  {
   "cell_type": "code",
   "execution_count": 1,
   "metadata": {},
   "outputs": [
    {
     "name": "stderr",
     "output_type": "stream",
     "text": [
      "2023-02-22 15:30:52.659189: W tensorflow/compiler/xla/stream_executor/platform/default/dso_loader.cc:64] Could not load dynamic library 'libnvinfer.so.7'; dlerror: libnvinfer.so.7: cannot open shared object file: No such file or directory\n",
      "2023-02-22 15:30:52.659310: W tensorflow/compiler/xla/stream_executor/platform/default/dso_loader.cc:64] Could not load dynamic library 'libnvinfer_plugin.so.7'; dlerror: libnvinfer_plugin.so.7: cannot open shared object file: No such file or directory\n",
      "2023-02-22 15:30:52.659326: W tensorflow/compiler/tf2tensorrt/utils/py_utils.cc:38] TF-TRT Warning: Cannot dlopen some TensorRT libraries. If you would like to use Nvidia GPU with TensorRT, please make sure the missing libraries mentioned above are installed properly.\n",
      "[nltk_data] Downloading package averaged_perceptron_tagger to\n",
      "[nltk_data]     /home/izs/nltk_data...\n",
      "[nltk_data]   Package averaged_perceptron_tagger is already up-to-\n",
      "[nltk_data]       date!\n"
     ]
    }
   ],
   "source": [
    "from __future__ import annotations\n",
    "\n",
    "import json\n",
    "import pandas as pd\n",
    "from typing import List, Tuple, Union\n",
    "import torch\n",
    "\n",
    "# Local dependencies:\n",
    "from expert.core.aggression.text_aggression.text_models_en import Depreciation as DepreciationEn\n",
    "from expert.core.aggression.text_aggression.text_models_en import Imperative as ImperativeEn\n",
    "from expert.core.aggression.text_aggression.text_models_en import Toxic as ToxicEn\n",
    "\n",
    "from expert.core.aggression.text_aggression.text_models_ru import Depreciation as DepreciationRu\n",
    "from expert.core.aggression.text_aggression.text_models_ru import Imperative as ImperiveRu\n",
    "from expert.core.aggression.text_aggression.text_models_ru import Toxic as ToxicRu\n",
    "\n",
    "\n",
    "class TextAggression:\n",
    "    def __init__(\n",
    "        self,\n",
    "        # words_path\n",
    "        fragments: Union[str, List[str]],\n",
    "        lang: str = 'en',\n",
    "        device: torch.device | None = None\n",
    "    ) -> None:\n",
    "        if lang not in ['en', 'ru']:\n",
    "            raise NameError\n",
    "\n",
    "        self.lang = lang\n",
    "        self._device = torch.device(\"cpu\")\n",
    "        self.analysis_result = []\n",
    "        # if device is not None:\n",
    "        #     self._device = device\n",
    "        #     self.model.to(self._device)\\\n",
    "        self.fragments = fragments\n",
    "        self.div_aud_agg = []\n",
    "        if type(self.fragments) not in [str, list]:\n",
    "            raise ValueError(\"Fragments should be str or list\")\n",
    "\n",
    "    def is_imperative(self) -> List[bool]:\n",
    "        if self.lang == 'en':\n",
    "            imperative = ImperativeEn()\n",
    "\n",
    "            if type(self.fragments) is str:\n",
    "                return [imperative.is_imperative(self.fragments)]\n",
    "            elif type(self.fragments) is list:\n",
    "                result_list = []\n",
    "                for fragment in self.fragments:\n",
    "                    result_list.append(imperative.is_imperative(fragment))\n",
    "                return result_list\n",
    "            else:\n",
    "                raise ValueError('Input sents must be str or list')\n",
    "        elif self.lang == 'ru':\n",
    "            imperative = ImperiveRu()\n",
    "            if type(self.fragments) is str:\n",
    "                return [imperative.is_imperative(self.fragments)]\n",
    "            elif type(self.fragments) is list:\n",
    "                result_list = []\n",
    "                for fragment in self.fragments:\n",
    "                    result_list.append(imperative.is_imperative(fragment))\n",
    "                return result_list\n",
    "\n",
    "    def is_toxic(self) -> List[bool]:\n",
    "        if self.lang == 'en':\n",
    "            toxic = ToxicEn()\n",
    "            if type(self.fragments) is str:\n",
    "                return [toxic.is_toxic(self.fragments)]\n",
    "            elif type(self.fragments) is list:\n",
    "                result_list = []\n",
    "                for sent in self.fragments:\n",
    "                    result_list.append(toxic.is_toxic(sent))\n",
    "                return result_list\n",
    "\n",
    "        elif self.lang == 'ru':\n",
    "            toxic = ToxicRu('/expert/expert/core/aggression/text_aggression/aggressive-rus/app/data/rubert-toxic-detection')\n",
    "            if type(self.fragments) is str:\n",
    "                return [toxic.is_toxic(self.fragments)]\n",
    "            elif type(self.fragments) is list:\n",
    "                result_list = []\n",
    "                for fragment in self.fragments:\n",
    "                    result_list.append(toxic.is_toxic(fragment))\n",
    "                return result_list\n",
    "\n",
    "    def is_depreciation(self) -> int:\n",
    "        if self.lang == 'en':\n",
    "            depreciation = DepreciationEn()\n",
    "            if type(self.fragments) is str:\n",
    "                return [depreciation.is_deprication(self.fragments)]\n",
    "            elif type(self.fragments) is list:\n",
    "                result_list = []\n",
    "                for fragment in self.fragments:\n",
    "                    result_list.append(depreciation.is_deprication(fragment))\n",
    "                return result_list\n",
    "        elif self.lang == 'ru':\n",
    "            depreciation = DepreciationRu()\n",
    "            if type(self.fragments) is str:\n",
    "                return [len(depreciation.is_depreciation(self.fragments)[1])]\n",
    "            elif type(self.fragments) is list:\n",
    "                result_list = []\n",
    "                for fragment in self.fragments:\n",
    "                    result_list.append(len(depreciation.is_depreciation(fragment)[1]))\n",
    "                return result_list\n",
    "\n",
    "    @property\n",
    "    def device(self) -> torch.device:\n",
    "        \"\"\"Check the device type.\"\"\"\n",
    "        return self._device\n",
    "\n",
    "\n",
    "    def get_report(self):\n",
    "\n",
    "        self.analysis_result.append(self.is_depreciation())\n",
    "        self.analysis_result.append(self.is_imperative())\n",
    "        self.analysis_result.append(self.is_toxic())\n",
    "\n",
    "        toxic_part = 0\n",
    "        deprecation_part = 0\n",
    "        imperative_part = 0\n",
    "\n",
    "        for num in range(len(self.analysis_result[0])):\n",
    "            self.div_aud_agg.append({'num_deprecation': self.analysis_result[0][num],\n",
    "                                    'is_imperative': self.analysis_result[1][num],\n",
    "                                     'is_toxic': self.analysis_result[2][num]})\n",
    "            if self.analysis_result[0][num] > 0:\n",
    "                deprecation_part += 1\n",
    "            if self.analysis_result[1][num]:\n",
    "                imperative_part += 1\n",
    "            if self.analysis_result[2][num]:\n",
    "                toxic_part += 1\n",
    "        self.full_aud_agg = {'toxic_part': toxic_part / len(self.div_aud_agg),\n",
    "                      'imperative_part': imperative_part / len(self.div_aud_agg),\n",
    "                      'deprecation_part': deprecation_part / len(self.div_aud_agg)\n",
    "                      }\n",
    "\n",
    "        return (\n",
    "            self.div_aud_agg,\n",
    "            self.full_aud_agg\n",
    "        )"
   ]
  },
  {
   "cell_type": "code",
   "execution_count": 8,
   "metadata": {},
   "outputs": [],
   "source": [
    "import json\n",
    "with open('/home/izs/Projects/expert/expert/core/aggression/text_aggression/words.json') as f:\n",
    "    all_words = json.load(f)"
   ]
  },
  {
   "cell_type": "code",
   "execution_count": 5,
   "metadata": {},
   "outputs": [],
   "source": [
    "def get_phrases(all_words: list, duration: int = 10) -> list:\n",
    "    \"\"\"Split transcribed text into segments of a fixed length.\n",
    "    \n",
    "    Args:\n",
    "        all_words (List): All stamps with words from the transcribed text.\n",
    "        duration (int, optional): Length of intervals for extracting phrases from speech. Defaults to 10.\n",
    "    \"\"\"\n",
    "    phrases = []\n",
    "    \n",
    "    assert len(all_words) > 1, \"Not enough words in text.\"\n",
    "    \n",
    "    while all_words:\n",
    "        init_elem = all_words.pop(0)\n",
    "        phrase = init_elem[\"word\"]\n",
    "        time_left = duration - (init_elem[\"end\"] - init_elem[\"start\"])\n",
    "        end_time = init_elem[\"end\"]\n",
    "        if time_left < 0:\n",
    "            phrases.append({\"time\": [init_elem[\"start\"], init_elem[\"end\"]], \"text\": phrase})\n",
    "            time_left -= init_elem[\"end\"] - end_time\n",
    "            end_time = init_elem[\"end\"]\n",
    "            continue\n",
    "        while time_left > 0 and all_words:\n",
    "            elem = all_words.pop(0)\n",
    "            phrase = phrase + \" \" + elem[\"word\"]\n",
    "            time_left -= elem[\"end\"] - end_time\n",
    "            end_time = elem[\"end\"]\n",
    "        else:\n",
    "            phrases.append({\"time\": [init_elem[\"start\"], elem[\"end\"]], \"text\": phrase})\n",
    "    \n",
    "    return phrases"
   ]
  },
  {
   "cell_type": "code",
   "execution_count": 10,
   "metadata": {},
   "outputs": [],
   "source": [
    "ph = get_phrases(all_words)"
   ]
  },
  {
   "cell_type": "code",
   "execution_count": 14,
   "metadata": {},
   "outputs": [],
   "source": [
    "ph = [ttt['text'] for ttt in ph]"
   ]
  },
  {
   "cell_type": "code",
   "execution_count": 19,
   "metadata": {},
   "outputs": [],
   "source": [
    "test = TextAggression(fragments=ph, lang='ru', device='cuda')"
   ]
  },
  {
   "cell_type": "code",
   "execution_count": 20,
   "metadata": {},
   "outputs": [
    {
     "data": {
      "text/plain": [
       "([{'num_deprecation': 0, 'is_imperative': False, 'is_toxic': False},\n",
       "  {'num_deprecation': 0, 'is_imperative': False, 'is_toxic': False},\n",
       "  {'num_deprecation': 0, 'is_imperative': False, 'is_toxic': False}],\n",
       " {'toxic_part': 0.0, 'imperative_part': 0.0, 'deprecation_part': 0.0})"
      ]
     },
     "execution_count": 20,
     "metadata": {},
     "output_type": "execute_result"
    }
   ],
   "source": [
    "test.get_report()"
   ]
  },
  {
   "cell_type": "code",
   "execution_count": 1,
   "metadata": {},
   "outputs": [],
   "source": [
    "text  = \"\"\"You know, fuck you, American democracy is under attack because the defeated former President of the United States refuses to accept the results of the 2020 election. He refuses to accept the will of the people. He refuses to accept the fact that he lost. He has abused his power cling trutte and put the loyalty to himself before loyally the Constitution. Open the doors, HAL, please.< And he's made a big lie, an article of faith in the Magier Republican Party, the minority of that party. Write it down, the great irony about the 2020 election is that it's the most attacked election in our history. Stop it, will you. And yet, and yet. There's no election in our history that we can be more certain of its results. Every legal little cutie challenge that could have been brought was brought. Every recount that could have been undertaken was undertaken. Every recount confirmed the results. This institution, this intimidation, this violence against Democrats, Republicans, and nonpartisan officials just doing their jobs are the consequence of lies told for power and profit, lies of conspiracy and malice, lies repeated over and over to generate a cycle of anger, hate, vitriol, and even violence. In this shit moment, we have to confront those lies with the truth. You have to do it. Stop The very future of our nation depends on it. My fellow Americans, we're facing a defining moment, an inflection point, when we must with one overwhelming unified voice speak as a country and say there's no place, no place, for voter intimidation or political violence in America, whether it's directed at Democrats or Republicans. \"\"\"\n",
    "sents = text.split('.')"
   ]
  },
  {
   "cell_type": "code",
   "execution_count": 2,
   "metadata": {},
   "outputs": [
    {
     "data": {
      "text/plain": [
       "['You know, fuck you, American democracy is under attack because the defeated former President of the United States refuses to accept the results of the 2020 election',\n",
       " ' He refuses to accept the will of the people',\n",
       " ' He refuses to accept the fact that he lost',\n",
       " ' He has abused his power cling trutte and put the loyalty to himself before loyally the Constitution',\n",
       " ' Open the doors, HAL, please',\n",
       " \"< And he's made a big lie, an article of faith in the Magier Republican Party, the minority of that party\",\n",
       " \" Write it down, the great irony about the 2020 election is that it's the most attacked election in our history\",\n",
       " ' Stop it, will you',\n",
       " ' And yet, and yet',\n",
       " \" There's no election in our history that we can be more certain of its results\",\n",
       " ' Every legal little cutie challenge that could have been brought was brought',\n",
       " ' Every recount that could have been undertaken was undertaken',\n",
       " ' Every recount confirmed the results',\n",
       " ' This institution, this intimidation, this violence against Democrats, Republicans, and nonpartisan officials just doing their jobs are the consequence of lies told for power and profit, lies of conspiracy and malice, lies repeated over and over to generate a cycle of anger, hate, vitriol, and even violence',\n",
       " ' In this shit moment, we have to confront those lies with the truth',\n",
       " ' You have to do it',\n",
       " ' Stop The very future of our nation depends on it',\n",
       " \" My fellow Americans, we're facing a defining moment, an inflection point, when we must with one overwhelming unified voice speak as a country and say there's no place, no place, for voter intimidation or political violence in America, whether it's directed at Democrats or Republicans\",\n",
       " ' ']"
      ]
     },
     "execution_count": 2,
     "metadata": {},
     "output_type": "execute_result"
    }
   ],
   "source": [
    "sents"
   ]
  },
  {
   "cell_type": "code",
   "execution_count": 12,
   "metadata": {},
   "outputs": [],
   "source": [
    "from expert.core.aggression.text_aggression.text_analysis import TextAggression"
   ]
  },
  {
   "cell_type": "code",
   "execution_count": 4,
   "metadata": {},
   "outputs": [],
   "source": [
    "test = TextAggression(fragments=sents[:-1], device='cpu')"
   ]
  },
  {
   "cell_type": "code",
   "execution_count": 5,
   "metadata": {},
   "outputs": [
    {
     "name": "stderr",
     "output_type": "stream",
     "text": [
      "/home/izs/.local/lib/python3.10/site-packages/huggingface_hub/file_download.py:594: FutureWarning: `cached_download` is the legacy way to download files from the HF hub, please consider upgrading to `hf_hub_download`\n",
      "  warnings.warn(\n"
     ]
    },
    {
     "name": "stdout",
     "output_type": "stream",
     "text": [
      "2023-02-17 17:43:00,990 loading file /home/izs/.flair/models/pos-english-fast/36f7923039eed4c66e4275927daaff6cd275997d61d238355fb1fe0338fe10a1.ff87e5b4e47fdb42a0c00237d9506c671db773e0a7932179ace82e584383a1b8\n",
      "2023-02-17 17:43:01,146 SequenceTagger predicts: Dictionary with 53 tags: <unk>, O, UH, ,, VBD, PRP, VB, PRP$, NN, RB, ., DT, JJ, VBP, VBG, IN, CD, NNS, NNP, WRB, VBZ, WDT, CC, TO, MD, VBN, WP, :, RP, EX, JJR, FW, XX, HYPH, POS, RBR, JJS, PDT, NNPS, RBS, AFX, WP$, -LRB-, -RRB-, ``, '', LS, $, SYM, ADD\n",
      "Token[5]: \"cling\" → NN (0.9573)\n"
     ]
    }
   ],
   "source": [
    "a, b = test.get_report()"
   ]
  },
  {
   "cell_type": "code",
   "execution_count": 6,
   "metadata": {},
   "outputs": [
    {
     "data": {
      "text/plain": [
       "[{'num_deprecation': 0, 'is_imperative': False, 'is_toxic': True},\n",
       " {'num_deprecation': 0, 'is_imperative': False, 'is_toxic': False},\n",
       " {'num_deprecation': 0, 'is_imperative': False, 'is_toxic': False},\n",
       " {'num_deprecation': 1, 'is_imperative': False, 'is_toxic': False},\n",
       " {'num_deprecation': 0, 'is_imperative': False, 'is_toxic': False},\n",
       " {'num_deprecation': 0, 'is_imperative': False, 'is_toxic': False},\n",
       " {'num_deprecation': 0, 'is_imperative': False, 'is_toxic': False},\n",
       " {'num_deprecation': 0, 'is_imperative': True, 'is_toxic': False},\n",
       " {'num_deprecation': 0, 'is_imperative': False, 'is_toxic': False},\n",
       " {'num_deprecation': 0, 'is_imperative': False, 'is_toxic': False},\n",
       " {'num_deprecation': 0, 'is_imperative': False, 'is_toxic': False},\n",
       " {'num_deprecation': 0, 'is_imperative': False, 'is_toxic': False},\n",
       " {'num_deprecation': 0, 'is_imperative': False, 'is_toxic': False},\n",
       " {'num_deprecation': 0, 'is_imperative': False, 'is_toxic': False},\n",
       " {'num_deprecation': 0, 'is_imperative': False, 'is_toxic': True},\n",
       " {'num_deprecation': 0, 'is_imperative': False, 'is_toxic': False},\n",
       " {'num_deprecation': 0, 'is_imperative': False, 'is_toxic': False},\n",
       " {'num_deprecation': 0, 'is_imperative': False, 'is_toxic': False}]"
      ]
     },
     "execution_count": 6,
     "metadata": {},
     "output_type": "execute_result"
    }
   ],
   "source": [
    "a"
   ]
  },
  {
   "cell_type": "code",
   "execution_count": 7,
   "metadata": {},
   "outputs": [
    {
     "data": {
      "text/plain": [
       "{'toxic_part': 0.1111111111111111,\n",
       " 'imperative_part': 0.05555555555555555,\n",
       " 'deprecation_part': 0.05555555555555555}"
      ]
     },
     "execution_count": 7,
     "metadata": {},
     "output_type": "execute_result"
    }
   ],
   "source": [
    "b"
   ]
  },
  {
   "cell_type": "code",
   "execution_count": 8,
   "metadata": {},
   "outputs": [],
   "source": [
    "text_ru = ' студентов и тмон, которые сделали... Нет, на самом деле это данные соответствующей реальности, это данные соответствующих сайтов, где милые дамы оставляют свои геотеги, квартиры, где они находятся. Так вот, если посмотреть на эти данные, видно, что все скопления желтые пятны, это все скопление вокруг станции метро, то есть совсем не в звероподобный водитель джипа, которому приехать куда угодно, и являются основными пользы всем. А пользы в тлиметро, которые больше, то есть, фактически даже такие загадочные процессы, которые никто не видит, они тоже зависят в городской транспортной сети. Понятно, что где есть потоки людей, там появляются и предложения. Так вот, эта гипотеза сама по себе, она может быть заложена в модели, которые и определяют потоки грязных, криминальных денег в Санкт-Петербурге. Сюда вкладывается все, то есть, от бабушек с семечками у метро, которые просто не торгуют, не лицензировано, и таксистов с поленой водкой багажники, до проститута, и наркотиков и жизнью. Вот здесь вот голубые места, скопления микро... голубые точки, давайте, коллеги, я еще раз перезапущу, голубые облакают скопление микрантов, а точки это посвяну и данные, это звонки зарегистрированные.'\n",
    "sents_rus = text_ru.split('.')"
   ]
  },
  {
   "cell_type": "code",
   "execution_count": 9,
   "metadata": {},
   "outputs": [],
   "source": [
    "while '' in sents_rus:\n",
    "    sents_rus.remove('')"
   ]
  },
  {
   "cell_type": "code",
   "execution_count": 10,
   "metadata": {},
   "outputs": [],
   "source": [
    "test = TextAggression(fragments=sents_rus, lang='ru', device='cpu')"
   ]
  },
  {
   "cell_type": "code",
   "execution_count": 11,
   "metadata": {},
   "outputs": [
    {
     "data": {
      "text/plain": [
       "[]"
      ]
     },
     "execution_count": 11,
     "metadata": {},
     "output_type": "execute_result"
    }
   ],
   "source": [
    "test.analysis_result"
   ]
  },
  {
   "cell_type": "code",
   "execution_count": 12,
   "metadata": {},
   "outputs": [],
   "source": [
    "a, b = test.get_report()"
   ]
  },
  {
   "cell_type": "code",
   "execution_count": 13,
   "metadata": {},
   "outputs": [
    {
     "data": {
      "text/plain": [
       "[{'num_deprecation': 0, 'is_imperative': False, 'is_toxic': False},\n",
       " {'num_deprecation': 0, 'is_imperative': False, 'is_toxic': False},\n",
       " {'num_deprecation': 0, 'is_imperative': False, 'is_toxic': False},\n",
       " {'num_deprecation': 0, 'is_imperative': False, 'is_toxic': False},\n",
       " {'num_deprecation': 1, 'is_imperative': False, 'is_toxic': False},\n",
       " {'num_deprecation': 1, 'is_imperative': False, 'is_toxic': False},\n",
       " {'num_deprecation': 4, 'is_imperative': False, 'is_toxic': False},\n",
       " {'num_deprecation': 0, 'is_imperative': False, 'is_toxic': False},\n",
       " {'num_deprecation': 2, 'is_imperative': False, 'is_toxic': False}]"
      ]
     },
     "execution_count": 13,
     "metadata": {},
     "output_type": "execute_result"
    }
   ],
   "source": [
    "a"
   ]
  },
  {
   "cell_type": "code",
   "execution_count": 14,
   "metadata": {},
   "outputs": [
    {
     "data": {
      "text/plain": [
       "{'toxic_part': 0.0,\n",
       " 'imperative_part': 0.0,\n",
       " 'deprecation_part': 0.4444444444444444}"
      ]
     },
     "execution_count": 14,
     "metadata": {},
     "output_type": "execute_result"
    }
   ],
   "source": [
    "b"
   ]
  },
  {
   "cell_type": "code",
   "execution_count": null,
   "metadata": {},
   "outputs": [],
   "source": []
  },
  {
   "cell_type": "code",
   "execution_count": null,
   "metadata": {},
   "outputs": [],
   "source": []
  },
  {
   "attachments": {},
   "cell_type": "markdown",
   "metadata": {},
   "source": [
    "### STT"
   ]
  },
  {
   "cell_type": "code",
   "execution_count": 1,
   "metadata": {},
   "outputs": [
    {
     "name": "stderr",
     "output_type": "stream",
     "text": [
      "/home/ismirnov/.conda-envs/segmentation/lib/python3.8/site-packages/tqdm/auto.py:22: TqdmWarning: IProgress not found. Please update jupyter and ipywidgets. See https://ipywidgets.readthedocs.io/en/stable/user_install.html\n",
      "  from .autonotebook import tqdm as notebook_tqdm\n",
      "[nltk_data] Downloading package omw-1.4 to /home/ismirnov/nltk_data...\n",
      "[nltk_data]   Package omw-1.4 is already up-to-date!\n"
     ]
    }
   ],
   "source": [
    "from expert.data.annotation import speech_to_text"
   ]
  },
  {
   "cell_type": "code",
   "execution_count": 2,
   "metadata": {},
   "outputs": [],
   "source": [
    "file_path = '/home/ismirnov/workspace/ml-server/app/libs/videos/ru_en_example.mp4'"
   ]
  },
  {
   "cell_type": "code",
   "execution_count": 3,
   "metadata": {},
   "outputs": [],
   "source": [
    "ttt = speech_to_text.transcribe_video(file_path, lang='ru', model='server')"
   ]
  },
  {
   "cell_type": "code",
   "execution_count": 4,
   "metadata": {},
   "outputs": [],
   "source": [
    "all_words = speech_to_text.get_all_words(ttt)"
   ]
  },
  {
   "cell_type": "code",
   "execution_count": 5,
   "metadata": {},
   "outputs": [
    {
     "data": {
      "text/plain": [
       "{'text': 'affordable.', 'start': 213.3, 'end': 213.78, 'confidence': 0.992}"
      ]
     },
     "execution_count": 5,
     "metadata": {},
     "output_type": "execute_result"
    }
   ],
   "source": [
    "all_words[0][-1]"
   ]
  },
  {
   "cell_type": "code",
   "execution_count": 6,
   "metadata": {},
   "outputs": [
    {
     "data": {
      "text/plain": [
       "([{'text': 'Рядом', 'start': 0.2, 'end': 0.5, 'confidence': 0.708},\n",
       "  {'text': 'со', 'start': 0.5, 'end': 0.6, 'confidence': 0.987},\n",
       "  {'text': 'мной', 'start': 0.6, 'end': 0.82, 'confidence': 0.989},\n",
       "  {'text': 'находится', 'start': 0.82, 'end': 1.38, 'confidence': 0.975},\n",
       "  {'text': 'менеджер', 'start': 1.38, 'end': 1.98, 'confidence': 0.996},\n",
       "  {'text': 'этого', 'start': 1.98, 'end': 2.2, 'confidence': 0.826},\n",
       "  {'text': 'салона', 'start': 2.2, 'end': 2.62, 'confidence': 0.967},\n",
       "  {'text': 'магазина', 'start': 2.62, 'end': 3.14, 'confidence': 0.825},\n",
       "  {'text': 'Зои', 'start': 3.14, 'end': 3.48, 'confidence': 0.514},\n",
       "  {'text': 'Виксельштейн,', 'start': 3.48, 'end': 4.0, 'confidence': 0.86},\n",
       "  {'text': 'которая', 'start': 4.02, 'end': 4.28, 'confidence': 0.917},\n",
       "  {'text': 'любезно', 'start': 4.28, 'end': 4.7, 'confidence': 0.934},\n",
       "  {'text': 'согласилась', 'start': 4.7, 'end': 5.16, 'confidence': 0.995},\n",
       "  {'text': 'ответить', 'start': 5.16, 'end': 5.64, 'confidence': 0.993},\n",
       "  {'text': 'на', 'start': 5.64, 'end': 5.78, 'confidence': 0.99},\n",
       "  {'text': 'наши', 'start': 5.78, 'end': 6.06, 'confidence': 0.988},\n",
       "  {'text': 'вопросы.', 'start': 6.06, 'end': 6.54, 'confidence': 0.998},\n",
       "  {'text': 'Ну', 'start': 6.84, 'end': 7.04, 'confidence': 0.488},\n",
       "  {'text': 'и', 'start': 7.04, 'end': 7.14, 'confidence': 0.775},\n",
       "  {'text': 'первый', 'start': 7.14, 'end': 7.3, 'confidence': 0.935},\n",
       "  {'text': 'вопрос', 'start': 7.3, 'end': 7.7, 'confidence': 0.998},\n",
       "  {'text': 'именно', 'start': 7.7, 'end': 8.24, 'confidence': 0.915},\n",
       "  {'text': 'о', 'start': 8.24, 'end': 8.82, 'confidence': 0.96},\n",
       "  {'text': 'дизайнере.', 'start': 8.82, 'end': 9.48, 'confidence': 0.955},\n",
       "  {'text': 'Почему', 'start': 9.5, 'end': 9.92, 'confidence': 0.706},\n",
       "  {'text': 'именно', 'start': 9.92, 'end': 10.4, 'confidence': 0.995},\n",
       "  {'text': 'Саймон', 'start': 10.4, 'end': 10.84, 'confidence': 0.916},\n",
       "  {'text': 'Чэнь?', 'start': 10.84, 'end': 11.06, 'confidence': 0.642},\n",
       "  {'text': 'В', 'start': 11.46, 'end': 11.6, 'confidence': 0.625},\n",
       "  {'text': 'Мир', 'start': 11.6, 'end': 11.78, 'confidence': 0.813},\n",
       "  {'text': 'Моды', 'start': 11.78, 'end': 11.98, 'confidence': 0.563},\n",
       "  {'text': 'сегодня', 'start': 11.98, 'end': 12.28, 'confidence': 0.966},\n",
       "  {'text': 'насчитывает', 'start': 12.28, 'end': 12.7, 'confidence': 0.956},\n",
       "  {'text': 'огромное', 'start': 12.7, 'end': 13.14, 'confidence': 0.997},\n",
       "  {'text': 'количество', 'start': 13.14, 'end': 13.52, 'confidence': 0.994},\n",
       "  {'text': 'дизайнеров.', 'start': 13.52, 'end': 14.0, 'confidence': 0.999},\n",
       "  {'text': 'Почему', 'start': 14.0, 'end': 14.42, 'confidence': 0.998},\n",
       "  {'text': 'вы', 'start': 14.42, 'end': 14.56, 'confidence': 0.544},\n",
       "  {'text': 'предпочитаете', 'start': 14.56, 'end': 15.18, 'confidence': 0.996},\n",
       "  {'text': 'работать', 'start': 15.18, 'end': 15.66, 'confidence': 0.992},\n",
       "  {'text': 'с', 'start': 15.66, 'end': 15.94, 'confidence': 0.994},\n",
       "  {'text': 'этим', 'start': 15.94, 'end': 16.18, 'confidence': 0.999},\n",
       "  {'text': 'человеком?', 'start': 16.18, 'end': 16.54, 'confidence': 0.999},\n",
       "  {'text': 'В-первых,', 'start': 17.5, 'end': 17.82, 'confidence': 0.632},\n",
       "  {'text': 'он', 'start': 17.86, 'end': 18.02, 'confidence': 0.998},\n",
       "  {'text': 'великолепный', 'start': 18.02, 'end': 18.66, 'confidence': 0.994},\n",
       "  {'text': 'человек.', 'start': 18.66, 'end': 19.16, 'confidence': 0.999},\n",
       "  {'text': 'Его', 'start': 20.04, 'end': 20.28, 'confidence': 0.517},\n",
       "  {'text': 'дизайнеры', 'start': 20.28, 'end': 21.26, 'confidence': 0.882},\n",
       "  {'text': 'могут', 'start': 21.26, 'end': 21.56, 'confidence': 0.971},\n",
       "  {'text': 'носить', 'start': 21.56, 'end': 22.02, 'confidence': 0.986},\n",
       "  {'text': 'любого', 'start': 22.02, 'end': 22.44, 'confidence': 0.976},\n",
       "  {'text': 'возраста,', 'start': 22.44, 'end': 23.12, 'confidence': 0.995},\n",
       "  {'text': 'любого', 'start': 23.5, 'end': 24.12, 'confidence': 0.84},\n",
       "  {'text': 'шейп,', 'start': 24.12, 'end': 24.88, 'confidence': 0.666},\n",
       "  {'text': 'сайз,', 'start': 25.06, 'end': 25.96, 'confidence': 0.743},\n",
       "  {'text': 'хайт.', 'start': 26.14, 'end': 26.74, 'confidence': 0.595},\n",
       "  {'text': 'И', 'start': 27.4, 'end': 27.92, 'confidence': 0.495},\n",
       "  {'text': 'он', 'start': 27.92, 'end': 28.28, 'confidence': 0.985},\n",
       "  {'text': 'timeless.', 'start': 28.28, 'end': 28.88, 'confidence': 0.798},\n",
       "  {'text': 'Я', 'start': 29.5, 'end': 30.62, 'confidence': 0.683},\n",
       "  {'text': 'его', 'start': 30.62, 'end': 30.74, 'confidence': 0.567},\n",
       "  {'text': 'имею', 'start': 30.74, 'end': 31.08, 'confidence': 0.765},\n",
       "  {'text': 'в', 'start': 31.08, 'end': 31.42, 'confidence': 0.832},\n",
       "  {'text': 'вещи', 'start': 31.42, 'end': 31.46, 'confidence': 0.166},\n",
       "  {'text': 'еще,', 'start': 31.46, 'end': 32.04, 'confidence': 0.299},\n",
       "  {'text': 'я', 'start': 32.06, 'end': 32.24, 'confidence': 0.947},\n",
       "  {'text': 'помню', 'start': 32.24, 'end': 33.4, 'confidence': 0.998},\n",
       "  {'text': 'первый', 'start': 33.4, 'end': 33.48, 'confidence': 0.512},\n",
       "  {'text': 'сют,', 'start': 33.48, 'end': 34.04, 'confidence': 0.639},\n",
       "  {'text': 'когда', 'start': 34.4, 'end': 34.62, 'confidence': 0.835},\n",
       "  {'text': 'мне', 'start': 34.62, 'end': 34.74, 'confidence': 0.982},\n",
       "  {'text': 'было', 'start': 34.74, 'end': 34.98, 'confidence': 0.986},\n",
       "  {'text': '18', 'start': 34.98, 'end': 35.3, 'confidence': 0.783},\n",
       "  {'text': 'лет,', 'start': 35.3, 'end': 35.46, 'confidence': 0.993},\n",
       "  {'text': 'мой', 'start': 35.5, 'end': 36.02, 'confidence': 0.915},\n",
       "  {'text': 'джабинтервис', 'start': 36.02, 'end': 36.74, 'confidence': 0.418},\n",
       "  {'text': 'сют,', 'start': 36.74, 'end': 37.0, 'confidence': 0.807},\n",
       "  {'text': 'он', 'start': 37.06, 'end': 37.18, 'confidence': 0.864},\n",
       "  {'text': 'у', 'start': 37.18, 'end': 37.22, 'confidence': 0.698},\n",
       "  {'text': 'меня', 'start': 37.22, 'end': 37.36, 'confidence': 0.996},\n",
       "  {'text': 'еще', 'start': 37.36, 'end': 37.62, 'confidence': 0.906},\n",
       "  {'text': 'есть,', 'start': 37.62, 'end': 38.06, 'confidence': 0.725},\n",
       "  {'text': 'просто', 'start': 38.16, 'end': 38.42, 'confidence': 0.869},\n",
       "  {'text': 'с', 'start': 38.42, 'end': 38.62, 'confidence': 0.681},\n",
       "  {'text': 'фонт,', 'start': 38.62, 'end': 39.02, 'confidence': 0.582},\n",
       "  {'text': 'remember.', 'start': 39.04, 'end': 39.4, 'confidence': 0.34},\n",
       "  {'text': 'Его', 'start': 39.5, 'end': 40.78, 'confidence': 0.988},\n",
       "  {'text': 'все', 'start': 40.78, 'end': 40.98, 'confidence': 0.998},\n",
       "  {'text': 'любят,', 'start': 40.98, 'end': 41.28, 'confidence': 0.998},\n",
       "  {'text': 'его', 'start': 41.4, 'end': 41.48, 'confidence': 0.972},\n",
       "  {'text': 'все', 'start': 41.48, 'end': 41.7, 'confidence': 0.996},\n",
       "  {'text': 'уважают.', 'start': 41.7, 'end': 42.32, 'confidence': 0.99},\n",
       "  {'text': 'Он', 'start': 42.58, 'end': 42.74, 'confidence': 0.603},\n",
       "  {'text': 'очень', 'start': 42.74, 'end': 42.98, 'confidence': 0.991},\n",
       "  {'text': 'много', 'start': 42.98, 'end': 43.22, 'confidence': 0.998},\n",
       "  {'text': 'сделал', 'start': 43.22, 'end': 43.7, 'confidence': 0.891},\n",
       "  {'text': 'для', 'start': 43.7, 'end': 45.08, 'confidence': 0.936},\n",
       "  {'text': 'фондрейзинг,', 'start': 45.08, 'end': 46.38, 'confidence': 0.649},\n",
       "  {'text': 'для', 'start': 46.38, 'end': 47.24, 'confidence': 0.993},\n",
       "  {'text': 'Cancer', 'start': 47.24, 'end': 47.6, 'confidence': 0.629},\n",
       "  {'text': 'Society.', 'start': 47.6, 'end': 48.32, 'confidence': 0.969},\n",
       "  {'text': 'Он', 'start': 48.54, 'end': 48.78, 'confidence': 0.936},\n",
       "  {'text': 'очень', 'start': 48.78, 'end': 49.1, 'confidence': 0.994},\n",
       "  {'text': 'хорошо', 'start': 49.1, 'end': 49.38, 'confidence': 0.996},\n",
       "  {'text': 'дружит', 'start': 49.38, 'end': 49.72, 'confidence': 0.984},\n",
       "  {'text': 'с', 'start': 49.72, 'end': 49.86, 'confidence': 0.933},\n",
       "  {'text': 'Салин', 'start': 49.86, 'end': 50.06, 'confidence': 0.625},\n",
       "  {'text': 'Диан.', 'start': 50.06, 'end': 50.34, 'confidence': 0.481},\n",
       "  {'text': 'Они', 'start': 50.4, 'end': 50.68, 'confidence': 0.992},\n",
       "  {'text': 'сделали', 'start': 50.68, 'end': 51.4, 'confidence': 0.993},\n",
       "  {'text': 'специальный', 'start': 51.4, 'end': 52.34, 'confidence': 0.96},\n",
       "  {'text': 'программ', 'start': 52.34, 'end': 53.2, 'confidence': 0.953},\n",
       "  {'text': 'for', 'start': 53.2, 'end': 53.44, 'confidence': 0.627},\n",
       "  {'text': 'cancer', 'start': 53.44, 'end': 54.24, 'confidence': 0.494},\n",
       "  {'text': 'research.', 'start': 54.24, 'end': 54.82, 'confidence': 0.522},\n",
       "  {'text': 'Много', 'start': 55.22, 'end': 55.66, 'confidence': 0.557},\n",
       "  {'text': 'денег', 'start': 55.66, 'end': 56.02, 'confidence': 0.967},\n",
       "  {'text': 'вложили.', 'start': 56.02, 'end': 56.68, 'confidence': 0.967},\n",
       "  {'text': 'И', 'start': 57.24, 'end': 57.42, 'confidence': 0.914},\n",
       "  {'text': 'он', 'start': 57.42, 'end': 57.72, 'confidence': 0.985},\n",
       "  {'text': 'очень', 'start': 57.72, 'end': 58.0, 'confidence': 0.985},\n",
       "  {'text': 'хороший', 'start': 58.0, 'end': 58.36, 'confidence': 0.996},\n",
       "  {'text': 'человек,', 'start': 58.36, 'end': 58.88, 'confidence': 0.996},\n",
       "  {'text': 'он', 'start': 59.06, 'end': 59.12, 'confidence': 0.742},\n",
       "  {'text': 'великолепный.', 'start': 59.12, 'end': 59.85, 'confidence': 0.995},\n",
       "  {'text': 'Он', 'start': 59.85, 'end': 62.1, 'confidence': 0.89},\n",
       "  {'text': 'сам,', 'start': 62.1, 'end': 62.48, 'confidence': 0.977},\n",
       "  {'text': 'как', 'start': 62.58, 'end': 62.84, 'confidence': 0.723},\n",
       "  {'text': 'человек,', 'start': 62.84, 'end': 63.3, 'confidence': 0.69},\n",
       "  {'text': 'больше', 'start': 64.12, 'end': 64.68, 'confidence': 0.52},\n",
       "  {'text': 'чем', 'start': 64.68, 'end': 65.06, 'confidence': 0.224},\n",
       "  {'text': 'жизнь.', 'start': 65.06, 'end': 65.4, 'confidence': 0.777},\n",
       "  {'text': 'И', 'start': 66.3, 'end': 66.54, 'confidence': 0.783},\n",
       "  {'text': 'он', 'start': 66.54, 'end': 66.68, 'confidence': 0.99},\n",
       "  {'text': 'делает', 'start': 66.68, 'end': 66.98, 'confidence': 0.69},\n",
       "  {'text': 'замечательного', 'start': 66.98, 'end': 67.7, 'confidence': 0.525},\n",
       "  {'text': 'дизайнера.', 'start': 67.7, 'end': 68.14, 'confidence': 0.937},\n",
       "  {'text': 'Он', 'start': 68.16, 'end': 68.34, 'confidence': 0.873},\n",
       "  {'text': 'очень', 'start': 68.34, 'end': 68.58, 'confidence': 0.99},\n",
       "  {'text': 'доступный.', 'start': 68.58, 'end': 69.12, 'confidence': 0.274},\n",
       "  {'text': 'Может', 'start': 69.5, 'end': 70.0, 'confidence': 0.458},\n",
       "  {'text': 'зайти', 'start': 70.0, 'end': 70.28, 'confidence': 0.941},\n",
       "  {'text': 'женщина', 'start': 70.28, 'end': 70.78, 'confidence': 0.975},\n",
       "  {'text': 'одеться', 'start': 70.78, 'end': 71.34, 'confidence': 0.724},\n",
       "  {'text': 'с', 'start': 71.34, 'end': 71.56, 'confidence': 0.25},\n",
       "  {'text': 'джинсом,', 'start': 71.56, 'end': 72.22, 'confidence': 0.576},\n",
       "  {'text': 'с', 'start': 72.4, 'end': 72.56, 'confidence': 0.275},\n",
       "  {'text': 'шуру,', 'start': 72.56, 'end': 73.14, 'confidence': 0.163},\n",
       "  {'text': 'с', 'start': 73.16, 'end': 73.36, 'confidence': 0.593},\n",
       "  {'text': 'вечеринкой.', 'start': 73.36, 'end': 73.92, 'confidence': 0.399},\n",
       "  {'text': 'Бизнесwoman', 'start': 74.5, 'end': 75.24, 'confidence': 0.267},\n",
       "  {'text': 'может', 'start': 75.24, 'end': 75.56, 'confidence': 0.979},\n",
       "  {'text': 'зайти,', 'start': 75.56, 'end': 75.92, 'confidence': 0.993},\n",
       "  {'text': 'одеться', 'start': 76.04, 'end': 76.5, 'confidence': 0.992},\n",
       "  {'text': 'бизнес', 'start': 76.5, 'end': 76.86, 'confidence': 0.598},\n",
       "  {'text': 'сют.', 'start': 76.86, 'end': 77.18, 'confidence': 0.734},\n",
       "  {'text': 'Это', 'start': 77.5, 'end': 77.76, 'confidence': 0.843},\n",
       "  {'text': 'очень', 'start': 77.76, 'end': 78.12, 'confidence': 0.997},\n",
       "  {'text': 'важно', 'start': 78.12, 'end': 78.68, 'confidence': 0.61},\n",
       "  {'text': 'для', 'start': 78.68, 'end': 79.24, 'confidence': 0.982},\n",
       "  {'text': 'сегодняшнего', 'start': 79.24, 'end': 80.12, 'confidence': 0.891},\n",
       "  {'text': 'экономии.', 'start': 80.12, 'end': 80.98, 'confidence': 0.933},\n",
       "  {'text': 'Особенно,', 'start': 81.14, 'end': 81.8, 'confidence': 0.656},\n",
       "  {'text': 'потому', 'start': 81.84, 'end': 81.88, 'confidence': 0.317},\n",
       "  {'text': 'что', 'start': 81.88, 'end': 81.92, 'confidence': 0.882},\n",
       "  {'text': 'у', 'start': 81.92, 'end': 81.96, 'confidence': 0.395},\n",
       "  {'text': 'него', 'start': 81.96, 'end': 82.16, 'confidence': 0.936},\n",
       "  {'text': 'цены', 'start': 82.16, 'end': 82.84, 'confidence': 0.238},\n",
       "  {'text': 'очень-очень', 'start': 82.84, 'end': 84.04, 'confidence': 0.601},\n",
       "  {'text': 'вредны.', 'start': 84.04, 'end': 84.6, 'confidence': 0.085},\n",
       "  {'text': 'Я', 'start': 84.98, 'end': 85.32, 'confidence': 0.926},\n",
       "  {'text': 'знаю,', 'start': 85.32, 'end': 85.56, 'confidence': 0.992},\n",
       "  {'text': 'что', 'start': 85.76, 'end': 85.9, 'confidence': 0.982},\n",
       "  {'text': 'вы', 'start': 85.9, 'end': 86.22, 'confidence': 0.883},\n",
       "  {'text': 'много', 'start': 86.22, 'end': 86.62, 'confidence': 0.946},\n",
       "  {'text': 'лет', 'start': 86.62, 'end': 86.88, 'confidence': 0.989},\n",
       "  {'text': 'связаны', 'start': 86.88, 'end': 87.36, 'confidence': 0.985},\n",
       "  {'text': 'с', 'start': 87.36, 'end': 87.5, 'confidence': 0.99},\n",
       "  {'text': 'миром', 'start': 87.5, 'end': 87.8, 'confidence': 0.644},\n",
       "  {'text': 'моды.', 'start': 87.8, 'end': 88.0, 'confidence': 0.757},\n",
       "  {'text': 'Вот', 'start': 88.04, 'end': 88.24, 'confidence': 0.645},\n",
       "  {'text': 'немножко', 'start': 88.24, 'end': 88.6, 'confidence': 0.887},\n",
       "  {'text': 'о', 'start': 88.6, 'end': 88.8, 'confidence': 0.997},\n",
       "  {'text': 'себе.', 'start': 88.8, 'end': 89.08, 'confidence': 0.998},\n",
       "  {'text': 'Мы', 'start': 89.2, 'end': 89.5, 'confidence': 0.962},\n",
       "  {'text': 'слышали', 'start': 89.5, 'end': 89.88, 'confidence': 0.995},\n",
       "  {'text': 'много', 'start': 89.88, 'end': 90.1, 'confidence': 0.968},\n",
       "  {'text': 'приятных', 'start': 90.1, 'end': 90.6, 'confidence': 0.992},\n",
       "  {'text': 'слов', 'start': 90.6, 'end': 90.86, 'confidence': 0.986},\n",
       "  {'text': 'в', 'start': 90.86, 'end': 91.02, 'confidence': 0.884},\n",
       "  {'text': 'адрес', 'start': 91.02, 'end': 91.6, 'confidence': 0.996},\n",
       "  {'text': 'господина', 'start': 91.6, 'end': 92.2, 'confidence': 0.84},\n",
       "  {'text': 'Чэнг,', 'start': 92.2, 'end': 92.42, 'confidence': 0.648},\n",
       "  {'text': 'ну', 'start': 92.44, 'end': 92.62, 'confidence': 0.695},\n",
       "  {'text': 'а', 'start': 92.62, 'end': 92.74, 'confidence': 0.828},\n",
       "  {'text': 'теперь', 'start': 92.74, 'end': 92.98, 'confidence': 0.996},\n",
       "  {'text': 'пару', 'start': 92.98, 'end': 93.22, 'confidence': 0.835},\n",
       "  {'text': 'слов', 'start': 93.22, 'end': 93.8, 'confidence': 0.997},\n",
       "  {'text': 'не', 'start': 93.8, 'end': 94.08, 'confidence': 0.455},\n",
       "  {'text': 'с', 'start': 94.08, 'end': 94.2, 'confidence': 0.707},\n",
       "  {'text': 'укропных', 'start': 94.2, 'end': 94.6, 'confidence': 0.582},\n",
       "  {'text': 'о', 'start': 94.6, 'end': 94.82, 'confidence': 0.921},\n",
       "  {'text': 'себе.', 'start': 94.82, 'end': 95.0, 'confidence': 0.998},\n",
       "  {'text': 'Обо', 'start': 95.5, 'end': 96.18, 'confidence': 0.51},\n",
       "  {'text': 'мне.', 'start': 96.18, 'end': 96.42, 'confidence': 0.994},\n",
       "  {'text': 'Я', 'start': 96.6, 'end': 96.88, 'confidence': 0.918},\n",
       "  {'text': 'открыла', 'start': 96.88, 'end': 97.28, 'confidence': 0.995},\n",
       "  {'text': 'мой', 'start': 97.28, 'end': 97.5, 'confidence': 0.931},\n",
       "  {'text': 'первый', 'start': 97.5, 'end': 97.88, 'confidence': 0.996},\n",
       "  {'text': 'магазин,', 'start': 97.88, 'end': 98.54, 'confidence': 0.999},\n",
       "  {'text': 'это', 'start': 98.56, 'end': 98.72, 'confidence': 0.869},\n",
       "  {'text': 'было', 'start': 98.72, 'end': 98.86, 'confidence': 0.968},\n",
       "  {'text': '20', 'start': 98.86, 'end': 99.26, 'confidence': 0.942},\n",
       "  {'text': 'лет', 'start': 99.26, 'end': 99.56, 'confidence': 0.999},\n",
       "  {'text': 'тому', 'start': 99.56, 'end': 99.72, 'confidence': 0.958},\n",
       "  {'text': 'назад,', 'start': 99.72, 'end': 100.18, 'confidence': 0.972},\n",
       "  {'text': 'downtown.', 'start': 100.62, 'end': 100.79, 'confidence': 0.435},\n",
       "  {'text': 'Назывался', 'start': 100.79, 'end': 101.72, 'confidence': 0.961},\n",
       "  {'text': \"Zoe's\", 'start': 101.72, 'end': 102.16, 'confidence': 0.546},\n",
       "  {'text': 'Fashion.', 'start': 102.16, 'end': 102.5, 'confidence': 0.821},\n",
       "  {'text': 'С', 'start': 104.56, 'end': 105.16, 'confidence': 0.514},\n",
       "  {'text': 'людьми', 'start': 105.16, 'end': 105.56, 'confidence': 0.997},\n",
       "  {'text': 'я', 'start': 105.56, 'end': 105.8, 'confidence': 0.956},\n",
       "  {'text': 'работаю', 'start': 105.8, 'end': 106.06, 'confidence': 0.994},\n",
       "  {'text': 'много', 'start': 106.06, 'end': 106.34, 'confidence': 0.994},\n",
       "  {'text': 'лет.', 'start': 106.34, 'end': 106.46, 'confidence': 0.999},\n",
       "  {'text': 'Эти', 'start': 106.5, 'end': 106.88, 'confidence': 0.867},\n",
       "  {'text': 'же', 'start': 106.88, 'end': 107.0, 'confidence': 0.962},\n",
       "  {'text': 'clients', 'start': 107.0, 'end': 107.42, 'confidence': 0.855},\n",
       "  {'text': 'ко', 'start': 107.42, 'end': 107.5, 'confidence': 0.991},\n",
       "  {'text': 'мне', 'start': 107.5, 'end': 107.7, 'confidence': 1.0},\n",
       "  {'text': 'приходят.', 'start': 107.7, 'end': 108.5, 'confidence': 0.996},\n",
       "  {'text': 'Я', 'start': 109.38, 'end': 109.52, 'confidence': 0.838},\n",
       "  {'text': 'их', 'start': 109.52, 'end': 109.68, 'confidence': 0.989},\n",
       "  {'text': 'обожаю', 'start': 109.68, 'end': 110.16, 'confidence': 0.998},\n",
       "  {'text': 'одевать.', 'start': 110.16, 'end': 110.46, 'confidence': 0.986},\n",
       "  {'text': 'Я', 'start': 111.0, 'end': 112.22, 'confidence': 0.941},\n",
       "  {'text': 'знаю', 'start': 112.22, 'end': 112.68, 'confidence': 0.991},\n",
       "  {'text': 'все', 'start': 112.68, 'end': 113.16, 'confidence': 0.395},\n",
       "  {'text': 'о', 'start': 113.16, 'end': 113.42, 'confidence': 0.581},\n",
       "  {'text': 'них,', 'start': 113.42, 'end': 113.46, 'confidence': 0.997},\n",
       "  {'text': 'какой', 'start': 113.54, 'end': 113.74, 'confidence': 0.86},\n",
       "  {'text': 'у', 'start': 113.74, 'end': 113.78, 'confidence': 0.937},\n",
       "  {'text': 'них', 'start': 113.78, 'end': 113.96, 'confidence': 0.999},\n",
       "  {'text': 'wardrobe.', 'start': 113.96, 'end': 114.46, 'confidence': 0.869},\n",
       "  {'text': 'Мы', 'start': 114.5, 'end': 115.86, 'confidence': 0.809},\n",
       "  {'text': 'делаем', 'start': 115.86, 'end': 116.28, 'confidence': 0.98},\n",
       "  {'text': 'здесь', 'start': 116.28, 'end': 116.5, 'confidence': 0.514},\n",
       "  {'text': 'amazing', 'start': 116.5, 'end': 117.02, 'confidence': 0.571},\n",
       "  {'text': 'customer', 'start': 117.02, 'end': 117.56, 'confidence': 0.982},\n",
       "  {'text': 'service.', 'start': 117.56, 'end': 118.02, 'confidence': 0.962},\n",
       "  {'text': 'У', 'start': 118.3, 'end': 118.38, 'confidence': 0.487},\n",
       "  {'text': 'меня', 'start': 118.38, 'end': 118.56, 'confidence': 0.994},\n",
       "  {'text': 'хороший', 'start': 118.56, 'end': 118.94, 'confidence': 0.982},\n",
       "  {'text': 'staff', 'start': 118.94, 'end': 119.26, 'confidence': 0.667},\n",
       "  {'text': 'с', 'start': 119.26, 'end': 119.36, 'confidence': 0.799},\n",
       "  {'text': 'нами', 'start': 119.36, 'end': 119.62, 'confidence': 0.997},\n",
       "  {'text': 'работает.', 'start': 119.62, 'end': 120.18, 'confidence': 0.965},\n",
       "  {'text': 'Этот', 'start': 120.5, 'end': 120.82, 'confidence': 0.685},\n",
       "  {'text': 'staff', 'start': 120.82, 'end': 121.12, 'confidence': 0.98},\n",
       "  {'text': 'уже', 'start': 121.12, 'end': 121.32, 'confidence': 0.736},\n",
       "  {'text': 'со', 'start': 121.32, 'end': 121.44, 'confidence': 0.97},\n",
       "  {'text': 'мной', 'start': 121.44, 'end': 121.7, 'confidence': 0.999},\n",
       "  {'text': 'почти', 'start': 121.7, 'end': 121.96, 'confidence': 0.857},\n",
       "  {'text': '20', 'start': 121.96, 'end': 122.36, 'confidence': 0.988},\n",
       "  {'text': 'лет', 'start': 122.36, 'end': 122.62, 'confidence': 0.999},\n",
       "  {'text': 'работает.', 'start': 122.62, 'end': 123.14, 'confidence': 0.987},\n",
       "  {'text': 'И', 'start': 123.5, 'end': 123.96, 'confidence': 0.679},\n",
       "  {'text': 'второй', 'start': 123.96, 'end': 124.12, 'confidence': 0.965},\n",
       "  {'text': 'магазин', 'start': 124.12, 'end': 124.52, 'confidence': 0.997},\n",
       "  {'text': 'мы', 'start': 124.52, 'end': 124.66, 'confidence': 0.981},\n",
       "  {'text': 'открыли', 'start': 124.66, 'end': 124.94, 'confidence': 0.989},\n",
       "  {'text': 'на', 'start': 124.94, 'end': 125.14, 'confidence': 0.971},\n",
       "  {'text': 'Promenade', 'start': 125.14, 'end': 125.54, 'confidence': 0.748},\n",
       "  {'text': 'Mall.', 'start': 125.54, 'end': 125.84, 'confidence': 0.715},\n",
       "  {'text': 'И', 'start': 126.5, 'end': 127.1, 'confidence': 0.657},\n",
       "  {'text': 'я', 'start': 127.1, 'end': 127.24, 'confidence': 0.996},\n",
       "  {'text': 'решила', 'start': 127.24, 'end': 127.68, 'confidence': 0.998},\n",
       "  {'text': 'venture', 'start': 127.68, 'end': 128.48, 'confidence': 0.658},\n",
       "  {'text': 'на', 'start': 128.48, 'end': 128.84, 'confidence': 0.952},\n",
       "  {'text': 'что-то', 'start': 128.84, 'end': 129.16, 'confidence': 0.991},\n",
       "  {'text': 'больше.', 'start': 129.16, 'end': 129.46, 'confidence': 0.993},\n",
       "  {'text': 'Вот', 'start': 129.5, 'end': 131.22, 'confidence': 0.594},\n",
       "  {'text': 'это', 'start': 131.22, 'end': 131.4, 'confidence': 0.972},\n",
       "  {'text': 'мой', 'start': 131.4, 'end': 131.74, 'confidence': 0.54},\n",
       "  {'text': 'venture,', 'start': 131.74, 'end': 132.14, 'confidence': 0.975},\n",
       "  {'text': 'это', 'start': 132.3, 'end': 132.48, 'confidence': 0.573},\n",
       "  {'text': 'был', 'start': 132.48, 'end': 132.68, 'confidence': 0.99},\n",
       "  {'text': 'Simon', 'start': 132.68, 'end': 132.92, 'confidence': 0.445},\n",
       "  {'text': 'Chain', 'start': 132.92, 'end': 133.18, 'confidence': 0.164},\n",
       "  {'text': 'магазин.', 'start': 133.18, 'end': 133.76, 'confidence': 0.955},\n",
       "  {'text': 'Zoe,', 'start': 134.42, 'end': 134.68, 'confidence': 0.367},\n",
       "  {'text': 'наступает', 'start': 134.78, 'end': 135.38, 'confidence': 0.983},\n",
       "  {'text': 'весенний', 'start': 135.38, 'end': 136.3, 'confidence': 0.927},\n",
       "  {'text': 'летний', 'start': 136.3, 'end': 136.78, 'confidence': 0.607},\n",
       "  {'text': 'сезон.', 'start': 136.78, 'end': 137.14, 'confidence': 0.998},\n",
       "  {'text': 'Самый', 'start': 137.22, 'end': 137.58, 'confidence': 0.863},\n",
       "  {'text': 'яркий,', 'start': 137.58, 'end': 138.04, 'confidence': 0.996},\n",
       "  {'text': 'наверное,', 'start': 138.06, 'end': 138.42, 'confidence': 0.883},\n",
       "  {'text': 'по', 'start': 138.56, 'end': 138.64, 'confidence': 0.987},\n",
       "  {'text': 'краскам,', 'start': 138.64, 'end': 139.16, 'confidence': 0.996},\n",
       "  {'text': 'самый', 'start': 139.44, 'end': 139.56, 'confidence': 0.954},\n",
       "  {'text': 'любимый', 'start': 139.56, 'end': 140.08, 'confidence': 0.997},\n",
       "  {'text': 'женщинами.', 'start': 140.08, 'end': 140.46, 'confidence': 0.904},\n",
       "  {'text': 'Вот', 'start': 140.5, 'end': 140.88, 'confidence': 0.698},\n",
       "  {'text': 'что', 'start': 140.88, 'end': 141.2, 'confidence': 0.961},\n",
       "  {'text': 'модно,', 'start': 141.2, 'end': 141.68, 'confidence': 0.965},\n",
       "  {'text': 'вы', 'start': 141.7, 'end': 141.8, 'confidence': 0.939},\n",
       "  {'text': 'как', 'start': 141.8, 'end': 141.94, 'confidence': 0.81},\n",
       "  {'text': 'специалист', 'start': 141.94, 'end': 142.48, 'confidence': 0.992},\n",
       "  {'text': 'моды,', 'start': 142.48, 'end': 142.82, 'confidence': 0.943},\n",
       "  {'text': 'как', 'start': 142.98, 'end': 143.02, 'confidence': 0.952},\n",
       "  {'text': 'никто', 'start': 143.02, 'end': 143.22, 'confidence': 0.976},\n",
       "  {'text': 'иной', 'start': 143.22, 'end': 143.5, 'confidence': 0.98},\n",
       "  {'text': 'можете', 'start': 143.5, 'end': 144.0, 'confidence': 0.467},\n",
       "  {'text': 'нам', 'start': 144.0, 'end': 144.52, 'confidence': 0.949},\n",
       "  {'text': 'сказать,', 'start': 144.52, 'end': 144.86, 'confidence': 0.952},\n",
       "  {'text': 'что', 'start': 144.88, 'end': 145.16, 'confidence': 0.62},\n",
       "  {'text': 'модно', 'start': 145.16, 'end': 145.66, 'confidence': 0.991},\n",
       "  {'text': 'в', 'start': 145.66, 'end': 145.84, 'confidence': 0.923},\n",
       "  {'text': 'этом', 'start': 145.84, 'end': 146.0, 'confidence': 0.994},\n",
       "  {'text': 'сезоне.', 'start': 146.0, 'end': 146.4, 'confidence': 0.997},\n",
       "  {'text': 'На', 'start': 146.4, 'end': 146.84, 'confidence': 0.991},\n",
       "  {'text': 'ваш', 'start': 146.84, 'end': 146.98, 'confidence': 0.973},\n",
       "  {'text': 'взгляд', 'start': 146.98, 'end': 147.32, 'confidence': 0.999},\n",
       "  {'text': 'и', 'start': 147.32, 'end': 147.48, 'confidence': 0.931},\n",
       "  {'text': 'на', 'start': 147.48, 'end': 147.64, 'confidence': 0.984},\n",
       "  {'text': 'взгляд', 'start': 147.64, 'end': 147.94, 'confidence': 0.999},\n",
       "  {'text': 'Simon', 'start': 147.94, 'end': 148.36, 'confidence': 0.478},\n",
       "  {'text': 'Chain.', 'start': 148.36, 'end': 148.64, 'confidence': 0.953},\n",
       "  {'text': 'Красивые', 'start': 149.5, 'end': 150.62, 'confidence': 0.987},\n",
       "  {'text': 'цвета.', 'start': 150.62, 'end': 151.22, 'confidence': 0.996},\n",
       "  {'text': 'Все', 'start': 151.38, 'end': 151.66, 'confidence': 0.971},\n",
       "  {'text': 'цвета,', 'start': 151.66, 'end': 152.16, 'confidence': 0.996},\n",
       "  {'text': 'что', 'start': 152.18, 'end': 152.4, 'confidence': 0.991},\n",
       "  {'text': 'есть', 'start': 152.4, 'end': 152.92, 'confidence': 0.999},\n",
       "  {'text': 'модные.', 'start': 152.92, 'end': 154.0, 'confidence': 0.605},\n",
       "  {'text': 'Красный,', 'start': 154.1, 'end': 154.74, 'confidence': 0.568},\n",
       "  {'text': 'черный,', 'start': 154.8, 'end': 155.52, 'confidence': 0.973},\n",
       "  {'text': 'hot', 'start': 155.76, 'end': 156.14, 'confidence': 0.635},\n",
       "  {'text': 'pink,', 'start': 156.14, 'end': 156.58, 'confidence': 0.991},\n",
       "  {'text': 'apple', 'start': 157.62, 'end': 157.94, 'confidence': 0.942},\n",
       "  {'text': 'green,', 'start': 157.94, 'end': 158.5, 'confidence': 0.952},\n",
       "  {'text': 'citrus', 'start': 158.96, 'end': 159.38, 'confidence': 0.945},\n",
       "  {'text': 'orange,', 'start': 159.38, 'end': 160.14, 'confidence': 0.992},\n",
       "  {'text': 'mango', 'start': 160.64, 'end': 161.08, 'confidence': 0.781},\n",
       "  {'text': 'colors.', 'start': 161.08, 'end': 161.58, 'confidence': 0.91},\n",
       "  {'text': 'Шелк', 'start': 162.34, 'end': 162.96, 'confidence': 0.77},\n",
       "  {'text': 'очень', 'start': 162.96, 'end': 163.26, 'confidence': 0.886},\n",
       "  {'text': 'модно.', 'start': 163.26, 'end': 163.62, 'confidence': 0.882},\n",
       "  {'text': 'Очень', 'start': 163.66, 'end': 163.88, 'confidence': 0.864},\n",
       "  {'text': 'модно', 'start': 163.88, 'end': 164.16, 'confidence': 0.744},\n",
       "  {'text': 'пиджаки', 'start': 164.16, 'end': 164.82, 'confidence': 0.934},\n",
       "  {'text': 'с', 'start': 164.82, 'end': 165.22, 'confidence': 0.919},\n",
       "  {'text': 'какими-то', 'start': 165.22, 'end': 165.84, 'confidence': 0.958},\n",
       "  {'text': 'details.', 'start': 165.84, 'end': 166.5, 'confidence': 0.938},\n",
       "  {'text': 'Брюки', 'start': 167.26, 'end': 167.86, 'confidence': 0.85},\n",
       "  {'text': 'модно,', 'start': 167.86, 'end': 168.26, 'confidence': 0.957},\n",
       "  {'text': 'capri', 'start': 168.42, 'end': 168.78, 'confidence': 0.775},\n",
       "  {'text': 'pants', 'start': 168.78, 'end': 169.12, 'confidence': 0.968},\n",
       "  {'text': 'модно.', 'start': 169.12, 'end': 169.68, 'confidence': 0.979},\n",
       "  {'text': 'И', 'start': 170.5, 'end': 170.8, 'confidence': 0.862},\n",
       "  {'text': 'это', 'start': 170.8, 'end': 171.08, 'confidence': 0.946},\n",
       "  {'text': 'все', 'start': 171.08, 'end': 171.28, 'confidence': 0.957},\n",
       "  {'text': 'он', 'start': 171.28, 'end': 171.56, 'confidence': 0.918},\n",
       "  {'text': 'дизайн.', 'start': 171.56, 'end': 171.98, 'confidence': 0.912},\n",
       "  {'text': 'Джинсы', 'start': 172.02, 'end': 172.42, 'confidence': 0.838},\n",
       "  {'text': 'он', 'start': 172.42, 'end': 172.54, 'confidence': 0.943},\n",
       "  {'text': 'очень', 'start': 172.54, 'end': 172.78, 'confidence': 0.987},\n",
       "  {'text': 'красивые', 'start': 172.78, 'end': 173.3, 'confidence': 0.934},\n",
       "  {'text': 'делает.', 'start': 173.3, 'end': 173.68, 'confidence': 0.99},\n",
       "  {'text': 'Можно', 'start': 173.76, 'end': 174.06, 'confidence': 0.973},\n",
       "  {'text': 'надеть', 'start': 174.06, 'end': 174.38, 'confidence': 0.819},\n",
       "  {'text': 'capri', 'start': 174.38, 'end': 174.8, 'confidence': 0.9},\n",
       "  {'text': 'jeans,', 'start': 174.8, 'end': 175.14, 'confidence': 0.813},\n",
       "  {'text': 'красивый', 'start': 175.32, 'end': 175.74, 'confidence': 0.875},\n",
       "  {'text': 'блузк', 'start': 175.74, 'end': 176.56, 'confidence': 0.72},\n",
       "  {'text': 'под', 'start': 176.56, 'end': 176.78, 'confidence': 0.955},\n",
       "  {'text': 'низ', 'start': 176.78, 'end': 177.04, 'confidence': 0.655},\n",
       "  {'text': 'и', 'start': 177.04, 'end': 177.18, 'confidence': 0.434},\n",
       "  {'text': 'на', 'start': 177.18, 'end': 177.3, 'confidence': 0.475},\n",
       "  {'text': 'кинут', 'start': 177.3, 'end': 177.58, 'confidence': 0.291},\n",
       "  {'text': 'с', 'start': 177.58, 'end': 177.76, 'confidence': 0.185},\n",
       "  {'text': 'jacket.', 'start': 177.76, 'end': 178.1, 'confidence': 0.597},\n",
       "  {'text': 'Можно', 'start': 178.4, 'end': 178.66, 'confidence': 0.524},\n",
       "  {'text': 'так', 'start': 178.66, 'end': 178.86, 'confidence': 0.826},\n",
       "  {'text': 'на', 'start': 178.86, 'end': 179.0, 'confidence': 0.951},\n",
       "  {'text': 'работу', 'start': 179.0, 'end': 179.26, 'confidence': 0.996},\n",
       "  {'text': 'тоже', 'start': 179.26, 'end': 179.66, 'confidence': 0.979},\n",
       "  {'text': 'выйти.', 'start': 179.66, 'end': 179.98, 'confidence': 0.987},\n",
       "  {'text': 'Можно', 'start': 180.04, 'end': 180.3, 'confidence': 0.808},\n",
       "  {'text': 'так', 'start': 180.3, 'end': 180.78, 'confidence': 0.893},\n",
       "  {'text': 'пойти', 'start': 180.78, 'end': 181.14, 'confidence': 0.994},\n",
       "  {'text': 'погулять', 'start': 181.14, 'end': 181.72, 'confidence': 0.809},\n",
       "  {'text': 'потом.', 'start': 181.72, 'end': 182.12, 'confidence': 0.995},\n",
       "  {'text': 'Так', 'start': 182.5, 'end': 182.72, 'confidence': 0.876},\n",
       "  {'text': 'что', 'start': 182.72, 'end': 182.88, 'confidence': 0.993},\n",
       "  {'text': 'он', 'start': 182.88, 'end': 183.32, 'confidence': 0.933},\n",
       "  {'text': 'universal.', 'start': 183.32, 'end': 184.02, 'confidence': 0.962},\n",
       "  {'text': 'И', 'start': 185.16, 'end': 185.64, 'confidence': 0.703},\n",
       "  {'text': 'модно', 'start': 185.64, 'end': 186.16, 'confidence': 0.97},\n",
       "  {'text': 'все.', 'start': 186.16, 'end': 186.38, 'confidence': 0.946},\n",
       "  {'text': 'Его', 'start': 187.02, 'end': 187.34, 'confidence': 0.551},\n",
       "  {'text': 'prices,', 'start': 187.34, 'end': 188.08, 'confidence': 0.721},\n",
       "  {'text': 'у', 'start': 189.06, 'end': 189.12, 'confidence': 0.733},\n",
       "  {'text': 'него', 'start': 189.12, 'end': 189.4, 'confidence': 0.998},\n",
       "  {'text': 'look', 'start': 189.4, 'end': 189.74, 'confidence': 0.935},\n",
       "  {'text': 'couture', 'start': 189.74, 'end': 190.62, 'confidence': 0.958},\n",
       "  {'text': 'без', 'start': 190.62, 'end': 191.14, 'confidence': 0.566},\n",
       "  {'text': 'этих', 'start': 191.14, 'end': 191.46, 'confidence': 0.957},\n",
       "  {'text': 'couture', 'start': 191.46, 'end': 191.84, 'confidence': 0.966},\n",
       "  {'text': 'prices.', 'start': 191.84, 'end': 192.28, 'confidence': 0.942},\n",
       "  {'text': 'У', 'start': 192.5, 'end': 192.94, 'confidence': 0.98},\n",
       "  {'text': 'него', 'start': 192.94, 'end': 193.68, 'confidence': 0.981},\n",
       "  {'text': 'вечерние', 'start': 193.68, 'end': 194.34, 'confidence': 0.891},\n",
       "  {'text': 'платья', 'start': 194.34, 'end': 194.76, 'confidence': 0.986},\n",
       "  {'text': 'начинаются', 'start': 194.76, 'end': 195.6, 'confidence': 0.866},\n",
       "  {'text': 'от', 'start': 195.6, 'end': 196.94, 'confidence': 0.977},\n",
       "  {'text': '280', 'start': 196.94, 'end': 198.04, 'confidence': 0.884},\n",
       "  {'text': 'до', 'start': 198.04, 'end': 198.44, 'confidence': 0.984},\n",
       "  {'text': '450.', 'start': 198.44, 'end': 199.16, 'confidence': 0.993},\n",
       "  {'text': 'Его', 'start': 200.16, 'end': 200.46, 'confidence': 0.967},\n",
       "  {'text': 'костюмы,', 'start': 200.46, 'end': 201.3, 'confidence': 0.995},\n",
       "  {'text': 'смотря', 'start': 201.5, 'end': 201.86, 'confidence': 0.996},\n",
       "  {'text': 'какой', 'start': 201.86, 'end': 202.14, 'confidence': 0.884},\n",
       "  {'text': 'фабрик,', 'start': 202.14, 'end': 202.78, 'confidence': 0.898},\n",
       "  {'text': 'смотря', 'start': 202.98, 'end': 203.22, 'confidence': 0.98},\n",
       "  {'text': 'откуда', 'start': 203.22, 'end': 203.56, 'confidence': 0.919},\n",
       "  {'text': 'приходит', 'start': 203.56, 'end': 204.12, 'confidence': 0.99},\n",
       "  {'text': 'фабрик,', 'start': 204.12, 'end': 204.66, 'confidence': 0.997},\n",
       "  {'text': 'смотря', 'start': 204.78, 'end': 205.02, 'confidence': 0.934},\n",
       "  {'text': 'сколько', 'start': 205.02, 'end': 205.32, 'confidence': 0.931},\n",
       "  {'text': 'details', 'start': 205.32, 'end': 206.1, 'confidence': 0.966},\n",
       "  {'text': 'в', 'start': 206.1, 'end': 206.4, 'confidence': 0.961},\n",
       "  {'text': 'этом', 'start': 206.4, 'end': 206.54, 'confidence': 0.981},\n",
       "  {'text': 'пиджаке.', 'start': 206.54, 'end': 207.13, 'confidence': 0.993},\n",
       "  {'text': 'Может', 'start': 207.13, 'end': 207.62, 'confidence': 0.834},\n",
       "  {'text': 'на', 'start': 207.62, 'end': 208.26, 'confidence': 0.385},\n",
       "  {'text': 'price', 'start': 208.26, 'end': 208.52, 'confidence': 0.765},\n",
       "  {'text': '225,', 'start': 208.52, 'end': 209.84, 'confidence': 0.927},\n",
       "  {'text': 'а', 'start': 210.02, 'end': 210.06, 'confidence': 0.344},\n",
       "  {'text': 'самый', 'start': 210.06, 'end': 210.32, 'confidence': 0.511},\n",
       "  {'text': 'дорогой', 'start': 210.32, 'end': 210.7, 'confidence': 0.992},\n",
       "  {'text': '380.', 'start': 210.7, 'end': 211.78, 'confidence': 0.738},\n",
       "  {'text': 'Так', 'start': 212.1, 'end': 212.32, 'confidence': 0.73},\n",
       "  {'text': 'оно', 'start': 212.32, 'end': 212.62, 'confidence': 0.82},\n",
       "  {'text': 'очень-очень', 'start': 212.62, 'end': 213.3, 'confidence': 0.818},\n",
       "  {'text': 'affordable.', 'start': 213.3, 'end': 213.78, 'confidence': 0.992}],\n",
       " \" Рядом со мной находится менеджер этого салона магазина Зои Виксельштейн, которая любезно согласилась ответить на наши вопросы. Ну и первый вопрос именно о дизайнере. Почему именно Саймон Чэнь? В Мир Моды сегодня насчитывает огромное количество дизайнеров. Почему вы предпочитаете работать с этим человеком? В-первых, он великолепный человек. Его дизайнеры могут носить любого возраста, любого шейп, сайз, хайт. И он timeless. Я его имею в вещи еще, я помню первый сют, когда мне было 18 лет, мой джабинтервис сют, он у меня еще есть, просто с фонт, remember. Его все любят, его все уважают. Он очень много сделал для фондрейзинг, для Cancer Society. Он очень хорошо дружит с Салин Диан. Они сделали специальный программ for cancer research. Много денег вложили. И он очень хороший человек, он великолепный. Он сам, как человек, больше чем жизнь. И он делает замечательного дизайнера. Он очень доступный. Может зайти женщина одеться с джинсом, с шуру, с вечеринкой. Бизнесwoman может зайти, одеться бизнес сют. Это очень важно для сегодняшнего экономии. Особенно, потому что у него цены очень-очень вредны. Я знаю, что вы много лет связаны с миром моды. Вот немножко о себе. Мы слышали много приятных слов в адрес господина Чэнг, ну а теперь пару слов не с укропных о себе. Обо мне. Я открыла мой первый магазин, это было 20 лет тому назад, downtown. Назывался Zoe's Fashion. С людьми я работаю много лет. Эти же clients ко мне приходят. Я их обожаю одевать. Я знаю все о них, какой у них wardrobe. Мы делаем здесь amazing customer service. У меня хороший staff с нами работает. Этот staff уже со мной почти 20 лет работает. И второй магазин мы открыли на Promenade Mall. И я решила venture на что-то больше. Вот это мой venture, это был Simon Chain магазин. Zoe, наступает весенний летний сезон. Самый яркий, наверное, по краскам, самый любимый женщинами. Вот что модно, вы как специалист моды, как никто иной можете нам сказать, что модно в этом сезоне. На ваш взгляд и на взгляд Simon Chain. Красивые цвета. Все цвета, что есть модные. Красный, черный, hot pink, apple green, citrus orange, mango colors. Шелк очень модно. Очень модно пиджаки с какими-то details. Брюки модно, capri pants модно. И это все он дизайн. Джинсы он очень красивые делает. Можно надеть capri jeans, красивый блузк под низ и на кинут с jacket. Можно так на работу тоже выйти. Можно так пойти погулять потом. Так что он universal. И модно все. Его prices, у него look couture без этих couture prices. У него вечерние платья начинаются от 280 до 450. Его костюмы, смотря какой фабрик, смотря откуда приходит фабрик, смотря сколько details в этом пиджаке. Может на price 225, а самый дорогой 380. Так оно очень-очень affordable.\")"
      ]
     },
     "execution_count": 6,
     "metadata": {},
     "output_type": "execute_result"
    }
   ],
   "source": [
    "all_words"
   ]
  },
  {
   "cell_type": "code",
   "execution_count": 7,
   "metadata": {},
   "outputs": [
    {
     "data": {
      "text/plain": [
       "'именно Simon Cheng? В мире моды сегодня насчитывают огромное количество дизайнеров. Почему предпочитаете работать с этим человеком? Перех он били колебный человек. Его дизайн могут носить любого возраста, любого шейп, сайс, хайт и он timeless. Мне вовешить, я бы мне ввешить, что я помню первый сют, когда мне было 18 лет, мы же обинчивы сют. У меня еще не есть, просто сфант, remember.'"
      ]
     },
     "execution_count": 7,
     "metadata": {},
     "output_type": "execute_result"
    }
   ],
   "source": [
    "speech_to_text.between_timestamps(all_words[0], 10, 40)"
   ]
  },
  {
   "cell_type": "code",
   "execution_count": 58,
   "metadata": {},
   "outputs": [],
   "source": [
    "from typing import List, Dict\n",
    "\n",
    "def between_timestamps(all_words: List, start: float, end: float) -> str:\n",
    "    def _binary_search(stamps, val):\n",
    "        lowIdx, highIdx = 0, len(stamps) - 1\n",
    "        while highIdx > lowIdx:\n",
    "            idx = (highIdx + lowIdx) // 2\n",
    "            elem = stamps[idx]\n",
    "            if stamps[lowIdx] == val:\n",
    "                return [lowIdx, lowIdx]\n",
    "            elif elem == val:\n",
    "                return [idx, idx]\n",
    "            elif elem == val:\n",
    "                return [highIdx, highIdx]\n",
    "            elif elem > val:\n",
    "                if highIdx == idx:\n",
    "                    return [lowIdx, highIdx]\n",
    "                highIdx = idx\n",
    "            else:\n",
    "                if lowIdx == idx:\n",
    "                    return [lowIdx, highIdx]\n",
    "                lowIdx = idx\n",
    "        return [lowIdx, highIdx]\n",
    "    starts = [elem['start'] for elem in all_words]\n",
    "    ends = [elem['end'] for elem in all_words]\n",
    "    start_idx = min(_binary_search(starts, start))\n",
    "    end_idx = max(_binary_search(ends, end))\n",
    "    words = [elem['text'] for elem in all_words[start_idx:end_idx]]\n",
    "    return ' '.join(words)"
   ]
  },
  {
   "cell_type": "code",
   "execution_count": 57,
   "metadata": {},
   "outputs": [
    {
     "data": {
      "text/plain": [
       "({'text': 'Его', 'start': 19.98, 'end': 20.16, 'confidence': 0.828},\n",
       " {'text': 'вовешить,', 'start': 29.8, 'end': 30.46, 'confidence': 0.193})"
      ]
     },
     "execution_count": 57,
     "metadata": {},
     "output_type": "execute_result"
    }
   ],
   "source": [
    "all_words[0][47], all_words[0][61]"
   ]
  },
  {
   "cell_type": "code",
   "execution_count": 56,
   "metadata": {},
   "outputs": [
    {
     "name": "stdout",
     "output_type": "stream",
     "text": [
      "47 61\n"
     ]
    },
    {
     "data": {
      "text/plain": [
       "'Его дизайн могут носить любого возраста, любого шейп, сайс, хайт и он timeless. Мне'"
      ]
     },
     "execution_count": 56,
     "metadata": {},
     "output_type": "execute_result"
    }
   ],
   "source": [
    "between_timestamps(all_words[0], 20, 30)"
   ]
  },
  {
   "cell_type": "code",
   "execution_count": null,
   "metadata": {},
   "outputs": [],
   "source": []
  }
 ],
 "metadata": {
  "kernelspec": {
   "display_name": "Python 3",
   "language": "python",
   "name": "python3"
  },
  "language_info": {
   "codemirror_mode": {
    "name": "ipython",
    "version": 3
   },
   "file_extension": ".py",
   "mimetype": "text/x-python",
   "name": "python",
   "nbconvert_exporter": "python",
   "pygments_lexer": "ipython3",
   "version": "3.8.13"
  },
  "orig_nbformat": 4,
  "vscode": {
   "interpreter": {
    "hash": "916dbcbb3f70747c44a77c7bcd40155683ae19c65e1c03b4aa3499c5328201f1"
   }
  }
 },
 "nbformat": 4,
 "nbformat_minor": 2
}
